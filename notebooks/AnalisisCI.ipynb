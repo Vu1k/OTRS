{
 "cells": [
  {
   "cell_type": "markdown",
   "id": "spare-conclusion",
   "metadata": {},
   "source": [
    "## Analítica de Tickets OTRS CI Antecedente - Servicio Consecuente"
   ]
  },
  {
   "cell_type": "code",
   "execution_count": 1,
   "id": "dedicated-shareware",
   "metadata": {
    "slideshow": {
     "slide_type": "skip"
    },
    "tags": []
   },
   "outputs": [],
   "source": [
    "import numpy as np\n",
    "from datetime import datetime\n",
    "import matplotlib.pyplot as plt \n",
    "import mysql.connector\n",
    "import pandas as pd\n",
    "from mlxtend.frequent_patterns import apriori, association_rules"
   ]
  },
  {
   "cell_type": "markdown",
   "id": "chronic-basin",
   "metadata": {
    "slideshow": {
     "slide_type": "slide"
    }
   },
   "source": [
    "#### Conexión directa al MySQL del OTRS"
   ]
  },
  {
   "cell_type": "code",
   "execution_count": 2,
   "id": "timely-roman",
   "metadata": {
    "slideshow": {
     "slide_type": "skip"
    },
    "tags": []
   },
   "outputs": [],
   "source": [
    "otrs_user = 'usr_tronexotrs'\n",
    "otrs_pass = 'usr$otrs#56aN7Rt*mp1'"
   ]
  },
  {
   "cell_type": "code",
   "execution_count": 3,
   "id": "registered-confirmation",
   "metadata": {
    "slideshow": {
     "slide_type": "fragment"
    }
   },
   "outputs": [],
   "source": [
    "cnx = mysql.connector.connect(user=otrs_user, password=otrs_pass,\n",
    "                              host='pantermysql.cwqmr5tsjjh9.us-west-2.rds.amazonaws.com',\n",
    "                              database='tronex.otrs')"
   ]
  },
  {
   "cell_type": "code",
   "execution_count": 6,
   "id": "photographic-czech",
   "metadata": {
    "jupyter": {
     "source_hidden": true
    },
    "slideshow": {
     "slide_type": "skip"
    },
    "tags": []
   },
   "outputs": [],
   "source": [
    "query = ('SELECT T.title, S.* FROM `tronex.otrs`.itv_sabana_cmdb AS S INNER JOIN `tronex.otrs`.ticket AS T \\\n",
    "         ON S.ticket_id = T.id WHERE queue_id = 6 AND \\\n",
    "         customer_id NOT IN (\"soporte@sasaconsultoria.com\", \"telefonia@tronex.com\"\\\n",
    "         , \"serviciosit@tronex.com\") AND T.title not like \"%has low free space\" \\\n",
    "        AND user_id in (39, 53, 5) \\\n",
    "        AND ticket_state_id <> 9')\n",
    "\n",
    "df = pd.read_sql(query, con=cnx)"
   ]
  },
  {
   "cell_type": "markdown",
   "id": "northern-photographer",
   "metadata": {
    "slideshow": {
     "slide_type": "slide"
    }
   },
   "source": [
    "## Datamining - Reglas de asociación"
   ]
  },
  {
   "cell_type": "code",
   "execution_count": 9,
   "id": "11ab1e03",
   "metadata": {
    "scrolled": true
   },
   "outputs": [
    {
     "data": {
      "text/html": [
       "<div>\n",
       "<style scoped>\n",
       "    .dataframe tbody tr th:only-of-type {\n",
       "        vertical-align: middle;\n",
       "    }\n",
       "\n",
       "    .dataframe tbody tr th {\n",
       "        vertical-align: top;\n",
       "    }\n",
       "\n",
       "    .dataframe thead th {\n",
       "        text-align: right;\n",
       "    }\n",
       "</style>\n",
       "<table border=\"1\" class=\"dataframe\">\n",
       "  <thead>\n",
       "    <tr style=\"text-align: right;\">\n",
       "      <th></th>\n",
       "      <th>title</th>\n",
       "      <th>ticket_id</th>\n",
       "      <th>ticket_numero</th>\n",
       "      <th>elemento_cmdb</th>\n",
       "      <th>servicio</th>\n",
       "      <th>tipo_ticket</th>\n",
       "      <th>fecha_creacion</th>\n",
       "      <th>fecha</th>\n",
       "      <th>anio</th>\n",
       "      <th>mes</th>\n",
       "      <th>dia</th>\n",
       "      <th>fecha_generacion_consulta</th>\n",
       "    </tr>\n",
       "  </thead>\n",
       "  <tbody>\n",
       "    <tr>\n",
       "      <th>0</th>\n",
       "      <td>Error crear cliente ax</td>\n",
       "      <td>57971</td>\n",
       "      <td>2020050206000064</td>\n",
       "      <td>AX</td>\n",
       "      <td>ERP::ADMINISTRACION</td>\n",
       "      <td>REQUERIMENTO/SOLICITUD</td>\n",
       "      <td>2020-05-02 09:35:04</td>\n",
       "      <td>2020-05-02</td>\n",
       "      <td>2020</td>\n",
       "      <td>5</td>\n",
       "      <td>2</td>\n",
       "      <td>2021-06-17 07:42:11</td>\n",
       "    </tr>\n",
       "    <tr>\n",
       "      <th>1</th>\n",
       "      <td>Tiempo AX</td>\n",
       "      <td>57979</td>\n",
       "      <td>2020050406000015</td>\n",
       "      <td>AX</td>\n",
       "      <td>ERP::ADMINISTRACION</td>\n",
       "      <td>REQUERIMENTO/SOLICITUD</td>\n",
       "      <td>2020-05-04 06:20:04</td>\n",
       "      <td>2020-05-04</td>\n",
       "      <td>2020</td>\n",
       "      <td>5</td>\n",
       "      <td>4</td>\n",
       "      <td>2021-06-17 07:42:11</td>\n",
       "    </tr>\n",
       "    <tr>\n",
       "      <th>2</th>\n",
       "      <td>Novedad impresora</td>\n",
       "      <td>57980</td>\n",
       "      <td>2020050406000024</td>\n",
       "      <td>BOGT_P1_BN_02</td>\n",
       "      <td>IMPRESION ::IMPRESION</td>\n",
       "      <td>REQUERIMENTO/SOLICITUD</td>\n",
       "      <td>2020-05-04 06:50:04</td>\n",
       "      <td>2020-05-04</td>\n",
       "      <td>2020</td>\n",
       "      <td>5</td>\n",
       "      <td>4</td>\n",
       "      <td>2021-06-17 07:42:11</td>\n",
       "    </tr>\n",
       "    <tr>\n",
       "      <th>3</th>\n",
       "      <td>Subir plantillas AX</td>\n",
       "      <td>57985</td>\n",
       "      <td>2020050406000079</td>\n",
       "      <td>AX</td>\n",
       "      <td>ERP::ADMINISTRACION</td>\n",
       "      <td>REQUERIMENTO/SOLICITUD</td>\n",
       "      <td>2020-05-04 08:20:06</td>\n",
       "      <td>2020-05-04</td>\n",
       "      <td>2020</td>\n",
       "      <td>5</td>\n",
       "      <td>4</td>\n",
       "      <td>2021-06-17 07:42:11</td>\n",
       "    </tr>\n",
       "    <tr>\n",
       "      <th>4</th>\n",
       "      <td>Falla fortyclient</td>\n",
       "      <td>57986</td>\n",
       "      <td>2020050406000088</td>\n",
       "      <td>FORTICLIENTE - 5.4.1.0840</td>\n",
       "      <td>OFIMATICA::APLICACIONES DE ESCRITORIO</td>\n",
       "      <td>REQUERIMENTO/SOLICITUD</td>\n",
       "      <td>2020-05-04 09:05:04</td>\n",
       "      <td>2020-05-04</td>\n",
       "      <td>2020</td>\n",
       "      <td>5</td>\n",
       "      <td>4</td>\n",
       "      <td>2021-06-17 07:42:11</td>\n",
       "    </tr>\n",
       "  </tbody>\n",
       "</table>\n",
       "</div>"
      ],
      "text/plain": [
       "                    title  ticket_id     ticket_numero  \\\n",
       "0  Error crear cliente ax      57971  2020050206000064   \n",
       "1               Tiempo AX      57979  2020050406000015   \n",
       "2       Novedad impresora      57980  2020050406000024   \n",
       "3     Subir plantillas AX      57985  2020050406000079   \n",
       "4       Falla fortyclient      57986  2020050406000088   \n",
       "\n",
       "               elemento_cmdb                               servicio  \\\n",
       "0                         AX                    ERP::ADMINISTRACION   \n",
       "1                         AX                    ERP::ADMINISTRACION   \n",
       "2              BOGT_P1_BN_02                  IMPRESION ::IMPRESION   \n",
       "3                         AX                    ERP::ADMINISTRACION   \n",
       "4  FORTICLIENTE - 5.4.1.0840  OFIMATICA::APLICACIONES DE ESCRITORIO   \n",
       "\n",
       "              tipo_ticket      fecha_creacion       fecha  anio  mes  dia  \\\n",
       "0  REQUERIMENTO/SOLICITUD 2020-05-02 09:35:04  2020-05-02  2020    5    2   \n",
       "1  REQUERIMENTO/SOLICITUD 2020-05-04 06:20:04  2020-05-04  2020    5    4   \n",
       "2  REQUERIMENTO/SOLICITUD 2020-05-04 06:50:04  2020-05-04  2020    5    4   \n",
       "3  REQUERIMENTO/SOLICITUD 2020-05-04 08:20:06  2020-05-04  2020    5    4   \n",
       "4  REQUERIMENTO/SOLICITUD 2020-05-04 09:05:04  2020-05-04  2020    5    4   \n",
       "\n",
       "  fecha_generacion_consulta  \n",
       "0       2021-06-17 07:42:11  \n",
       "1       2021-06-17 07:42:11  \n",
       "2       2021-06-17 07:42:11  \n",
       "3       2021-06-17 07:42:11  \n",
       "4       2021-06-17 07:42:11  "
      ]
     },
     "execution_count": 9,
     "metadata": {},
     "output_type": "execute_result"
    }
   ],
   "source": [
    "df.head()"
   ]
  },
  {
   "cell_type": "code",
   "execution_count": 12,
   "id": "collectible-termination",
   "metadata": {
    "jupyter": {
     "source_hidden": true
    },
    "slideshow": {
     "slide_type": "subslide"
    },
    "tags": []
   },
   "outputs": [],
   "source": [
    "df['cantidad_servicio'] = 1\n",
    "\n",
    "df_pivot = df.pivot_table(index=['fecha_creacion', 'elemento_cmdb'], \\\n",
    "                          columns='servicio', \\\n",
    "                          aggfunc='sum', \\\n",
    "                          values='cantidad_servicio', \\\n",
    "                          fill_value=0)\n",
    "\n",
    "def encode(x):\n",
    "    if x <= 0:\n",
    "        return 0\n",
    "    if x >= 1:\n",
    "        return 1\n",
    "\n",
    "df_pivot = df_pivot.applymap(encode)"
   ]
  },
  {
   "cell_type": "code",
   "execution_count": 13,
   "id": "daa3f776",
   "metadata": {},
   "outputs": [
    {
     "data": {
      "text/html": [
       "<div>\n",
       "<style scoped>\n",
       "    .dataframe tbody tr th:only-of-type {\n",
       "        vertical-align: middle;\n",
       "    }\n",
       "\n",
       "    .dataframe tbody tr th {\n",
       "        vertical-align: top;\n",
       "    }\n",
       "\n",
       "    .dataframe thead th {\n",
       "        text-align: right;\n",
       "    }\n",
       "</style>\n",
       "<table border=\"1\" class=\"dataframe\">\n",
       "  <thead>\n",
       "    <tr style=\"text-align: right;\">\n",
       "      <th></th>\n",
       "      <th>servicio</th>\n",
       "      <th>ACCESIBILIDAD::DIRECTORIO ACTIVO</th>\n",
       "      <th>AUTOMATIZACION DE LA ADMINISTRACION TI::BACKUP</th>\n",
       "      <th>AUTOMATIZACION DE LA ADMINISTRACION TI::CABLEADO ESTRUCTURADO</th>\n",
       "      <th>AUTOMATIZACION DE LA ADMINISTRACION TI::GESTION TIC</th>\n",
       "      <th>AUTOMATIZACION DE LA ADMINISTRACION TI::SEGURIDAD DE LA INFORMACIÓN</th>\n",
       "      <th>AUTOMATIZACION DE LA ADMINISTRACION TI::SERVICIOS EN LA NUBE</th>\n",
       "      <th>AUTOMATIZACION DE POST VENTA Y SOPORTE</th>\n",
       "      <th>AUTOMATIZACION FUERZA DE VENTAS::ADMINISTRACION</th>\n",
       "      <th>AUTOMATIZACION FUERZA DE VENTAS::CIERRE DE DIA</th>\n",
       "      <th>AUTOMATIZACION FUERZA DE VENTAS::INICIO DE DIA</th>\n",
       "      <th>...</th>\n",
       "      <th>NAVEGACION::INALAMBRICA::WIFI</th>\n",
       "      <th>NAVEGACION::POR CABLE</th>\n",
       "      <th>OFIMATICA</th>\n",
       "      <th>OFIMATICA::APLICACIONES DE ESCRITORIO</th>\n",
       "      <th>OFIMATICA::EQUIPOS DE COMPUTO</th>\n",
       "      <th>OFIMATICA::PERIFERICO</th>\n",
       "      <th>OFIMATICA::SOLICITUD DE RECURSO</th>\n",
       "      <th>TELEFONIA::TELEFONIA CONMUTADA</th>\n",
       "      <th>TELEFONIA::TELEFONIA IP</th>\n",
       "      <th>TELEFONIA::TELEFONIA MOVIL</th>\n",
       "    </tr>\n",
       "    <tr>\n",
       "      <th>fecha_creacion</th>\n",
       "      <th>elemento_cmdb</th>\n",
       "      <th></th>\n",
       "      <th></th>\n",
       "      <th></th>\n",
       "      <th></th>\n",
       "      <th></th>\n",
       "      <th></th>\n",
       "      <th></th>\n",
       "      <th></th>\n",
       "      <th></th>\n",
       "      <th></th>\n",
       "      <th></th>\n",
       "      <th></th>\n",
       "      <th></th>\n",
       "      <th></th>\n",
       "      <th></th>\n",
       "      <th></th>\n",
       "      <th></th>\n",
       "      <th></th>\n",
       "      <th></th>\n",
       "      <th></th>\n",
       "      <th></th>\n",
       "    </tr>\n",
       "  </thead>\n",
       "  <tbody>\n",
       "    <tr>\n",
       "      <th>2020-05-02 09:35:04</th>\n",
       "      <th>AX</th>\n",
       "      <td>0</td>\n",
       "      <td>0</td>\n",
       "      <td>0</td>\n",
       "      <td>0</td>\n",
       "      <td>0</td>\n",
       "      <td>0</td>\n",
       "      <td>0</td>\n",
       "      <td>0</td>\n",
       "      <td>0</td>\n",
       "      <td>0</td>\n",
       "      <td>...</td>\n",
       "      <td>0</td>\n",
       "      <td>0</td>\n",
       "      <td>0</td>\n",
       "      <td>0</td>\n",
       "      <td>0</td>\n",
       "      <td>0</td>\n",
       "      <td>0</td>\n",
       "      <td>0</td>\n",
       "      <td>0</td>\n",
       "      <td>0</td>\n",
       "    </tr>\n",
       "    <tr>\n",
       "      <th>2020-05-04 06:20:04</th>\n",
       "      <th>AX</th>\n",
       "      <td>0</td>\n",
       "      <td>0</td>\n",
       "      <td>0</td>\n",
       "      <td>0</td>\n",
       "      <td>0</td>\n",
       "      <td>0</td>\n",
       "      <td>0</td>\n",
       "      <td>0</td>\n",
       "      <td>0</td>\n",
       "      <td>0</td>\n",
       "      <td>...</td>\n",
       "      <td>0</td>\n",
       "      <td>0</td>\n",
       "      <td>0</td>\n",
       "      <td>0</td>\n",
       "      <td>0</td>\n",
       "      <td>0</td>\n",
       "      <td>0</td>\n",
       "      <td>0</td>\n",
       "      <td>0</td>\n",
       "      <td>0</td>\n",
       "    </tr>\n",
       "    <tr>\n",
       "      <th>2020-05-04 06:50:04</th>\n",
       "      <th>BOGT_P1_BN_02</th>\n",
       "      <td>0</td>\n",
       "      <td>0</td>\n",
       "      <td>0</td>\n",
       "      <td>0</td>\n",
       "      <td>0</td>\n",
       "      <td>0</td>\n",
       "      <td>0</td>\n",
       "      <td>0</td>\n",
       "      <td>0</td>\n",
       "      <td>0</td>\n",
       "      <td>...</td>\n",
       "      <td>0</td>\n",
       "      <td>0</td>\n",
       "      <td>0</td>\n",
       "      <td>0</td>\n",
       "      <td>0</td>\n",
       "      <td>0</td>\n",
       "      <td>0</td>\n",
       "      <td>0</td>\n",
       "      <td>0</td>\n",
       "      <td>0</td>\n",
       "    </tr>\n",
       "    <tr>\n",
       "      <th>2020-05-04 08:20:06</th>\n",
       "      <th>AX</th>\n",
       "      <td>0</td>\n",
       "      <td>0</td>\n",
       "      <td>0</td>\n",
       "      <td>0</td>\n",
       "      <td>0</td>\n",
       "      <td>0</td>\n",
       "      <td>0</td>\n",
       "      <td>0</td>\n",
       "      <td>0</td>\n",
       "      <td>0</td>\n",
       "      <td>...</td>\n",
       "      <td>0</td>\n",
       "      <td>0</td>\n",
       "      <td>0</td>\n",
       "      <td>0</td>\n",
       "      <td>0</td>\n",
       "      <td>0</td>\n",
       "      <td>0</td>\n",
       "      <td>0</td>\n",
       "      <td>0</td>\n",
       "      <td>0</td>\n",
       "    </tr>\n",
       "    <tr>\n",
       "      <th>2020-05-04 09:05:04</th>\n",
       "      <th>FORTICLIENTE - 5.4.1.0840</th>\n",
       "      <td>0</td>\n",
       "      <td>0</td>\n",
       "      <td>0</td>\n",
       "      <td>0</td>\n",
       "      <td>0</td>\n",
       "      <td>0</td>\n",
       "      <td>0</td>\n",
       "      <td>0</td>\n",
       "      <td>0</td>\n",
       "      <td>0</td>\n",
       "      <td>...</td>\n",
       "      <td>0</td>\n",
       "      <td>0</td>\n",
       "      <td>0</td>\n",
       "      <td>1</td>\n",
       "      <td>0</td>\n",
       "      <td>0</td>\n",
       "      <td>0</td>\n",
       "      <td>0</td>\n",
       "      <td>0</td>\n",
       "      <td>0</td>\n",
       "    </tr>\n",
       "  </tbody>\n",
       "</table>\n",
       "<p>5 rows × 46 columns</p>\n",
       "</div>"
      ],
      "text/plain": [
       "servicio                                       ACCESIBILIDAD::DIRECTORIO ACTIVO  \\\n",
       "fecha_creacion      elemento_cmdb                                                 \n",
       "2020-05-02 09:35:04 AX                                                        0   \n",
       "2020-05-04 06:20:04 AX                                                        0   \n",
       "2020-05-04 06:50:04 BOGT_P1_BN_02                                             0   \n",
       "2020-05-04 08:20:06 AX                                                        0   \n",
       "2020-05-04 09:05:04 FORTICLIENTE - 5.4.1.0840                                 0   \n",
       "\n",
       "servicio                                       AUTOMATIZACION DE LA ADMINISTRACION TI::BACKUP  \\\n",
       "fecha_creacion      elemento_cmdb                                                               \n",
       "2020-05-02 09:35:04 AX                                                                      0   \n",
       "2020-05-04 06:20:04 AX                                                                      0   \n",
       "2020-05-04 06:50:04 BOGT_P1_BN_02                                                           0   \n",
       "2020-05-04 08:20:06 AX                                                                      0   \n",
       "2020-05-04 09:05:04 FORTICLIENTE - 5.4.1.0840                                               0   \n",
       "\n",
       "servicio                                       AUTOMATIZACION DE LA ADMINISTRACION TI::CABLEADO ESTRUCTURADO  \\\n",
       "fecha_creacion      elemento_cmdb                                                                              \n",
       "2020-05-02 09:35:04 AX                                                                         0               \n",
       "2020-05-04 06:20:04 AX                                                                         0               \n",
       "2020-05-04 06:50:04 BOGT_P1_BN_02                                                              0               \n",
       "2020-05-04 08:20:06 AX                                                                         0               \n",
       "2020-05-04 09:05:04 FORTICLIENTE - 5.4.1.0840                                                  0               \n",
       "\n",
       "servicio                                       AUTOMATIZACION DE LA ADMINISTRACION TI::GESTION TIC  \\\n",
       "fecha_creacion      elemento_cmdb                                                                    \n",
       "2020-05-02 09:35:04 AX                                                                         0     \n",
       "2020-05-04 06:20:04 AX                                                                         0     \n",
       "2020-05-04 06:50:04 BOGT_P1_BN_02                                                              0     \n",
       "2020-05-04 08:20:06 AX                                                                         0     \n",
       "2020-05-04 09:05:04 FORTICLIENTE - 5.4.1.0840                                                  0     \n",
       "\n",
       "servicio                                       AUTOMATIZACION DE LA ADMINISTRACION TI::SEGURIDAD DE LA INFORMACIÓN  \\\n",
       "fecha_creacion      elemento_cmdb                                                                                    \n",
       "2020-05-02 09:35:04 AX                                                                         0                     \n",
       "2020-05-04 06:20:04 AX                                                                         0                     \n",
       "2020-05-04 06:50:04 BOGT_P1_BN_02                                                              0                     \n",
       "2020-05-04 08:20:06 AX                                                                         0                     \n",
       "2020-05-04 09:05:04 FORTICLIENTE - 5.4.1.0840                                                  0                     \n",
       "\n",
       "servicio                                       AUTOMATIZACION DE LA ADMINISTRACION TI::SERVICIOS EN LA NUBE  \\\n",
       "fecha_creacion      elemento_cmdb                                                                             \n",
       "2020-05-02 09:35:04 AX                                                                         0              \n",
       "2020-05-04 06:20:04 AX                                                                         0              \n",
       "2020-05-04 06:50:04 BOGT_P1_BN_02                                                              0              \n",
       "2020-05-04 08:20:06 AX                                                                         0              \n",
       "2020-05-04 09:05:04 FORTICLIENTE - 5.4.1.0840                                                  0              \n",
       "\n",
       "servicio                                       AUTOMATIZACION DE POST VENTA Y SOPORTE  \\\n",
       "fecha_creacion      elemento_cmdb                                                       \n",
       "2020-05-02 09:35:04 AX                                                              0   \n",
       "2020-05-04 06:20:04 AX                                                              0   \n",
       "2020-05-04 06:50:04 BOGT_P1_BN_02                                                   0   \n",
       "2020-05-04 08:20:06 AX                                                              0   \n",
       "2020-05-04 09:05:04 FORTICLIENTE - 5.4.1.0840                                       0   \n",
       "\n",
       "servicio                                       AUTOMATIZACION FUERZA DE VENTAS::ADMINISTRACION  \\\n",
       "fecha_creacion      elemento_cmdb                                                                \n",
       "2020-05-02 09:35:04 AX                                                                       0   \n",
       "2020-05-04 06:20:04 AX                                                                       0   \n",
       "2020-05-04 06:50:04 BOGT_P1_BN_02                                                            0   \n",
       "2020-05-04 08:20:06 AX                                                                       0   \n",
       "2020-05-04 09:05:04 FORTICLIENTE - 5.4.1.0840                                                0   \n",
       "\n",
       "servicio                                       AUTOMATIZACION FUERZA DE VENTAS::CIERRE DE DIA  \\\n",
       "fecha_creacion      elemento_cmdb                                                               \n",
       "2020-05-02 09:35:04 AX                                                                      0   \n",
       "2020-05-04 06:20:04 AX                                                                      0   \n",
       "2020-05-04 06:50:04 BOGT_P1_BN_02                                                           0   \n",
       "2020-05-04 08:20:06 AX                                                                      0   \n",
       "2020-05-04 09:05:04 FORTICLIENTE - 5.4.1.0840                                               0   \n",
       "\n",
       "servicio                                       AUTOMATIZACION FUERZA DE VENTAS::INICIO DE DIA   \\\n",
       "fecha_creacion      elemento_cmdb                                                                \n",
       "2020-05-02 09:35:04 AX                                                                       0   \n",
       "2020-05-04 06:20:04 AX                                                                       0   \n",
       "2020-05-04 06:50:04 BOGT_P1_BN_02                                                            0   \n",
       "2020-05-04 08:20:06 AX                                                                       0   \n",
       "2020-05-04 09:05:04 FORTICLIENTE - 5.4.1.0840                                                0   \n",
       "\n",
       "servicio                                       ...  \\\n",
       "fecha_creacion      elemento_cmdb              ...   \n",
       "2020-05-02 09:35:04 AX                         ...   \n",
       "2020-05-04 06:20:04 AX                         ...   \n",
       "2020-05-04 06:50:04 BOGT_P1_BN_02              ...   \n",
       "2020-05-04 08:20:06 AX                         ...   \n",
       "2020-05-04 09:05:04 FORTICLIENTE - 5.4.1.0840  ...   \n",
       "\n",
       "servicio                                       NAVEGACION::INALAMBRICA::WIFI  \\\n",
       "fecha_creacion      elemento_cmdb                                              \n",
       "2020-05-02 09:35:04 AX                                                     0   \n",
       "2020-05-04 06:20:04 AX                                                     0   \n",
       "2020-05-04 06:50:04 BOGT_P1_BN_02                                          0   \n",
       "2020-05-04 08:20:06 AX                                                     0   \n",
       "2020-05-04 09:05:04 FORTICLIENTE - 5.4.1.0840                              0   \n",
       "\n",
       "servicio                                       NAVEGACION::POR CABLE  \\\n",
       "fecha_creacion      elemento_cmdb                                      \n",
       "2020-05-02 09:35:04 AX                                             0   \n",
       "2020-05-04 06:20:04 AX                                             0   \n",
       "2020-05-04 06:50:04 BOGT_P1_BN_02                                  0   \n",
       "2020-05-04 08:20:06 AX                                             0   \n",
       "2020-05-04 09:05:04 FORTICLIENTE - 5.4.1.0840                      0   \n",
       "\n",
       "servicio                                       OFIMATICA  \\\n",
       "fecha_creacion      elemento_cmdb                          \n",
       "2020-05-02 09:35:04 AX                                 0   \n",
       "2020-05-04 06:20:04 AX                                 0   \n",
       "2020-05-04 06:50:04 BOGT_P1_BN_02                      0   \n",
       "2020-05-04 08:20:06 AX                                 0   \n",
       "2020-05-04 09:05:04 FORTICLIENTE - 5.4.1.0840          0   \n",
       "\n",
       "servicio                                       OFIMATICA::APLICACIONES DE ESCRITORIO  \\\n",
       "fecha_creacion      elemento_cmdb                                                      \n",
       "2020-05-02 09:35:04 AX                                                             0   \n",
       "2020-05-04 06:20:04 AX                                                             0   \n",
       "2020-05-04 06:50:04 BOGT_P1_BN_02                                                  0   \n",
       "2020-05-04 08:20:06 AX                                                             0   \n",
       "2020-05-04 09:05:04 FORTICLIENTE - 5.4.1.0840                                      1   \n",
       "\n",
       "servicio                                       OFIMATICA::EQUIPOS DE COMPUTO  \\\n",
       "fecha_creacion      elemento_cmdb                                              \n",
       "2020-05-02 09:35:04 AX                                                     0   \n",
       "2020-05-04 06:20:04 AX                                                     0   \n",
       "2020-05-04 06:50:04 BOGT_P1_BN_02                                          0   \n",
       "2020-05-04 08:20:06 AX                                                     0   \n",
       "2020-05-04 09:05:04 FORTICLIENTE - 5.4.1.0840                              0   \n",
       "\n",
       "servicio                                       OFIMATICA::PERIFERICO  \\\n",
       "fecha_creacion      elemento_cmdb                                      \n",
       "2020-05-02 09:35:04 AX                                             0   \n",
       "2020-05-04 06:20:04 AX                                             0   \n",
       "2020-05-04 06:50:04 BOGT_P1_BN_02                                  0   \n",
       "2020-05-04 08:20:06 AX                                             0   \n",
       "2020-05-04 09:05:04 FORTICLIENTE - 5.4.1.0840                      0   \n",
       "\n",
       "servicio                                       OFIMATICA::SOLICITUD DE RECURSO  \\\n",
       "fecha_creacion      elemento_cmdb                                                \n",
       "2020-05-02 09:35:04 AX                                                       0   \n",
       "2020-05-04 06:20:04 AX                                                       0   \n",
       "2020-05-04 06:50:04 BOGT_P1_BN_02                                            0   \n",
       "2020-05-04 08:20:06 AX                                                       0   \n",
       "2020-05-04 09:05:04 FORTICLIENTE - 5.4.1.0840                                0   \n",
       "\n",
       "servicio                                       TELEFONIA::TELEFONIA CONMUTADA  \\\n",
       "fecha_creacion      elemento_cmdb                                               \n",
       "2020-05-02 09:35:04 AX                                                      0   \n",
       "2020-05-04 06:20:04 AX                                                      0   \n",
       "2020-05-04 06:50:04 BOGT_P1_BN_02                                           0   \n",
       "2020-05-04 08:20:06 AX                                                      0   \n",
       "2020-05-04 09:05:04 FORTICLIENTE - 5.4.1.0840                               0   \n",
       "\n",
       "servicio                                       TELEFONIA::TELEFONIA IP  \\\n",
       "fecha_creacion      elemento_cmdb                                        \n",
       "2020-05-02 09:35:04 AX                                               0   \n",
       "2020-05-04 06:20:04 AX                                               0   \n",
       "2020-05-04 06:50:04 BOGT_P1_BN_02                                    0   \n",
       "2020-05-04 08:20:06 AX                                               0   \n",
       "2020-05-04 09:05:04 FORTICLIENTE - 5.4.1.0840                        0   \n",
       "\n",
       "servicio                                       TELEFONIA::TELEFONIA MOVIL  \n",
       "fecha_creacion      elemento_cmdb                                          \n",
       "2020-05-02 09:35:04 AX                                                  0  \n",
       "2020-05-04 06:20:04 AX                                                  0  \n",
       "2020-05-04 06:50:04 BOGT_P1_BN_02                                       0  \n",
       "2020-05-04 08:20:06 AX                                                  0  \n",
       "2020-05-04 09:05:04 FORTICLIENTE - 5.4.1.0840                           0  \n",
       "\n",
       "[5 rows x 46 columns]"
      ]
     },
     "execution_count": 13,
     "metadata": {},
     "output_type": "execute_result"
    }
   ],
   "source": [
    "df_pivot.head()"
   ]
  },
  {
   "cell_type": "markdown",
   "id": "sophisticated-apple",
   "metadata": {
    "slideshow": {
     "slide_type": "slide"
    }
   },
   "source": [
    "### Cálculo de las reglas de asociación\n",
    "---"
   ]
  },
  {
   "cell_type": "markdown",
   "id": "exterior-eagle",
   "metadata": {
    "slideshow": {
     "slide_type": "fragment"
    },
    "tags": []
   },
   "source": [
    "* Se calculan las reglas de asociación usando una presencia de los datos en un 30% de las muestras `(soporte)`"
   ]
  },
  {
   "cell_type": "markdown",
   "id": "earned-easter",
   "metadata": {
    "slideshow": {
     "slide_type": "fragment"
    },
    "tags": []
   },
   "source": [
    "* El tamaño de la muestra es un día `(no es cada ticket)`"
   ]
  },
  {
   "cell_type": "code",
   "execution_count": null,
   "id": "virtual-portugal",
   "metadata": {
    "slideshow": {
     "slide_type": "fragment"
    },
    "tags": []
   },
   "outputs": [],
   "source": [
    "df_freqserv = apriori(df_pivot, min_support=0.3, use_colnames=True)\n",
    "df_rules = association_rules(df_freqserv, min_threshold=1, metric='lift')"
   ]
  },
  {
   "cell_type": "markdown",
   "id": "ignored-poultry",
   "metadata": {
    "slideshow": {
     "slide_type": "subslide"
    },
    "tags": []
   },
   "source": [
    "### Cálculo de las reglas de asociación\n",
    "#### Explicación de variables\n",
    "---\n",
    "* El antecedente implica el consecuente, no es conmutativo\n",
    "* Support: Es la presencia en el dataset del antecedente, el consecuente y la regla en si\n",
    "* Confidence: Es el porcentaje de los casos en el que la regla es cierta"
   ]
  },
  {
   "cell_type": "markdown",
   "id": "separate-ecology",
   "metadata": {
    "slideshow": {
     "slide_type": "subslide"
    },
    "tags": []
   },
   "source": [
    "* Lift: Cuando el valor es 1 son variables independientes, si es mayor son dependientes y si es menor son inversamente dependientes\n",
    "* Leverage: Es similar al lift pero se calcula diferente y el valor de independencia es 0\n",
    "* Conviction: es el error que habría en caso de que las variables sean independientes"
   ]
  },
  {
   "cell_type": "markdown",
   "id": "complete-missile",
   "metadata": {
    "slideshow": {
     "slide_type": "slide"
    }
   },
   "source": [
    "### Cálculo de las reglas de asociación\n",
    "---"
   ]
  },
  {
   "cell_type": "code",
   "execution_count": null,
   "id": "activated-hamburg",
   "metadata": {
    "scrolled": true,
    "slideshow": {
     "slide_type": "slide"
    },
    "tags": []
   },
   "outputs": [],
   "source": [
    "df_rules.loc[(df_rules.confidence>0.5)].sort_values('confidence', \\\n",
    "                                                    ascending=False).head(10)"
   ]
  },
  {
   "cell_type": "code",
   "execution_count": null,
   "id": "computational-button",
   "metadata": {},
   "outputs": [],
   "source": []
  },
  {
   "cell_type": "code",
   "execution_count": null,
   "id": "difficult-observer",
   "metadata": {
    "scrolled": true,
    "slideshow": {
     "slide_type": "skip"
    },
    "tags": []
   },
   "outputs": [],
   "source": [
    "df_rules['antecedents'] = df_rules['antecedents'].apply(lambda x: set(x))\n",
    "df_rules['consequents'] = df_rules['consequents'].apply(lambda x: set(x))"
   ]
  },
  {
   "cell_type": "code",
   "execution_count": null,
   "id": "champion-composer",
   "metadata": {
    "slideshow": {
     "slide_type": "slide"
    }
   },
   "outputs": [],
   "source": [
    "df_rules[df_rules['antecedents'] == {'TELEFONIA::TELEFONIA IP'}]"
   ]
  },
  {
   "cell_type": "code",
   "execution_count": null,
   "id": "catholic-territory",
   "metadata": {},
   "outputs": [],
   "source": [
    "df['fecha_creacion'].nunique()"
   ]
  },
  {
   "cell_type": "code",
   "execution_count": null,
   "id": "hindu-keyboard",
   "metadata": {},
   "outputs": [],
   "source": [
    "fechas = df[df['servicio'] == 'TELEFONIA::TELEFONIA IP']['fecha_creacion'].unique()"
   ]
  },
  {
   "cell_type": "code",
   "execution_count": null,
   "id": "specific-thought",
   "metadata": {},
   "outputs": [],
   "source": [
    "fechas = df.loc[(df['fecha_creacion'].isin(fechas)) &\\\n",
    "                (df['servicio'] == 'MENSAJERIA Y COLABORACION::SERVIDOR DE ARCHIVOS')]['fecha_creacion'].unique()"
   ]
  },
  {
   "cell_type": "code",
   "execution_count": null,
   "id": "indian-eight",
   "metadata": {},
   "outputs": [],
   "source": [
    "df_temp = df.loc[(df['fecha_creacion']\n",
    "        .isin(fechas)) & (df['servicio']\n",
    "                          .isin(['TELEFONIA::TELEFONIA IP']))]"
   ]
  },
  {
   "cell_type": "code",
   "execution_count": null,
   "id": "noted-policy",
   "metadata": {},
   "outputs": [],
   "source": [
    "df_temp['fecha_creacion'] = pd.to_datetime(df_temp['fecha_creacion'])"
   ]
  },
  {
   "cell_type": "code",
   "execution_count": null,
   "id": "written-found",
   "metadata": {},
   "outputs": [],
   "source": [
    "df_ant = df_temp.set_index('fecha_creacion').groupby([pd.Grouper(freq='D'), 'servicio'])\\\n",
    "        .agg({'title':'count'}).reset_index('servicio')"
   ]
  },
  {
   "cell_type": "code",
   "execution_count": null,
   "id": "computational-stevens",
   "metadata": {},
   "outputs": [],
   "source": [
    "df_temp = df.loc[(df['fecha_creacion']\n",
    "        .isin(fechas)) & (df['servicio']\n",
    "                          .isin(['MENSAJERIA Y COLABORACION::SERVIDOR DE ARCHIVOS']))]"
   ]
  },
  {
   "cell_type": "code",
   "execution_count": null,
   "id": "adjacent-leather",
   "metadata": {},
   "outputs": [],
   "source": [
    "df_temp['fecha_creacion'] = pd.to_datetime(df_temp['fecha_creacion'])"
   ]
  },
  {
   "cell_type": "code",
   "execution_count": null,
   "id": "intellectual-sheriff",
   "metadata": {},
   "outputs": [],
   "source": [
    "df_con = df_temp.set_index('fecha_creacion')\\\n",
    "        .groupby([pd.Grouper(freq='D'), 'servicio']).agg({'title':'count'}).reset_index('servicio')"
   ]
  },
  {
   "cell_type": "code",
   "execution_count": null,
   "id": "planned-aggregate",
   "metadata": {},
   "outputs": [],
   "source": [
    "df_con.sort_values(by='title', ascending=False)"
   ]
  },
  {
   "cell_type": "code",
   "execution_count": null,
   "id": "second-spain",
   "metadata": {},
   "outputs": [],
   "source": [
    "df_con = df_con.loc[df_con['title'] < 64]"
   ]
  },
  {
   "cell_type": "code",
   "execution_count": null,
   "id": "collect-pilot",
   "metadata": {},
   "outputs": [],
   "source": [
    "plt.ion()\n",
    "plt.figure(figsize=(16,8))\n",
    "plt.subplot(211)\n",
    "plt.plot(df_ant.index, df_ant.title, label='ant', color='red')\n",
    "plt.subplot(212)\n",
    "plt.plot(df_con.index, df_con.title, label='con', color='blue')\n",
    "plt.legend()\n",
    "plt.show()"
   ]
  },
  {
   "cell_type": "code",
   "execution_count": null,
   "id": "veterinary-gardening",
   "metadata": {},
   "outputs": [],
   "source": [
    "df.loc[(df['fecha_creacion']\n",
    "        .isin(fechas)) & (df['servicio']\n",
    "                          .isin(['TELEFONIA::TELEFONIA IP', 'MENSAJERIA Y COLABORACION::SERVIDOR DE ARCHIVOS']))]"
   ]
  },
  {
   "cell_type": "code",
   "execution_count": null,
   "id": "caring-costume",
   "metadata": {},
   "outputs": [],
   "source": [
    "df['agente'].unique()"
   ]
  },
  {
   "cell_type": "code",
   "execution_count": null,
   "id": "attended-characteristic",
   "metadata": {
    "scrolled": true
   },
   "outputs": [],
   "source": [
    "df[df['servicio'] == 'ERP::ADMINISTRACION']['agente'].unique()"
   ]
  }
 ],
 "metadata": {
  "kernelspec": {
   "display_name": "Python 3",
   "language": "python",
   "name": "python3"
  },
  "language_info": {
   "codemirror_mode": {
    "name": "ipython",
    "version": 3
   },
   "file_extension": ".py",
   "mimetype": "text/x-python",
   "name": "python",
   "nbconvert_exporter": "python",
   "pygments_lexer": "ipython3",
   "version": "3.7.10"
  }
 },
 "nbformat": 4,
 "nbformat_minor": 5
}
