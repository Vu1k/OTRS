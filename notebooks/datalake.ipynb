{
 "cells": [
  {
   "cell_type": "code",
   "execution_count": 1,
   "metadata": {},
   "outputs": [],
   "source": [
    "import os, uuid, sys\n",
    "from azure.storage.filedatalake import DataLakeServiceClient, DataLakeFileClient\n",
    "from azure.core._match_conditions import MatchConditions\n",
    "from azure.storage.filedatalake._models import ContentSettings"
   ]
  },
  {
   "cell_type": "code",
   "execution_count": 5,
   "metadata": {},
   "outputs": [],
   "source": [
    "try:  \n",
    "    global service_client\n",
    "        \n",
    "    service_client = DataLakeServiceClient(account_url=\"{}://{}.dfs.core.windows.net\".format(\n",
    "        \"https\", 'codiscos1'), credential='Vv5q31ZQGuv26pGDP5zvT78qFIMVk+kxdkIUCTkL5rhiv9SE8WqhCw7k3V6y7Az7LWgMVg2mXReksEB6Y/pV2g==')\n",
    "    \n",
    "except Exception as e:\n",
    "    print(e)"
   ]
  },
  {
   "cell_type": "code",
   "execution_count": 6,
   "metadata": {},
   "outputs": [],
   "source": [
    "def list_directory_contents():\n",
    "    try:\n",
    "        \n",
    "        file_system_client = service_client.get_file_system_client(file_system=\"testing\")\n",
    "\n",
    "        paths = file_system_client.get_paths()\n",
    "\n",
    "        for path in paths:\n",
    "            print(path.name + '\\n')\n",
    "\n",
    "    except Exception as e:\n",
    "     print(e) "
   ]
  },
  {
   "cell_type": "code",
   "execution_count": 7,
   "metadata": {},
   "outputs": [
    {
     "name": "stdout",
     "output_type": "stream",
     "text": [
      "OTRS\n",
      "\n",
      "OTRS/OTRS\n",
      "\n",
      "data\n",
      "\n"
     ]
    }
   ],
   "source": [
    "list_directory_contents()"
   ]
  },
  {
   "cell_type": "code",
   "execution_count": 10,
   "metadata": {},
   "outputs": [
    {
     "data": {
      "text/plain": [
       "\"\\nwith open('VentasTATdesde2018.json', 'rb') as f:\\n    file_data = file.read_file(stream = f)\\n\""
      ]
     },
     "execution_count": 10,
     "metadata": {},
     "output_type": "execute_result"
    }
   ],
   "source": [
    "conn_string = 'DefaultEndpointsProtocol=https;AccountName=codiscos1;AccountKey=Vv5q31ZQGuv26pGDP5zvT78qFIMVk+kxdkIUCTkL5rhiv9SE8WqhCw7k3V6y7Az7LWgMVg2mXReksEB6Y/pV2g==;EndpointSuffix=core.windows.net'\n",
    "\n",
    "file = DataLakeFileClient.from_connection_string(conn_string, 'testing', 'OTRS/OTRS')\n",
    "'''\n",
    "                                                 account_url=\"{}://{}.dfs.core.windows.net\".format(\"https\", 'tronextest'), \n",
    "                                                 credential='rJC0wwjDFz8GTo9ngzlsPd+QfoTQ1R6wU/KqX4Snk5bb/HKxtwCf8DRAe2qdiCbPjfkHlTe8Q5XnhcRvo/d1sw==', \n",
    "                                                 file_system_name=\"sales\", file_path=\".json\")\n",
    "'''\n",
    "'''\n",
    "with open('VentasTATdesde2018.json', 'rb') as f:\n",
    "    file_data = file.read_file(stream = f)\n",
    "'''"
   ]
  },
  {
   "cell_type": "code",
   "execution_count": 11,
   "metadata": {},
   "outputs": [
    {
     "data": {
      "text/plain": [
       "{'name': 'OTRS/OTRS', 'etag': '\"0x8D86F71FD2FE74F\"', 'deleted': False, 'metadata': {}, 'lease': {'status': 'locked', 'state': 'available', 'duration': None}, 'last_modified': datetime.datetime(2020, 10, 13, 12, 17, 44, tzinfo=datetime.timezone.utc), 'creation_time': datetime.datetime(2020, 10, 13, 12, 17, 43, tzinfo=datetime.timezone.utc), 'size': 30924649, 'deleted_time': None, 'remaining_retention_days': None, 'content_settings': {'content_type': 'application/octet-stream', 'content_encoding': None, 'content_language': None, 'content_md5': None, 'content_disposition': None, 'cache_control': None}}"
      ]
     },
     "execution_count": 11,
     "metadata": {},
     "output_type": "execute_result"
    }
   ],
   "source": [
    "file.get_file_properties()"
   ]
  },
  {
   "cell_type": "code",
   "execution_count": null,
   "metadata": {},
   "outputs": [],
   "source": [
    "await file.create_file()\n",
    "with open('../data/OTRS.json', \"rb\") as data:\n",
    "   length = data.tell()\n",
    "   await file.append_data(data, 0)\n",
    "   await file.flush_data(length)"
   ]
  },
  {
   "cell_type": "code",
   "execution_count": null,
   "metadata": {},
   "outputs": [],
   "source": [
    "data = b'def'\n",
    "file = DataLakeFileClient.from_connection_string(conn_string, 'sales', 'VentasAX/VentasTATdesde2018.json')\n",
    "file.append_data(data, offset=0, length=len(data))\n",
    "file.flush_data(len(data))"
   ]
  },
  {
   "cell_type": "code",
   "execution_count": null,
   "metadata": {},
   "outputs": [],
   "source": []
  }
 ],
 "metadata": {
  "kernelspec": {
   "display_name": "Python 3",
   "language": "python",
   "name": "python3"
  },
  "language_info": {
   "codemirror_mode": {
    "name": "ipython",
    "version": 3
   },
   "file_extension": ".py",
   "mimetype": "text/x-python",
   "name": "python",
   "nbconvert_exporter": "python",
   "pygments_lexer": "ipython3",
   "version": "3.7.6"
  }
 },
 "nbformat": 4,
 "nbformat_minor": 4
}
