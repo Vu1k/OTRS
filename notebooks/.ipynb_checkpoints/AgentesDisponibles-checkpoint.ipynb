{
 "cells": [
  {
   "cell_type": "markdown",
   "id": "spare-conclusion",
   "metadata": {},
   "source": [
    "## Analítica de Tickets OTRS"
   ]
  },
  {
   "cell_type": "code",
   "execution_count": 1,
   "id": "dedicated-shareware",
   "metadata": {
    "slideshow": {
     "slide_type": "skip"
    },
    "tags": []
   },
   "outputs": [],
   "source": [
    "from wordcloud import WordCloud, STOPWORDS \n",
    "import numpy as np\n",
    "import matplotlib.pyplot as plt \n",
    "import mysql.connector\n",
    "import pandas as pd\n",
    "from mlxtend.frequent_patterns import apriori, association_rules"
   ]
  },
  {
   "cell_type": "markdown",
   "id": "chronic-basin",
   "metadata": {
    "slideshow": {
     "slide_type": "slide"
    }
   },
   "source": [
    "#### Conexión directa al MySQL del OTRS"
   ]
  },
  {
   "cell_type": "code",
   "execution_count": 2,
   "id": "timely-roman",
   "metadata": {
    "slideshow": {
     "slide_type": "skip"
    },
    "tags": []
   },
   "outputs": [],
   "source": [
    "otrs_user = 'usr_tronexotrs'\n",
    "otrs_pass = 'usr$otrs#56aN7Rt*mp1'"
   ]
  },
  {
   "cell_type": "code",
   "execution_count": 3,
   "id": "registered-confirmation",
   "metadata": {
    "slideshow": {
     "slide_type": "fragment"
    }
   },
   "outputs": [],
   "source": [
    "cnx = mysql.connector.connect(user=otrs_user, password=otrs_pass,\n",
    "                              host='pantermysql.cwqmr5tsjjh9.us-west-2.rds.amazonaws.com',\n",
    "                              database='tronex.otrs')"
   ]
  },
  {
   "cell_type": "markdown",
   "id": "seventh-struggle",
   "metadata": {
    "slideshow": {
     "slide_type": "slide"
    }
   },
   "source": [
    "### Desde la consulta se filtran los siguientes tickets para limpiar los datos:\n",
    "---"
   ]
  },
  {
   "cell_type": "markdown",
   "id": "freelance-adoption",
   "metadata": {
    "slideshow": {
     "slide_type": "skip"
    }
   },
   "source": [
    "* activity@activityemail.com --> los tickets automáticos que se crean desde SFA (excluido temporalmente)"
   ]
  },
  {
   "cell_type": "markdown",
   "id": "searching-message",
   "metadata": {
    "slideshow": {
     "slide_type": "fragment"
    }
   },
   "source": [
    "* soporte@sasaconsultoria.com --> los tickets automáticos de Sugar CRM"
   ]
  },
  {
   "cell_type": "markdown",
   "id": "fiscal-burning",
   "metadata": {
    "slideshow": {
     "slide_type": "fragment"
    }
   },
   "source": [
    "* telefonia@tronex.com --> tickets recibidos desde la planta telefónica"
   ]
  },
  {
   "cell_type": "markdown",
   "id": "constitutional-session",
   "metadata": {
    "slideshow": {
     "slide_type": "subslide"
    }
   },
   "source": [
    "* serviciosit@tronex.com --> tickets automáticos de infraestructura"
   ]
  },
  {
   "cell_type": "markdown",
   "id": "dietary-escape",
   "metadata": {
    "slideshow": {
     "slide_type": "fragment"
    }
   },
   "source": [
    "* se excluyen explícitamente los tickets que tiene la siguiente cadena en el título \"has low free space\""
   ]
  },
  {
   "cell_type": "markdown",
   "id": "affecting-defensive",
   "metadata": {
    "slideshow": {
     "slide_type": "fragment"
    }
   },
   "source": [
    "---\n",
    "`Sólo se tienen en cuenta los tickets de 2020`"
   ]
  },
  {
   "cell_type": "code",
   "execution_count": 4,
   "id": "photographic-czech",
   "metadata": {
    "jupyter": {
     "source_hidden": true
    },
    "slideshow": {
     "slide_type": "skip"
    },
    "tags": []
   },
   "outputs": [],
   "source": [
    "query = ('SELECT T.title, S.* FROM `tronex.otrs`.itv_sabana_tickets AS S INNER JOIN `tronex.otrs`.ticket AS T \\\n",
    "         ON S.ticket_id = T.id WHERE cola = \"SERVICIOS IT\" AND \\\n",
    "         correo_cliente NOT IN (\"soporte@sasaconsultoria.com\", \"telefonia@tronex.com\"\\\n",
    "         , \"serviciosit@tronex.com\") AND T.title not like \"%has low free space\" AND YEAR(S.fecha_creacion)=2020\\\n",
    "        AND agente in (\"JAIME ALBERTO GONZALEZ\", \"ROBINSON CASTRO\", \"RODOLFO LEON VELEZ\")\\\n",
    "        AND estado_ticket <> \"merged\"')\n",
    "\n",
    "df = pd.read_sql(query, con=cnx)"
   ]
  },
  {
   "cell_type": "code",
   "execution_count": 5,
   "id": "swiss-independence",
   "metadata": {},
   "outputs": [
    {
     "data": {
      "text/plain": [
       "Index(['title', 'ticket_id', 'ticket_numero', 'estado_ticket', 'tipo_estado',\n",
       "       'tipo_ticket', 'servicio', 'servicio_padre', 'servicio_hijo', 'cola',\n",
       "       'sla', 'cumple_sla', 'via_de_ingreso', 'primer_contacto', 'reincidente',\n",
       "       'agente', 'tipo_agente', 'correo_cliente', 'nombre_usuario',\n",
       "       'nombre_area', 'centro_costo', 'unidad_negocio', 'empresa', 'merged',\n",
       "       'nuevo_asignado', 'asignado_en_progreso', 'asignado_pendiente',\n",
       "       'asignado_cerrado', 'asignado_espera', 'nuevo_cerrado',\n",
       "       'fecha_creacion', 'fecha_cierre', 'anio', 'mes', 'day'],\n",
       "      dtype='object')"
      ]
     },
     "execution_count": 5,
     "metadata": {},
     "output_type": "execute_result"
    }
   ],
   "source": [
    "df.columns"
   ]
  },
  {
   "cell_type": "markdown",
   "id": "short-silicon",
   "metadata": {
    "slideshow": {
     "slide_type": "slide"
    },
    "tags": []
   },
   "source": [
    "### Visualización tipo wordcloud\n",
    "---"
   ]
  },
  {
   "cell_type": "markdown",
   "id": "fixed-outreach",
   "metadata": {
    "slideshow": {
     "slide_type": "fragment"
    },
    "tags": []
   },
   "source": [
    "* Representación visual de las palabras que resalta los términos más frecuentes"
   ]
  },
  {
   "cell_type": "markdown",
   "id": "nonprofit-timeline",
   "metadata": {
    "slideshow": {
     "slide_type": "fragment"
    },
    "tags": []
   },
   "source": [
    "* Se realizó usando el asunto de los tickets creados"
   ]
  },
  {
   "cell_type": "markdown",
   "id": "satisfied-ukraine",
   "metadata": {
    "slideshow": {
     "slide_type": "subslide"
    },
    "tags": []
   },
   "source": [
    "* Se excluye una lista de palabras conectoras que fue generada mediante inspección visual del resultado\n",
    "\n",
    "    `'con', 'el', 'de', 'la', 'y', 'para', 'por', 'a', 'no', etc...`"
   ]
  },
  {
   "cell_type": "code",
   "execution_count": 62,
   "id": "protecting-tunisia",
   "metadata": {
    "jupyter": {
     "source_hidden": true
    },
    "slideshow": {
     "slide_type": "skip"
    },
    "tags": []
   },
   "outputs": [],
   "source": [
    "comment_words = '' \n",
    "stopwords = set(['con', 'el', 'de', 'la', 'y', 'para', 'por', 'a', 'no', 'del', 'sin', 'not', 'in', 're', \n",
    "                 'se', 'rv', 'lo', 'las', 'en']) \n",
    "for val in df.title: \n",
    "      \n",
    "    # typecaste each val to string \n",
    "    val = str(val) \n",
    "  \n",
    "    # split the value \n",
    "    tokens = val.split() \n",
    "    tokens = [i.strip() for i in tokens]\n",
    "      \n",
    "    # Converts each token into lowercase \n",
    "    for i in range(len(tokens)): \n",
    "        tokens[i] = tokens[i].lower() \n",
    "      \n",
    "    comment_words += \" \".join(tokens)+\" \"\n",
    "  \n",
    "wordcloud = WordCloud(width = 800, height = 800, \n",
    "                background_color ='white', \n",
    "                stopwords = stopwords, \n",
    "                min_font_size = 10).generate(comment_words)"
   ]
  },
  {
   "cell_type": "code",
   "execution_count": 145,
   "id": "efficient-claim",
   "metadata": {},
   "outputs": [
    {
     "data": {
      "text/plain": [
       "dict_items([('solsta', 1), ('nota', 3), ('de', 519), ('entrega', 8), ('pvsol', 1), ('la', 77), ('impresora', 207), ('rv', 205), ('solicitud', 221), ('y', 127), ('para', 77), ('asdrubal', 1), ('parra', 1), ('sara', 3), ('montoya', 4), ('cambio', 11), ('clave', 26), ('vpn', 56), ('conectarme', 1), ('ingeniero', 1), ('comercial', 1), ('bucaramanga', 17), ('julián', 1), ('buitrago', 1), ('toner', 11), ('logistica', 6), ('acceso', 193), ('carpeta', 159), ('en', 86), ('red', 32), ('sin', 49), ('imprimir', 15), ('pc', 65), ('ingreso', 89), ('intranet', 10), ('tronex', 41), ('ayuda', 40), ('forticlient', 96), ('laura', 3), ('mena', 1), ('forti', 22), ('ax', 144), ('nuevo', 19), ('desde', 9), ('alberto', 1), ('correo', 74), ('inconveniente', 59), ('facturacion', 5), ('doble', 2), ('diferencia', 3), ('vendedora', 2), ('yisenia', 1), ('alejandra', 5), ('dia', 2), ('diciembre', 2), ('permiso', 70), ('búsqueda', 2), ('cable', 22), ('db9', 1), ('m', 5), ('h', 2), ('error', 74), ('re', 66), ('facturar', 4), ('conexión', 109), ('fallida', 2), ('instalar', 15), ('wa', 47), ('gestión', 4), ('por', 21), ('problema', 150), ('edison', 1), ('arias', 1), ('trdb', 1), ('regional', 1), ('factura', 9), ('electronica', 3), ('ambiente', 3), ('conexion', 53), ('archivo', 55), ('excel', 27), ('report', 10), ('edgar', 1), ('rodriguez', 1), ('formulario', 3), ('recepcion', 3), ('kit', 1), ('mantenimiento', 11), ('computer', 2), ('contact', 29), ('nombre', 7), ('extensión', 20), ('guardar', 3), ('tóner', 8), ('conecta', 26), ('conectividad', 9), ('internet', 55), ('sonido', 7), ('3cx', 94), ('envió', 10), ('numrot', 19), ('al', 22), ('validacion', 2), ('compunet', 3), ('copia', 4), ('lina', 5), ('daniela', 4), ('betancurt', 1), ('ghumana2', 1), ('camara', 14), ('del', 49), ('computador', 69), ('requerimiento', 95), ('crisol', 1), ('activacion', 3), ('portatil', 30), ('administrador', 4), ('bodega', 30), ('cali', 13), ('requisitos', 3), ('mínimos', 1), ('avignon', 1), ('diadema', 9), ('multisinergia', 27), ('restricciones', 1), ('bogotá', 9), ('ghumana', 1), ('puede', 8), ('acceder', 7), ('plataforma', 10), ('digitales', 3), ('consulta', 8), ('hh', 26), ('e', 16), ('barranquilla', 7), ('video', 6), ('investigación', 1), ('producción', 5), ('habilitar', 16), ('creación', 4), ('equipo', 110), ('imac', 5), ('novedad', 73), ('dispositivo', 11), ('pila', 24), ('traaar03ehdjblk', 1), ('practicante', 22), ('administrativa', 3), ('coms', 9), ('lab', 4), ('pereira', 10), ('interesadas', 1), ('colaboracion', 7), ('mouse', 31), ('reposición', 4), ('sim', 1), ('danny', 1), ('vera', 1), ('línea', 11), ('fuera', 4), ('servicio', 23), ('cotizacion', 3), ('upa', 1), ('accsensor', 1), ('computadores', 4), ('electrónico', 1), ('reporte', 15), ('maquina', 9), ('solicito', 4), ('revisión', 54), ('envío', 11), ('cargador', 12), ('floridablanca', 1), ('finalización', 2), ('licencia', 22), ('acevedo', 1), ('soporte', 18), ('electronico_mahavir', 1), ('kmina', 2), ('nomina', 2), ('sale', 3), ('impresion', 10), ('batería', 3), ('foto', 3), ('piezas', 1), ('sig', 6), ('modulo', 5), ('vendedor', 2), ('daniel', 4), ('gomez', 1), ('gómez', 7), ('bateria', 7), ('telefono', 22), ('bg19', 1), ('calibración', 5), ('máquina', 8), ('terminación', 5), ('contrato', 3), ('hardware', 4), ('removed', 4), ('prowork', 3), ('ibagué', 1), ('mi', 21), ('backup', 14), ('compartida', 7), ('tonner', 6), ('jefe', 1), ('compensación', 1), ('calidad', 1), ('vida', 1), ('valor', 2), ('switch', 1), ('reparación', 5), ('contingencia', 1), ('nos', 1), ('colaboras', 1), ('recuperando', 1), ('esta', 8), ('ca115026', 1), ('voy', 1), ('lamadas', 1), ('compra', 10), ('iphone12', 1), ('portátil', 33), ('verificación', 5), ('puesto', 8), ('inicio', 1), ('sesión', 2), ('microsoft', 10), ('office', 5), ('configuración', 32), ('teclado', 44), ('muchas', 2), ('gracias', 11), ('software', 8), ('avantel', 8), ('pepeteo', 1), ('traslado', 6), ('sala', 9), ('jenlly', 1), ('nichoole', 1), ('martinez', 2), ('cinta', 1), ('zebra', 8), ('panter', 4), ('sistema', 21), ('instalación', 40), ('project', 1), ('kiefer', 1), ('prado', 1), ('resuelta', 1), ('el', 28), ('prestamo', 17), ('uso', 4), ('virtual', 2), ('ana', 4), ('maria', 4), ('castaño', 2), ('conectar', 11), ('onenote', 2), ('radiofrecuencia', 1), ('divienergia', 2), ('cx', 1), ('revisar', 16), ('wifi', 28), ('averia', 1), ('poblaciones', 1), ('santander', 1), ('inconsistencia', 7), ('proceso', 4), ('music', 2), ('pregunta', 2), ('usb', 3), ('redes', 4), ('que', 13), ('son', 1), ('situación', 1), ('casino', 2), ('creacion', 4), ('usuario', 27), ('colaborador', 3), ('documento', 1), ('funcionamiento', 12), ('descuento', 2), ('celular', 28), ('impresosora', 1), ('retiro', 11), ('numero', 10), ('telefonico', 1), ('personal', 11), ('odroid', 16), ('contraseña', 45), ('moya', 1), ('lenovo', 6), ('mal', 1), ('estado', 6), ('servidor', 14), ('auxiliar', 3), ('analista', 4), ('ambiental', 4), ('added', 7), ('txga08', 1), ('préstamo', 6), ('iphone', 2), ('pro', 4), ('max', 1), ('512gb', 1), ('andres', 7), ('giraldo', 6), ('exek', 3), ('estefanía', 1), ('quintero', 1), ('erika', 2), ('vargas', 3), ('manuela', 2), ('serna', 1), ('hoy', 4), ('iniciamos', 1), ('su', 4), ('fibra', 2), ('óptica', 1), ('presidencia', 2), ('urabá', 1), ('firma', 7), ('compañia', 2), ('informacion', 2), ('incompleta', 1), ('solicitude', 3), ('recupèracion', 1), ('tú', 1), ('afectación', 3), ('laboratorio', 7), ('til', 2), ('nano', 1), ('tls', 4), ('tat', 6), ('rack', 2), ('tormentas', 1), ('eléctricas', 1), ('fin', 1), ('semana', 2), ('nov', 1), ('fecha', 2), ('limite', 1), ('antivirus', 24), ('ha', 4), ('caducado', 1), ('cambiar', 4), ('sinergia', 3), ('outlook', 17), ('funciona', 30), ('piso', 5), ('controlador', 1), ('director', 1), ('logística', 2), ('maritza', 1), ('arana', 1), ('medina', 1), ('trasladar', 1), ('admin', 1), ('recuperación', 2), ('herramienta', 6), ('convertir', 1), ('pdf', 12), ('o', 9), ('word', 3), ('rappi', 6), ('calle', 1), ('cartagena', 1), ('editora', 3), ('se', 18), ('apagó', 1), ('enciende', 9), ('consumo', 1), ('masivo', 2), ('entrar', 8), ('obtención', 1), ('aplicativo', 5), ('modo', 2), ('audio', 16), ('teléfono', 26), ('patricia', 3), ('arbelaez', 1), ('iral', 1), ('pagina', 5), ('sayco', 7), ('hanheld', 1), ('preventa', 3), ('entregador', 2), ('pe05', 2), ('autorizacion', 5), ('djuntos', 1), ('liqiuidaciones', 1), ('mousse', 2), ('carga', 10), ('toda', 2), ('impresiora', 1), ('caja', 2), ('tengo', 5), ('averiado', 7), ('desbloquear', 2), ('urgente', 10), ('cargan', 1), ('estabilizar', 1), ('sede', 3), ('bogota', 12), ('fallo', 9), ('cancelada', 1), ('sst', 4), ('lento', 9), ('intermitente', 2), ('programa', 29), ('laborales', 2), ('tactil', 1), ('autorización', 16), ('este', 1), ('apoyo', 8), ('restablecer', 2), ('pantalla', 46), ('retractil', 1), ('gladys', 2), ('eugenia', 2), ('ciro', 1), ('trabajar', 2), ('fernando', 4), ('lópez', 3), ('gse', 1), ('s', 5), ('registro', 9), ('digital', 1), ('bo335671', 1), ('deja', 15), ('ingresar', 11), ('javier', 1), ('alejandro', 2), ('hernadez', 1), ('marco', 1), ('antonio', 2), ('sepulveda', 1), ('montería', 6), ('linea', 14), ('telefonica', 1), ('vía', 2), ('web', 5), ('formateo', 1), ('aplicaciones', 3), ('vencimiento', 4), ('adobe', 11), ('caída', 1), ('client', 1), ('forros', 1), ('conector', 2), ('reestablecer', 2), ('documento1', 1), ('favor', 1), ('energía', 5), ('ramon', 1), ('fernandez', 2), ('anexo', 1), ('p', 2), ('sub', 1), ('edicion', 1), ('territorio', 1), ('colombia', 1), ('instalacion', 19), ('acrobat', 3), ('unidades', 6), ('base', 18), ('bu144426', 1), ('momento', 2), ('impresión', 12), ('actualizacion', 7), ('version', 1), ('recordar', 1), ('hildebrando', 1), ('duque', 2), ('cartucho', 10), ('facturación', 12), ('eliana', 1), ('modificación', 3), ('contai', 7), ('recuperar', 6), ('telepacifico', 1), ('cámara', 16), ('mensajería', 3), ('conectarse', 2), ('bloqueado', 8), ('tejada', 1), ('revision', 19), ('placa', 14), ('activo', 5), ('pad', 3), ('oficina', 11), ('kevin', 1), ('lilly', 1), ('valeska', 1), ('ecopetrol', 4), ('responde', 7), ('retirar', 5), ('solucionar', 1), ('duda', 3), ('pude', 1), ('remoto', 16), ('mesa', 1), ('refracción', 3), ('girón', 1), ('bloqueo', 21), ('fw', 1), ('med', 1), ('producciones', 1), ('ltda', 1), ('servidores', 9), ('producto', 7), ('tutti', 1), ('me474914', 1), ('predeterminado', 1), ('solucionado', 1), ('driver', 1), ('ramón', 1), ('césar', 1), ('mifi', 2), ('universidad', 2), ('ext', 3), ('comunicarse', 2), ('otras', 1), ('cia', 1), ('dell', 4), ('04nw92b', 1), ('premium', 1), ('sgs', 3), ('ruta', 9), ('permite', 6), ('cadena', 2), ('abastecimiento', 8), ('grabación', 3), ('reunión', 7), ('ya', 1), ('lista', 3), ('estrategia', 1), ('jurídica', 1), ('innpulsa', 1), ('gextión', 1), ('nómina', 4), ('link', 7), ('activity', 13), ('matricula', 1), ('zonda', 1), ('falla', 46), ('ingresio', 1), ('bq162685', 1), ('bq162686', 1), ('bq162687', 1), ('bo334977', 1), ('tx', 10), ('6f5fzq1', 1), ('módulo', 4), ('autoservicios', 2), ('devolución', 10), ('rafael', 1), ('hernandez', 2), ('ubicar', 1), ('perfil', 5), ('nadia', 1), ('sandoval', 1), ('jaramillo', 1), ('ca114159', 1), ('advertencia', 2), ('hackeo', 1), ('almacenamiento', 7), ('osa', 1), ('mensaje', 16), ('malicioso', 1), ('adrian', 1), ('chaparro', 1), ('prueba', 7), ('juzgado', 1), ('5to', 1), ('municipal', 1), ('peuqeñas', 1), ('causas', 1), ('spendientes', 1), ('subir', 5), ('cretive', 1), ('cloud', 2), ('litografía', 11), ('ip', 1), ('blacklisted', 1), ('pbx', 1), ('tronexcodiscos', 1), ('co', 2), ('correctamente', 2), ('resuelto', 2), ('jaime', 2), ('gonzalez', 3), ('correspondencia', 3), ('cotización', 6), ('hdmi', 7), ('businnes', 1), ('multisinergía', 1), ('desconexion', 2), ('shareponit', 1), ('remota', 6), ('inundación', 1), ('coneccion', 2), ('modificar', 1), ('plan2021', 1), ('validar', 3), ('soluciones', 1), ('ingeniería', 2), ('autocad', 8), ('revit', 1), ('lt', 2), ('visor', 2), ('mahavir', 1), ('contables', 1), ('conciliaciones', 1), ('mensuales', 1), ('reportye', 1), ('lazona', 1), ('técnico', 6), ('cancelación', 3), ('corporativo', 4), ('jaric', 1), ('castilla', 1), ('reuniones', 4), ('duplicidad', 1), ('rutero', 1), ('transmisión', 2), ('tac', 1), ('contabilidad', 6), ('escáner', 1), ('md40', 1), ('validación', 10), ('pedido', 9), ('transmitido', 1), ('despacho', 1), ('dayana', 3), ('velásquez', 1), ('sylvia', 1), ('arango', 1), ('imposible', 1), ('reinicia', 2), ('45n1043', 1), ('mp3yt7k', 1), ('actualización', 18), ('desktop', 1), ('central', 1), ('celulares', 2), ('soliciud', 1), ('guillermo', 1), ('impresas', 1), ('pasado', 1), ('sabado', 1), ('llegan', 1), ('conversión', 1), ('expiro', 2), ('telefónica', 4), ('regulador', 4), ('projet', 1), ('cupones', 8), ('entrada', 1), ('gladysciro', 1), ('nataliaalvarez', 1), ('jaimemoreno', 1), ('jovannyramirez', 1), ('pe116309', 1), ('emilio', 2), ('caledco', 1), ('pérdida', 1), ('información', 21), ('bg25', 2), ('aparece', 3), ('publico', 1), ('ni', 2), ('escaneo', 1), ('perdido', 5), ('modem', 1), ('4g', 4), ('ap', 3), ('convertidor', 4), ('c', 2), ('investigar', 2), ('txmont13', 1), ('oscurece', 1), ('txtls34', 2), ('descuadre', 1), ('vendedores', 7), ('ittronex', 1), ('abren', 2), ('duplicadas', 1), ('mala', 3), ('conectan', 1), ('ferreporras', 1), ('claudia', 3), ('ramirez', 3), ('macros', 1), ('migracion', 1), ('azurefiles', 1), ('preparación', 4), ('periféricos', 5), ('publicas', 1), ('solución', 4), ('proyección', 2), ('anteriores', 1), ('diagnostico', 2), ('mac', 5), ('tesoreria', 10), ('ftp', 1), ('bancolombia', 4), ('sobre', 7), ('tes', 3), ('osorio', 2), ('quedé', 1), ('indispensable', 1), ('dar', 2), ('capacitaciones', 1), ('solucionada', 2), ('lo', 16), ('windows', 5), ('tiene', 7), ('multisinegía', 1), ('puedo', 12), ('disco', 5), ('divienergía', 1), ('visualización', 2), ('movicontrol', 1), ('tesorería', 5), ('encuentro', 2), ('faltante', 2), ('escritorio', 15), ('mm', 7), ('nueva', 8), ('octubre', 2), ('dificultades', 6), ('n', 6), ('f', 1), ('t', 3), ('partir', 1), ('email', 4), ('cableada', 1), ('mause', 4), ('impedimento', 1), ('wifii', 1), ('dyv', 2), ('habilitación', 2), ('micrófono', 6), ('bot', 2), ('whatsapp', 1), ('tuti', 6), ('aplicacion', 3), ('continua', 4), ('fallando', 4), ('teems', 1), ('jose', 3), ('bermudez', 1), ('adjunto', 6), ('autores', 2), ('editores', 1), ('perdida', 4), ('tecnologia', 1), ('iden', 1), ('txinfo72', 2), ('salida', 7), ('apn', 1), ('bg24', 1), ('imagen', 3), ('videobean', 1), ('liquidaciones', 5), ('nestor', 1), ('gutierrez', 3), ('google', 5), ('earth', 2), ('ver', 1), ('echavarria', 1), ('wcs1', 1), ('seguridad', 6), ('corporativa', 4), ('avería', 1), ('ups', 6), ('andrea', 3), ('arreglo', 6), ('bg06', 1), ('cwr', 1), ('cw200056', 1), ('tinta', 6), ('gh', 6), ('winrar', 1), ('manual', 2), ('trendmicro', 1), ('scanner', 1), ('lentitug', 1), ('etiqueta', 1), ('9w5n6p2', 1), ('progreso', 1), ('scaner', 3), ('correccion', 1), ('fortinet', 2), ('valledupar', 10), ('notificaciones', 3), ('nrweb', 1), ('nc27675', 1), ('directorio', 1), ('activación', 2), ('ocho', 1), ('e2', 1), ('retención', 1), ('zamora', 1), ('cúcuta', 6), ('bloqueada', 4), ('navegadores', 1), ('5hv1', 1), ('extraviada', 1), ('cuando', 2), ('intenta', 1), ('anexar', 2), ('crm', 2), ('chrome', 2), ('ingresa', 5), ('carlos', 4), ('escobar', 1), ('germán', 1), ('roldán', 1), ('gerardo', 2), ('estaba', 1), ('felipe', 2), ('urrea', 1), ('generado', 1), ('bc', 5), ('conexiones', 1), ('tronex1', 1), ('caso', 2), ('expiró', 3), ('vencida', 1), ('carpera', 1), ('reprote', 1), ('averiada', 3), ('casi', 1), ('lleno', 1), ('pretamos', 1), ('tarjeta', 2), ('externa', 3), ('notificacion', 1), ('expirado', 1), ('reparar', 1), ('robelto', 1), ('dificultad', 5), ('battpro', 5), ('sospechoso', 3), ('guardado', 1), ('zoom', 2), ('protección', 1), ('escritura', 1), ('onedrive', 2), ('edición', 3), ('extraviado', 1), ('cw200051', 1), ('deibi', 1), ('dayan', 1), ('amaris', 1), ('ca113555', 1), ('inhalambrico', 1), ('zapata', 3), ('palca', 1), ('pfd', 1), ('robo', 2), ('conductor', 2), ('bairon', 1), ('informe', 6), ('mt11', 3), ('elementos', 5), ('stream', 2), ('comunicación', 3), ('solucion', 1), ('comparendo', 1), ('solicitar', 2), ('cargadores', 2), ('villavicencio', 2), ('torner', 1), ('grupo', 3), ('inverdama', 1), ('resolución', 3), ('plazos', 1), ('electrónica', 2), ('sofware', 2), ('transporte', 2), ('v7m6r27', 1), ('1c51', 1), ('telefonía', 1), ('informar', 1), ('troncales', 1), ('sip', 1), ('navegacion', 1), ('muy', 1), ('lenta', 3), ('monitor', 7), ('externo', 2), ('jesus', 1), ('atasco', 8), ('conexcion', 1), ('w7', 1), ('bg', 2), ('prestreno', 1), ('unicidad', 1), ('cd', 3), ('bq162247', 1), ('alquilar', 1), ('dado', 1), ('verificar', 9), ('bisagra', 1), ('mx30', 1), ('refracciones', 4), ('ciudad', 2), ('pe01', 1), ('bg20', 2), ('bg13', 1), ('aplicación', 10), ('em', 1), ('06p6p7', 1), ('investigacion', 2), ('mj00y2dx', 1), ('ingresando', 1), ('backaup', 3), ('fortclient', 2), ('01le0f', 1), ('íconos', 1), ('portatiles', 1), ('control', 3), ('31tronex', 1), ('x', 2), ('wms', 1), ('ilogistica', 5), ('generar', 5), ('virtuales', 1), ('generación', 3), ('ptf', 6), ('automática', 1), ('asignado', 3), ('tecnológica', 1), ('desconfigurada', 1), ('bo332538', 1), ('dificulta', 1), ('paulina', 1), ('cano', 1), ('restauracion', 1), ('mo115580', 1), ('doña', 1), ('alicia', 1), ('datos', 7), ('encuentra', 1), ('ter3', 1), ('invitación', 1), ('derecho', 1), ('autor', 1), ('colectiva', 1), ('canal', 7), ('cobertura', 1), ('tildado', 1), ('geraldine', 1), ('extension', 4), ('impreso', 1), ('num', 1), ('rut', 1), ('permanente', 1), ('areafina', 1), ('g', 1), ('establecimiento', 1), ('encontrado', 2), ('pago', 1), ('piloto', 1), ('quick', 1), ('horario', 1), ('asesoramiento', 1), ('registra', 1), ('presenta', 2), ('impresiones', 3), ('novedades', 8), ('aprendiz', 3), ('recibe', 1), ('bocina', 2), ('errores', 3), ('navegación', 3), ('encendido', 3), ('datacenter', 1), ('medellin', 1), ('forticliente', 4), ('habilitado', 2), ('john', 2), ('roldan', 2), ('fwd', 1), ('jornada', 1), ('chapinero', 1), ('forty', 2), ('asignación', 12), ('denegado', 1), ('están', 2), ('vincular', 1), ('saldarriaga', 2), ('julieth', 1), ('londoño', 4), ('escanear', 2), ('diseño', 2), ('cajero', 2), ('doria', 1), ('yaneth', 1), ('valores', 1), ('tirilla', 4), ('vs', 3), ('falta', 2), ('myanalytics', 1), ('relativa', 1), ('concentración', 1), ('planta', 4), ('id', 1), ('apple', 1), ('bajar', 1), ('una', 2), ('pasar', 2), ('cost', 1), ('capital', 1), ('labor', 1), ('día', 3), ('domingo', 1), ('agosto', 1), ('marcela', 2), ('gil', 1), ('televisor', 1), ('instalaciones', 1), ('salen', 1), ('planner', 1), ('reparacion', 1), ('projected', 1), ('reinstalación', 2), ('app', 3), ('inquietud', 1), ('ticket', 7), ('florticlient', 1), ('pre', 2), ('descargar', 3), ('señal', 1), ('reinicio', 3), ('parlantes', 4), ('sa20817', 1), ('configurar', 4), ('pagin', 1), ('actualizar', 1), ('un', 5), ('tbpm', 2), ('cruzar', 1), ('partidas', 2), ('abiertas', 1), ('cobro', 2), ('conteo', 1), ('cen', 1), ('biz', 1), ('transaccional', 1), ('cartelera', 3), ('actualiza', 2), ('navegar', 1), ('colocar', 3), ('almohadillas', 1), ('envio', 6), ('lentitud', 6), ('camilo', 3), ('arizabaleta', 1), ('ortiz', 1), ('regsitro', 1), ('referencias', 2), ('aparecen', 1), ('mc', 1), ('movilizacion', 1), ('cargo', 4), ('adaptador', 5), ('vga', 9), ('conversor', 2), ('importación', 2), ('tml', 1), ('nit', 1), ('errro', 1), ('hora', 3), ('dañado', 3), ('ampliación', 1), ('cedi', 3), ('area', 3), ('cu02', 1), ('dns', 1), ('computo', 4), ('privada', 1), ('brigada', 2), ('emocional', 1), ('programar', 1), ('reunion', 1), ('mdtat', 2), ('pe115816', 1), ('pe115817', 1), ('dañó', 1), ('cartera', 5), ('comunicaciones', 7), ('espacio', 4), ('sicoq', 1), ('color', 7), ('procedimiento', 2), ('unidad', 6), ('2g', 1), ('módem', 1), ('luis', 4), ('pixcelada', 1), ('sincro', 1), ('garantía', 2), ('cucuta', 3), ('paola', 2), ('apertura', 2), ('exel', 1), ('chaverra', 1), ('manufactura', 2), ('autosevicio', 1), ('designer', 3), ('kio', 1), ('cristian', 2), ('barrera', 1), ('microfono', 3), ('johny', 1), ('mencionado', 1), ('planeación', 1), ('operaciones', 1), ('congela', 1), ('premiere', 1), ('certificado', 4), ('retenciones', 1), ('bogta', 1), ('petición', 5), ('regalias', 1), ('autorales', 1), ('fonogramas', 1), ('disquera', 1), ('sesion', 1), ('otro', 2), ('conxion', 1), ('solitud', 2), ('toon', 1), ('boom', 1), ('datamax', 1), ('grabador', 1), ('iniciar', 6), ('prende', 2), ('cierre', 5), ('cristina', 1), ('colorado', 1), ('fijo', 3), ('asignacion', 2), ('galvis', 2), ('valentina', 2), ('isaza', 1), ('recibir', 3), ('info', 1), ('william', 4), ('suarez', 4), ('interna', 6), ('cambir', 1), ('desinstalar', 1), ('panama', 1), ('estudios', 4), ('charla', 1), ('power', 3), ('automate', 1), ('básico', 2), ('respaldo', 1), ('laptop', 5), ('gerencia', 2), ('garcia', 1), ('sayde', 1), ('generacion', 1), ('visita', 1), ('multi', 1), ('precio', 2), ('credito', 3), ('cobranza', 1), ('bo330685', 1), ('homeoffice', 1), ('supervisor', 1), ('access', 1), ('inalambrico', 1), ('nahomy', 1), ('hincapie', 1), ('estefany', 1), ('skype', 5), ('carsas', 1), ('practicantesig', 2), ('itunes', 1), ('transmicion', 1), ('reg', 3), ('villegas', 2), ('valoración', 1), ('yoshira', 1), ('barragán', 1), ('mail', 2), ('auditoria', 2), ('restaurante', 1), ('desactualizada', 1), ('eliminar', 1), ('ubicación', 3), ('faltan', 1), ('calculadora', 1), ('asingación', 1), ('medelli', 1), ('vasquez', 1), ('agudelo', 1), ('carcasa', 1), ('rastreo', 2), ('outllok', 1), ('audifonos', 1), ('erro', 4), ('configuracion', 4), ('probemas', 1), ('tecnicos', 1), ('tecla', 2), ('gigas', 1), ('claro', 4), ('años', 1), ('jairo', 1), ('cesar', 1), ('urbina', 1), ('vista', 1), ('saldo', 1), ('le', 7), ('sebastian', 1), ('rave', 1), ('cuadro', 1), ('portabilidad', 1), ('firewall', 1), ('fortigate', 1), ('60e', 1), ('adminsitrador', 1), ('katherine', 1), ('restrepo', 5), ('castrillon', 1), ('jheimy', 1), ('johanna', 1), ('ardila', 1), ('quema', 2), ('natalia', 1), ('buriticá', 1), ('domínguez', 1), ('estan', 1), ('bq161659', 1), ('tr', 2), ('incidente', 2), ('cambiado', 1), ('cerrado', 1), ('pe115570', 1), ('pe115571', 1), ('nicolas', 1), ('d', 1), ('intermitencia', 3), ('bq161648', 1), ('recogida', 1), ('t480', 1), ('imprimen', 1), ('pido', 1), ('imprime', 3), ('olga', 1), ('avendano', 1), ('bm10', 1), ('causación', 1), ('renovación', 4), ('rup', 1), ('constantino', 3), ('bpn', 1), ('noveda', 1), ('vll04', 1), ('colores', 1), ('desconfigurados', 1), ('alerta', 3), ('cuenta', 7), ('líder', 1), ('alexander', 2), ('erronea', 1), ('desktopcentral', 1), ('kaspersky', 3), ('agente', 1), ('j0689u0', 1), ('computadora', 6), ('lopez', 3), ('nuevamente', 1), ('vault', 1), ('adjuntar', 2), ('progress', 1), ('vpv', 1), ('alquilado', 1), ('procytec', 1), ('milenio', 1), ('ml', 2), ('ti', 6), ('dañada', 1), ('pantallazo', 1), ('me465953', 1), ('ajuste', 1), ('fondo', 5), ('enviar', 2), ('bg23', 1), ('foticlient', 2), ('lunes', 1), ('julio', 1), ('órdenes', 1), ('proveedores', 2), ('abono', 1), ('zonaa', 1), ('alfredo', 1), ('rolando', 1), ('grabaciones', 1), ('funcionan', 3), ('cómputo', 2), ('olvide', 1), ('forms', 1), ('suministros', 1), ('solciitud', 2), ('lisvedt', 1), ('monsalve', 1), ('villa', 1), ('cpu', 1), ('albeiro', 1), ('mendoza', 1), ('aplicado', 1), ('panamá', 1), ('mateo', 3), ('munera', 1), ('vanesa', 1), ('velasquez', 3), ('anggie', 1), ('alexandra', 1), ('recibos', 1), ('media', 1), ('encoder', 1), ('hhmo0268789', 1), ('hurto', 2), ('txrecep02', 1), ('aun', 1), ('qué', 1), ('esperas', 1), ('solicita', 1), ('potente', 1), ('dirección', 2), ('cotizar', 1), ('segundo', 2), ('nube', 2), ('psicologia', 1), ('yeimy', 1), ('catherine', 1), ('mosquera', 1), ('proyectar', 2), ('reubicación', 2), ('intalación', 2), ('bg10', 1), ('opción', 1), ('compartir', 2), ('través', 2), ('legales', 1), ('negra', 1), ('adptador', 1), ('petro', 1), ('fuerte', 1), ('ruido', 2), ('luisa', 2), ('vergara', 1), ('identificación', 1), ('estaciones', 1), ('assetexplorer', 1), ('endpoint', 1), ('todo', 1), ('inv', 1), ('sas', 1), ('express', 2), ('amazon', 1), ('tre', 1), ('mrp', 1), ('numbrut', 1), ('envia', 1), ('asociar', 1), ('blanco', 2), ('negro', 4), ('kiosco', 1), ('johan', 2), ('bedoya', 1), ('presentar', 1), ('point', 1), ('sección', 1), ('documentación', 1), ('ascap', 1), ('angel', 1), ('universal', 1), ('varia', 1), ('papel', 3), ('pe115397', 1), ('pe115398', 1), ('agua', 1), ('wiffi', 2), ('ingresan', 1), ('registrar', 2), ('accseso', 1), ('instlacion', 1), ('navegador', 2), ('mozilla', 1), ('ricardo', 2), ('cordoba', 1), ('retraso', 1), ('oulok', 1), ('corrección', 2), ('programación', 1), ('protectores', 1), ('alejandroarenas', 1), ('página', 2), ('jorge', 3), ('guisao', 1), ('rar', 1), ('restablecimiento', 1), ('cargue', 1), ('softexpert', 1), ('indicadores', 1), ('vivo', 1), ('complementos', 2), ('audífonos', 5), ('liberación', 1), ('adriana', 2), ('kinovea', 1), ('jhon', 4), ('jenifer', 1), ('parte', 2), ('demasiado', 1), ('asistencia', 2), ('azure', 1), ('auriculares', 1), ('alineación', 3), ('operación', 1), ('tecnoilogico', 1), ('descragr', 1), ('webinar', 2), ('turbinas', 1), ('hacer', 2), ('solo', 5), ('lectura', 3), ('effects', 2), ('requeriemieno', 1), ('comutador', 1), ('poblemas', 1), ('prevalidador', 3), ('dian', 6), ('mmg', 1), ('imposibilidad', 1), ('lg', 2), ('semestre', 1), ('codisco', 62), ('formación', 3), ('duplicación', 1), ('ayudan', 1), ('representación', 1), ('gráfica', 1), ('portal', 2), ('algunos', 1), ('división', 1), ('batt', 1), ('plantilla', 9), ('cragador', 1), ('impresosra', 1), ('desbloqueo', 1), ('vídeo', 1), ('soto', 1), ('rangos', 1), ('implementos', 1), ('colaboran', 1), ('anydesk', 1), ('store', 1), ('negocio', 1), ('díaz', 1), ('carta', 2), ('renuncia', 3), ('pero', 3), ('escuchan', 1), ('realizar', 4), ('volumen', 1), ('accede', 1), ('wi', 1), ('principal', 1), ('caído', 1), ('lanzamiento', 1), ('3csx', 1), ('inventario', 12), ('rendon', 1), ('camilia', 1), ('acosta', 2), ('aire', 1), ('acondicionado', 1), ('combo', 1), ('atencion', 1), ('lógico', 1), ('txtls33', 1), ('modificacion', 1), ('sitios', 1), ('sharepoint', 1), ('3xc', 1), ('descomprimir', 1), ('foriclient', 2), ('entrantes', 2), ('bq161240', 1), ('kiosko', 1), ('miguel', 1), ('amaya', 1), ('llevarme', 1), ('bq161211', 1), ('explicativo', 1), ('themis', 3), ('ci', 1), ('otrs', 1), ('manejo', 1), ('team', 65), ('fija', 1), ('àrea', 1), ('movimiento', 1), ('replicas', 1), ('nue', 1), ('dennis', 1), ('murcia', 1), ('brayan', 1), ('benitez', 1), ('murillo', 1), ('inicia', 4), ('ter4', 1), ('bu141696', 1), ('alternativo', 1), ('malo', 5), ('angelica', 1), ('laverde', 1), ('pe114849', 1), ('mt07', 1), ('francy', 1), ('tatiana', 2), ('eco', 1), ('refrigerante', 1), ('bienestar', 1), ('peticion', 2), ('operador', 1), ('prevalidadores', 1), ('procesamiento', 1), ('comunicacion', 1), ('lòpez', 1), ('vnp', 2), ('micro', 1), ('cambiario', 1), ('recojo', 1), ('limitación', 1), ('desplazamiento', 1), ('abre', 3), ('reproducción', 1), ('revisan', 2), ('montar', 1), ('kleiderman', 1), ('rojas', 3), ('l', 1), ('funcionando', 3), ('blequeado', 1), ('avisos', 1), ('promocionales', 1), ('diaz', 2), ('mayo', 1), ('quiso', 1), ('tamaño', 1), ('tabloide', 1), ('conocimiento', 1), ('móvil', 2), ('android', 5), ('velocidad', 1), ('radial', 1), ('barra', 2), ('presentado', 2), ('arrastrar', 1), ('formulas', 1), ('supernumeraria', 1), ('person', 1), ('fortyclient', 1), ('tiempo', 3), ('md45', 1), ('medellín', 4), ('roner', 1), ('descarga', 2), ('inconsistenci', 1), ('multiples', 1), ('generadas', 1), ('vanessa', 2), ('sofi', 1), ('conflicto', 3), ('contesto', 1), ('escucha', 3), ('operando', 1), ('normal', 1), ('suite', 1), ('rico', 1), ('archipos', 1), ('zip', 1), ('proyecto', 2), ('pedro', 1), ('bujato', 1), ('mauricio', 2), ('adicional', 1), ('xbrl', 2), ('visio', 1), ('ventana', 1), ('emergente', 1), ('teletrabajo', 3), ('admon', 3), ('telefonia', 1), ('sostenibilidad', 1), ('sossa', 1), ('aumentar', 2), ('inactividad', 1), ('eroor', 1), ('presidente', 1), ('aranzazu', 1), ('ovalle', 1), ('darley', 3), ('enviárselo', 1), ('comunicarme', 1), ('telefonicamente', 1), ('fortcliente', 1), ('auditorio', 3), ('disponibilidad', 1), ('curso', 2), ('torre', 1), ('decconexion', 1), ('larry', 1), ('bermejo', 1), ('recepción', 2), ('parcticante', 1), ('morales', 2), ('depuración', 1), ('desconexcion', 1), ('videoconferencias', 1), ('desconexión', 1), ('constante', 1), ('abril', 1), ('recolección', 1), ('pasos', 1), ('autoventa', 1), ('inconvientes', 1), ('activiti', 1), ('errada', 2), ('recurrentes', 1), ('visión', 1), ('regionales', 2), ('sonda', 1), ('necesitamos', 1), ('giovanny', 1), ('disponible', 3), ('hemeva', 1), ('confirman', 1), ('si', 3), ('solictud', 2), ('iconos', 1), ('inasistencia', 1), ('mario', 1), ('alvarez', 1), ('realiza', 2), ('deshabilitado', 1), ('borre', 1), ('intentar', 1), ('cjat', 1), ('posibilidad', 1), ('estos', 1), ('podemos', 1), ('asignar', 1), ('cosmo', 3), ('consult', 1), ('comercializadora', 1), ('internacional', 1), ('milpa', 1), ('videollamada', 1), ('c3x', 2), ('fotticlient', 1), ('callcenterconectat', 1), ('trabajando', 1), ('continuan', 1), ('plana', 1), ('pasan', 1), ('w', 1), ('emision', 1), ('inc', 1), ('youtube', 1), ('febrero', 1), ('auto', 1), ('cad', 1), ('consorcio', 1), ('siep', 1), ('yamile', 3), ('practiconta2', 1), ('atento', 1), ('mind', 1), ('agregar', 1), ('stylus', 1), ('picking', 1), ('pracicante', 1), ('gmail', 1), ('colaboración', 2), ('resolver', 1), ('versión', 1), ('ella', 2), ('necesita', 1), ('preguntar', 1), ('unos', 1), ('tenia', 1), ('llamada', 29), ('deequipo', 1), ('cedi4', 2), ('conferencia', 2), ('tania', 1), ('gaona', 1), ('reminder', 1), ('extraordinario', 1), ('due', 1), ('start', 1), ('hour', 1), ('pe114912', 1), ('avanzar', 1), ('probleas', 1), ('mkmina', 1), ('contacto', 2), ('diario', 3), ('reclasificacion', 1), ('incoveniente', 1), ('actualizan', 1), ('vannesa', 1), ('instalan', 1), ('córdoba', 1), ('tablet', 1), ('litografia', 1), ('nunroute', 2), ('operacion', 1), ('turno', 1), ('grabar', 1), ('apex3', 1), ('regioal', 1), ('monteria', 2), ('taller', 2), ('rubén', 1), ('ruiz', 1), ('notification', 1), ('password', 1), ('update', 1), ('bm11', 2), ('estuches', 1), ('mt01', 1), ('german', 1), ('umaña', 1), ('crome', 1), ('verónica', 1), ('alexis', 1), ('arteaga', 1), ('inclusión', 1), ('juridico', 1), ('fevp', 1), ('rua', 1), ('porgrama', 1), ('cyan', 1), ('phaser', 1), ('serial', 1), ('pf02xnnh', 1), ('droga', 3), ('números', 1), ('bombillos', 1), ('punto', 4), ('baquero', 1), ('financiera', 2), ('guia', 2), ('instalado', 1), ('grabacion', 1), ('llega', 2), ('a0073', 1), ('a1295', 1), ('juntas', 3), ('cp', 1), ('comapartida', 1), ('facturacuion', 1), ('tv', 2), ('jurado', 1), ('transacciones', 1), ('leonardo', 1), ('reemplazar', 1), ('reserva', 7), ('sensor', 1), ('retransmisión', 1), ('secuencia', 1), ('numerica', 2), ('xmind', 1), ('net', 1), ('denuncio', 1), ('separar', 2), ('arquimedes', 1), ('ax12', 1), ('administradores', 2), ('buenos', 1), ('eliseo', 1), ('privado', 1), ('asigno', 1), ('ayer', 1), ('probelma', 2), ('eléctronico', 1), ('techado', 1), ('bi', 1), ('simcard', 1), ('autorizar', 1), ('lorena', 1), ('actualizaciones', 1), ('visualizar', 1), ('imágenes', 1), ('marcadores', 1), ('borrador', 1), ('planes', 1), ('primer', 1), ('cuerda', 1), ('espiral', 1), ('tiket', 1), ('verificacion', 1), ('registrado', 1), ('quedó', 1), ('restauración', 1), ('mantum', 1), ('carperta', 1), ('scamer', 1), ('quitar', 1), ('alkalina', 1), ('book', 1), ('desconfiguracion', 1), ('direccion', 1), ('lauura', 1), ('edward', 1), ('gisela', 1), ('mantilla', 1), ('estudiante', 1), ('seguimiento', 2), ('marcar', 1), ('físico', 1), ('cabrera', 1), ('gp', 2), ('pe606', 1), ('sendgrid', 2), ('buscar', 1), ('desvio', 1), ('rino', 1), ('fenalco', 1), ('solidario', 1), ('formador', 1), ('formadores', 1), ('vega', 1), ('infinity', 1), ('celúlar', 1), ('yenny', 1), ('david', 1), ('tareas', 1), ('pac', 1), ('entrando', 1), ('calibrar', 1), ('táctil', 1), ('clonar', 1), ('ga', 1), ('operarios', 1), ('residuos', 1), ('suben', 1), ('dvd', 2), ('cargar', 2), ('categoría', 1), ('mod', 1), ('enviando', 1), ('articulos', 1), ('ener', 1), ('creative', 1), ('debaja', 1), ('iejos', 1), ('bucarmanga', 1), ('llamar', 1), ('santiago', 1), ('correa', 1), ('transferencias', 1), ('aseso', 1), ('nomrot', 1), ('anexa', 1), ('ca110457', 1), ('aumento', 1), ('chequeo', 1), ('clase', 1), ('yoga', 1), ('pendiente', 3), ('exchange', 1), ('online', 1), ('bajo', 2), ('llagan', 1), ('departamento', 1), ('llamdas', 1), ('nacionales', 1), ('movil', 1), ('guerrero', 1), ('borrado', 1), ('adm', 1), ('junior', 2), ('rvelez', 1), ('localización', 1), ('mexico', 1), ('hhpe249992', 1), ('hhme0422586', 1), ('hhme0422742', 1), ('katerine', 1), ('hhbq237835', 1), ('encontrada', 1), ('sicroniza', 1), ('hhme0422473', 1), ('hhme0422466', 1), ('moreno', 1), ('ledesma', 1), ('maría', 1), ('subido', 1), ('quemado', 1), ('deficiente', 1), ('extensiones', 2), ('lezcano', 1), ('buzon', 1), ('yissel', 1), ('preventivo', 1), ('tigo', 1), ('une', 1), ('req000000498793', 1), ('liberar', 1), ('enero', 1), ('posible', 1), ('camparte', 1), ('sql', 1), ('server', 1), ('epson', 1), ('webmeeting', 1), ('edwar', 1), ('gumana2', 1), ('villada', 1), ('erlendy', 1), ('kathy', 1), ('lizet', 1), ('muñoz', 1), ('villalva', 1), ('ib05', 1), ('incompleto', 2), ('quipo', 1), ('beatriz', 1), ('sputnik', 1), ('nivel', 1), ('nacional', 1), ('total', 1), ('solcitud', 1), ('redireccionamiento', 1), ('ofice', 1), ('solicitamos', 1), ('conecatar', 1), ('era', 1), ('jefferson', 1), ('diana', 1), ('urrego', 1), ('redireccionar', 1), ('eduardo', 1), ('cordovez', 1), ('tapia', 1), ('guaya', 2), ('winpos', 1), ('formal', 1), ('andrey', 2), ('nc25933', 1), ('inconvenientes con', 20), ('con la', 53), ('solicitud de', 203), ('problemas para', 31), ('para conectarme', 14), ('la vpn', 40), ('de recursos', 114), ('en red', 15), ('sin acceso', 33), ('la red', 43), ('inconvenientes para', 14), ('problemas con', 117), ('con ax', 19), ('entrega de', 12), ('nuevo buzón', 23), ('buzón de', 23), ('de voz', 23), ('voz desde', 23), ('fabio alberto', 2), ('alberto salazar', 2), ('correo electronico', 4), ('en ax', 23), ('problema con', 25), ('regional bucaramanga', 5), ('error en', 23), ('ajustes presupuesto', 2), ('conexion vpn', 22), ('dynamics ax', 4), ('tronex gf', 5), ('cambio de', 90), ('edgar olaya', 3), ('olaya rodriguez', 2), ('rv computer', 27), ('para guardar', 6), ('envió para', 69), ('para bucaramanga', 12), ('error al', 20), ('al crear', 7), ('acceso carpeta', 35), ('carpeta ghumana2', 5), ('conexión vpn', 26), ('conexión forticlient', 15), ('puede acceder', 16), ('la plataforma', 7), ('video beam', 2), ('creación de', 22), ('para bogotá', 21), ('novedad dispositivo', 9), ('sim card', 2), ('carpeta divi', 7), ('divi energia', 9), ('gestión humana', 3), ('correo electrónico', 11), ('maquina hand', 4), ('hand hell', 6), ('catalina acevedo', 2), ('formato daño', 38), ('daño hh', 10), ('hh formato', 18), ('daño cargador', 13), ('daño batería', 9), ('batería hh', 11), ('la troja', 5), ('reporte de', 18), ('impresora zona', 17), ('hardware physical', 5), ('physical memory', 5), ('para ibagué', 6), ('de red', 60), ('inicio de', 12), ('de sesión', 11), ('solicitud cambio', 20), ('cargador hh', 11), ('error crear', 45), ('clientes ax', 14), ('sala liv', 3), ('hector manuel', 2), ('manuel martinez', 2), ('configuración impresora', 15), ('instalación de', 41), ('con el', 58), ('maquina virtual', 4), ('ana maria', 3), ('poblaciones santander', 4), ('music maestro', 9), ('crear cliente', 58), ('cliente ax', 29), ('productivo zona', 42), ('zona tipo', 42), ('tipo facturas', 41), ('facturas venta', 41), ('venta documento', 41), ('retiro de', 13), ('saydee moya', 4), ('mal estado', 4), ('de equipo', 57), ('hardware memoria', 3), ('memoria física', 3), ('daño impresora', 12), ('de contraseña', 40), ('en la', 45), ('de usuario', 22), ('gestión ambiental', 4), ('inscripción kit', 2), ('la empresa', 4), ('documento productivo', 11), ('fanery henao', 7), ('consumo masivo', 2), ('ayuda con', 26), ('caja general', 4), ('para acceder', 9), ('las carpetas', 29), ('fallo en', 9), ('forticlient vpn', 17), ('carpeta compartida', 15), ('administrador local', 3), ('pv sol', 2), ('solicitud factura', 22), ('linea telefonica', 4), ('para ingresar', 17), ('forti client', 5), ('de de', 1), ('hh zona', 9), ('por favor', 12), ('pro dc', 2), ('se bloquea', 3), ('puede conectarse', 6), ('kevin causil', 4), ('carpeta plan', 14), ('plan tronex', 10), ('tronex industrial', 4), ('novedad informacion', 6), ('informacion producto', 4), ('notificación evento', 2), ('evento recibido', 2), ('comprobante nº', 2), ('cod bcnx1', 2), ('memory added', 4), ('en el', 28), ('correo corporativo', 6), ('sylvia arango', 3), ('sistema operativo', 3), ('llegan los', 3), ('préstamo de', 19), ('línea telefónica', 10), ('regional cali', 9), ('investigar pc', 6), ('pc cod', 5), ('cod 07ep0z', 2), ('carpeta cadena', 5), ('recursos juan', 8), ('imac placa', 3), ('acceso directo', 8), ('hugo osorio', 2), ('la compañía', 4), ('microsoft teams', 7), ('abrir archivo', 5), ('creacion de', 11), ('hardware 45n1127', 3), ('la aplicacion', 6), ('autores editores', 2), ('salida de', 11), ('instalación software', 8), ('de problemas', 1), ('andrea ceballos', 3), ('para abrir', 8), ('trabajo en', 14), ('acceso de', 3), ('llamadas por', 5), ('creación cliente', 7), ('del pc', 9), ('hand held', 8), ('control interno', 2), ('el mouse', 8), ('camila echeverri', 2), ('cable usb', 7), ('salen llamadas', 3), ('caja santandereana', 2), ('subsidio familiar', 2), ('familiar cajasan', 2), ('asset explorer', 2), ('servicio al', 5), ('dificultad para', 6), ('cartelera digital', 5), ('puede imprimir', 4), ('argelis aviles', 3), ('carlos ortiz', 3), ('adaptador hdmi', 5), ('hh xls', 4), ('mi pc', 6), ('luis alvaro', 3), ('alvaro sanchez', 2), ('entrada llamadas', 3), ('flash player', 2), ('clave correo', 6), ('juan pablo', 5), ('activos fijos', 3), ('recursos valentina', 4), ('tronex battery', 3), ('battery company', 3), ('fredy paipa', 4), ('project libre', 2), ('respuesta encuesta', 9), ('encuesta como', 9), ('como está', 9), ('está tu', 9), ('tu conexión', 9), ('para trabajo', 11), ('en casa', 12), ('casa home', 9), ('home office', 15), ('office respuesta', 5), ('business central', 2), ('tr sto2', 2), ('impresoras de', 1), ('envió regulador', 4), ('tu cuenta', 3), ('google vinculada', 3), ('líder logístico', 2), ('alexánder ceballos', 2), ('johan bedoya', 3), ('celular corporativo', 4), ('buenas tardes', 2), ('nancy ramirez', 2), ('clientes crm', 6), ('cruce consignaciones', 2), ('consignaciones vendedor', 2), ('jorge enrique', 2), ('enrique diaz', 2), ('actualizar wa', 3), ('mauricio gallo', 2), ('informacion importante', 3), ('importante acerca', 3), ('acerca del', 3), ('novedad descarga', 4), ('disco duro', 2), ('portátil sandra', 4), ('sandra milena', 4), ('milena prieto', 4), ('ax de', 1), ('bateria bateria', 8), ('curso alcohol', 2), ('esteban jurado', 2), ('proceso nocturno', 3), ('nocturno mobile', 3), ('mobile transacciones', 2), ('google drive', 3), ('doña angela', 2), ('john edward', 2), ('comité primario', 2), ('primario regionales', 2), ('daniela lemaitre', 3), ('costo distribución', 2), ('distribución preventa', 2), ('caso registrado', 2), ('accesos de', 1)])"
      ]
     },
     "execution_count": 145,
     "metadata": {},
     "output_type": "execute_result"
    }
   ],
   "source": [
    "WC = WordCloud(width=1000, height=600)\n",
    "WC.process_text(text=comment_words).items()"
   ]
  },
  {
   "cell_type": "code",
   "execution_count": 147,
   "id": "enormous-communication",
   "metadata": {},
   "outputs": [
    {
     "data": {
      "text/plain": [
       "{'de': 519,\n",
       " 'solicitud': 221,\n",
       " 'impresora': 207,\n",
       " 'rv': 205,\n",
       " 'solicitud de': 203,\n",
       " 'acceso': 193,\n",
       " 'carpeta': 159,\n",
       " 'problema': 150,\n",
       " 'ax': 144,\n",
       " 'y': 127,\n",
       " 'problemas con': 117,\n",
       " 'de recursos': 114,\n",
       " 'equipo': 110,\n",
       " 'conexión': 109,\n",
       " 'forticlient': 96,\n",
       " 'requerimiento': 95,\n",
       " '3cx': 94,\n",
       " 'cambio de': 90,\n",
       " 'ingreso': 89,\n",
       " 'en': 86,\n",
       " 'la': 77,\n",
       " 'para': 77,\n",
       " 'correo': 74,\n",
       " 'error': 74,\n",
       " 'novedad': 73,\n",
       " 'permiso': 70,\n",
       " 'computador': 69,\n",
       " 'envió para': 69,\n",
       " 're': 66,\n",
       " 'pc': 65,\n",
       " 'team': 65,\n",
       " 'codisco': 62,\n",
       " 'de red': 60,\n",
       " 'inconveniente': 59,\n",
       " 'con el': 58,\n",
       " 'crear cliente': 58,\n",
       " 'de equipo': 57,\n",
       " 'vpn': 56,\n",
       " 'archivo': 55,\n",
       " 'internet': 55,\n",
       " 'revisión': 54,\n",
       " 'conexion': 53,\n",
       " 'con la': 53,\n",
       " 'sin': 49,\n",
       " 'del': 49,\n",
       " 'wa': 47,\n",
       " 'pantalla': 46,\n",
       " 'falla': 46,\n",
       " 'contraseña': 45,\n",
       " 'error crear': 45,\n",
       " 'en la': 45,\n",
       " 'teclado': 44,\n",
       " 'la red': 43,\n",
       " 'productivo zona': 42,\n",
       " 'zona tipo': 42,\n",
       " 'tronex': 41,\n",
       " 'instalación de': 41,\n",
       " 'tipo facturas': 41,\n",
       " 'facturas venta': 41,\n",
       " 'venta documento': 41,\n",
       " 'ayuda': 40,\n",
       " 'instalación': 40,\n",
       " 'la vpn': 40,\n",
       " 'de contraseña': 40,\n",
       " 'formato daño': 38,\n",
       " 'acceso carpeta': 35,\n",
       " 'portátil': 33,\n",
       " 'sin acceso': 33,\n",
       " 'red': 32,\n",
       " 'configuración': 32,\n",
       " 'mouse': 31,\n",
       " 'problemas para': 31,\n",
       " 'portatil': 30,\n",
       " 'bodega': 30,\n",
       " 'funciona': 30,\n",
       " 'contact': 29,\n",
       " 'programa': 29,\n",
       " 'llamada': 29,\n",
       " 'cliente ax': 29,\n",
       " 'las carpetas': 29,\n",
       " 'el': 28,\n",
       " 'wifi': 28,\n",
       " 'celular': 28,\n",
       " 'en el': 28,\n",
       " 'excel': 27,\n",
       " 'multisinergia': 27,\n",
       " 'usuario': 27,\n",
       " 'rv computer': 27,\n",
       " 'clave': 26,\n",
       " 'conecta': 26,\n",
       " 'hh': 26,\n",
       " 'teléfono': 26,\n",
       " 'conexión vpn': 26,\n",
       " 'ayuda con': 26,\n",
       " 'problema con': 25,\n",
       " 'pila': 24,\n",
       " 'antivirus': 24,\n",
       " 'servicio': 23,\n",
       " 'nuevo buzón': 23,\n",
       " 'buzón de': 23}"
      ]
     },
     "execution_count": 147,
     "metadata": {},
     "output_type": "execute_result"
    }
   ],
   "source": [
    "sorted_frequencies = sorted(\n",
    "        WC.process_text(text=comment_words).items(), key=lambda x: x[1], reverse=True\n",
    "    )\n",
    "frequencies = {\n",
    "    k: v for k, v in sorted_frequencies[:100] if v >= 15\n",
    "}\n",
    "frequencies"
   ]
  },
  {
   "cell_type": "code",
   "execution_count": 63,
   "id": "failing-angle",
   "metadata": {
    "slideshow": {
     "slide_type": "slide"
    },
    "tags": []
   },
   "outputs": [
    {
     "data": {
      "text/plain": [
       "(-0.5, 799.5, 799.5, -0.5)"
      ]
     },
     "execution_count": 63,
     "metadata": {},
     "output_type": "execute_result"
    },
    {
     "data": {
      "image/png": "[encoded data removed]",
      "text/plain": [
       "<Figure size 504x504 with 1 Axes>"
      ]
     },
     "metadata": {
      "needs_background": "light"
     },
     "output_type": "display_data"
    }
   ],
   "source": [
    "plt.figure(figsize = (7, 7), facecolor = None)\n",
    "plt.imshow(wordcloud)\n",
    "plt.axis(\"off\")"
   ]
  },
  {
   "cell_type": "markdown",
   "id": "twenty-fashion",
   "metadata": {
    "slideshow": {
     "slide_type": "slide"
    },
    "tags": []
   },
   "source": [
    "### Distribución de los datos"
   ]
  },
  {
   "cell_type": "code",
   "execution_count": 64,
   "id": "scientific-standing",
   "metadata": {
    "jupyter": {
     "source_hidden": true
    },
    "slideshow": {
     "slide_type": "skip"
    },
    "tags": []
   },
   "outputs": [],
   "source": [
    "def show_distribution(var_data):\n",
    "\n",
    "    # Get statistics\n",
    "    min_val = var_data.min()\n",
    "    max_val = var_data.max()\n",
    "    mean_val = var_data.mean()\n",
    "    med_val = var_data.median()\n",
    "    mod_val = var_data.mode()[0]\n",
    "\n",
    "    print('Minimum: {:,.2f}\\nMean: {:,.2f}\\nMedian: {:,.2f}\\nMode: {:,.2f}\\nMaximum: {:,.2f}\\n'.format(min_val,\n",
    "                                                                                            mean_val,\n",
    "                                                                                            med_val,\n",
    "                                                                                            mod_val,\n",
    "                                                                                            max_val))\n",
    "\n",
    "    # Create a figure for 2 subplots (2 rows, 1 column)\n",
    "    fig, ax = plt.subplots(2, 1, figsize = (10,4))\n",
    "\n",
    "    # Plot the histogram   \n",
    "    ax[0].hist(var_data, color='yellowgreen' , edgecolor=\"#6A9662\")\n",
    "    ax[0].set_ylabel('Frequency')\n",
    "\n",
    "    # Add lines for the mean, median, and mode\n",
    "    ax[0].axvline(x=min_val, color = 'gray', linestyle='dashed', linewidth = 2)\n",
    "    ax[0].axvline(x=mean_val, color = 'cyan', linestyle='dashed', linewidth = 2)\n",
    "    ax[0].axvline(x=med_val, color = 'red', linestyle='dashed', linewidth = 2)\n",
    "    ax[0].axvline(x=mod_val, color = 'yellow', linestyle='dashed', linewidth = 2)\n",
    "    ax[0].axvline(x=max_val, color = 'gray', linestyle='dashed', linewidth = 2)\n",
    "\n",
    "    # Plot the boxplot   \n",
    "    ax[1].boxplot(var_data, vert=False)\n",
    "    ax[1].set_xlabel('Value')\n",
    "\n",
    "    # Add a title to the Figure\n",
    "    fig.suptitle('Data Distribution')\n",
    "\n",
    "    # Show the figure\n",
    "#    fig.show()"
   ]
  },
  {
   "cell_type": "code",
   "execution_count": 65,
   "id": "executed-perfume",
   "metadata": {
    "slideshow": {
     "slide_type": "fragment"
    }
   },
   "outputs": [],
   "source": [
    "df1 = pd.Series(pd.to_timedelta(df.loc[df['asignado_cerrado'] != '0', \\\n",
    "                                       'asignado_cerrado'].values).seconds/3600)"
   ]
  },
  {
   "cell_type": "code",
   "execution_count": 66,
   "id": "dying-modification",
   "metadata": {
    "slideshow": {
     "slide_type": "subslide"
    },
    "tags": []
   },
   "outputs": [
    {
     "name": "stdout",
     "output_type": "stream",
     "text": [
      "Minimum: 0.01\n",
      "Mean: 5.13\n",
      "Median: 2.41\n",
      "Mode: 23.00\n",
      "Maximum: 24.00\n",
      "\n"
     ]
    },
    {
     "data": {
      "image/png": "[encoded data removed]",
      "text/plain": [
       "<Figure size 720x288 with 2 Axes>"
      ]
     },
     "metadata": {
      "needs_background": "light"
     },
     "output_type": "display_data"
    }
   ],
   "source": [
    "show_distribution(df1[df1<10000])"
   ]
  },
  {
   "cell_type": "markdown",
   "id": "northern-photographer",
   "metadata": {
    "slideshow": {
     "slide_type": "slide"
    }
   },
   "source": [
    "## Datamining - Reglas de asociación"
   ]
  },
  {
   "cell_type": "markdown",
   "id": "looking-meaning",
   "metadata": {
    "slideshow": {
     "slide_type": "fragment"
    }
   },
   "source": [
    "`En minería de datos y aprendizaje automático, las reglas de asociación se utilizan para descubrir hechos que ocurren en común dentro de un determinado conjunto de datos.` *Wikipedia*"
   ]
  },
  {
   "cell_type": "markdown",
   "id": "mysterious-distribution",
   "metadata": {
    "slideshow": {
     "slide_type": "subslide"
    },
    "tags": []
   },
   "source": [
    "#### Se analizaron los tickets creados según el campo \"servicio\""
   ]
  },
  {
   "cell_type": "markdown",
   "id": "visible-blair",
   "metadata": {
    "slideshow": {
     "slide_type": "fragment"
    },
    "tags": []
   },
   "source": [
    "Después de analizar varios escenarios los siguientes servicios por su alta frecuencia:\n",
    "\n",
    "* OFIMATICA::EQUIPOS DE COMPUTO\n",
    "* OFIMATICA::APLICACIONES DE ESCRITORIO"
   ]
  },
  {
   "cell_type": "markdown",
   "id": "proper-florist",
   "metadata": {
    "slideshow": {
     "slide_type": "slide"
    }
   },
   "source": [
    "### Se construye una tabla con el conteo de todos los servicios"
   ]
  },
  {
   "cell_type": "code",
   "execution_count": 67,
   "id": "collectible-termination",
   "metadata": {
    "jupyter": {
     "source_hidden": true
    },
    "slideshow": {
     "slide_type": "subslide"
    },
    "tags": []
   },
   "outputs": [],
   "source": [
    "df['cantidad_servicio'] = 1\n",
    "\n",
    "df_pivot = df.pivot_table(index='fecha_creacion', \\\n",
    "                          columns='servicio', \\\n",
    "                          aggfunc='sum', \\\n",
    "                          values='cantidad_servicio', \\\n",
    "                          fill_value=0)\n",
    "\n",
    "df_pivot.drop(columns=['OFIMATICA::EQUIPOS DE COMPUTO', \\\n",
    "                       'OFIMATICA::APLICACIONES DE ESCRITORIO'], \\\n",
    "              inplace=True)\n",
    "\n",
    "def encode(x):\n",
    "    if x <= 0:\n",
    "        return 0\n",
    "    if x >= 1:\n",
    "        return 1\n",
    "\n",
    "df_pivot = df_pivot.applymap(encode)"
   ]
  },
  {
   "cell_type": "markdown",
   "id": "capable-rating",
   "metadata": {
    "slideshow": {
     "slide_type": "slide"
    }
   },
   "source": [
    "### Tabla con el conteo de todos los servicios"
   ]
  },
  {
   "cell_type": "code",
   "execution_count": 68,
   "id": "criminal-update",
   "metadata": {
    "scrolled": true,
    "slideshow": {
     "slide_type": "fragment"
    }
   },
   "outputs": [
    {
     "data": {
      "text/html": [
       "<div>\n",
       "<style scoped>\n",
       "    .dataframe tbody tr th:only-of-type {\n",
       "        vertical-align: middle;\n",
       "    }\n",
       "\n",
       "    .dataframe tbody tr th {\n",
       "        vertical-align: top;\n",
       "    }\n",
       "\n",
       "    .dataframe thead th {\n",
       "        text-align: right;\n",
       "    }\n",
       "</style>\n",
       "<table border=\"1\" class=\"dataframe\">\n",
       "  <thead>\n",
       "    <tr style=\"text-align: right;\">\n",
       "      <th>servicio</th>\n",
       "      <th>ACCESIBILIDAD::DIRECTORIO ACTIVO</th>\n",
       "      <th>AUTOMATIZACION DE FLOTA Y TRANSPORTE::ADMINISTRACION</th>\n",
       "      <th>AUTOMATIZACION DE LA ADMINISTRACION TI::CABLEADO ESTRUCTURADO</th>\n",
       "      <th>AUTOMATIZACION DE LA ADMINISTRACION TI::GESTION TIC</th>\n",
       "      <th>AUTOMATIZACION DE LA ADMINISTRACION TI::SEGURIDAD DE LA INFORMACIÓN</th>\n",
       "      <th>AUTOMATIZACION DE LA ADMINISTRACION TI::SERVICIOS EN LA NUBE</th>\n",
       "      <th>AUTOMATIZACION FUERZA DE VENTAS</th>\n",
       "      <th>AUTOMATIZACION FUERZA DE VENTAS::ADMINISTRACION</th>\n",
       "      <th>AUTOMATIZACION FUERZA DE VENTAS::CIERRE DE DIA</th>\n",
       "      <th>AUTOMATIZACION FUERZA DE VENTAS::INICIO DE DIA</th>\n",
       "      <th>...</th>\n",
       "      <th>NAVEGACION::POR CABLE</th>\n",
       "      <th>NAVEGACION::WEBSERVICE</th>\n",
       "      <th>OFIMATICA</th>\n",
       "      <th>OFIMATICA::PERIFERICO</th>\n",
       "      <th>OFIMATICA::SOLICITUD DE RECURSO</th>\n",
       "      <th>TELEFONIA</th>\n",
       "      <th>TELEFONIA::TELEFONIA CONMUTADA</th>\n",
       "      <th>TELEFONIA::TELEFONIA IP</th>\n",
       "      <th>TELEFONIA::TELEFONIA MOVIL</th>\n",
       "      <th>_SIN SERVICIO</th>\n",
       "    </tr>\n",
       "    <tr>\n",
       "      <th>fecha_creacion</th>\n",
       "      <th></th>\n",
       "      <th></th>\n",
       "      <th></th>\n",
       "      <th></th>\n",
       "      <th></th>\n",
       "      <th></th>\n",
       "      <th></th>\n",
       "      <th></th>\n",
       "      <th></th>\n",
       "      <th></th>\n",
       "      <th></th>\n",
       "      <th></th>\n",
       "      <th></th>\n",
       "      <th></th>\n",
       "      <th></th>\n",
       "      <th></th>\n",
       "      <th></th>\n",
       "      <th></th>\n",
       "      <th></th>\n",
       "      <th></th>\n",
       "      <th></th>\n",
       "    </tr>\n",
       "  </thead>\n",
       "  <tbody>\n",
       "    <tr>\n",
       "      <th>2020-01-02</th>\n",
       "      <td>0</td>\n",
       "      <td>0</td>\n",
       "      <td>0</td>\n",
       "      <td>0</td>\n",
       "      <td>0</td>\n",
       "      <td>0</td>\n",
       "      <td>0</td>\n",
       "      <td>0</td>\n",
       "      <td>0</td>\n",
       "      <td>0</td>\n",
       "      <td>...</td>\n",
       "      <td>0</td>\n",
       "      <td>0</td>\n",
       "      <td>0</td>\n",
       "      <td>1</td>\n",
       "      <td>0</td>\n",
       "      <td>0</td>\n",
       "      <td>0</td>\n",
       "      <td>0</td>\n",
       "      <td>1</td>\n",
       "      <td>0</td>\n",
       "    </tr>\n",
       "    <tr>\n",
       "      <th>2020-01-03</th>\n",
       "      <td>0</td>\n",
       "      <td>0</td>\n",
       "      <td>0</td>\n",
       "      <td>0</td>\n",
       "      <td>0</td>\n",
       "      <td>0</td>\n",
       "      <td>0</td>\n",
       "      <td>0</td>\n",
       "      <td>0</td>\n",
       "      <td>0</td>\n",
       "      <td>...</td>\n",
       "      <td>0</td>\n",
       "      <td>0</td>\n",
       "      <td>0</td>\n",
       "      <td>0</td>\n",
       "      <td>1</td>\n",
       "      <td>0</td>\n",
       "      <td>0</td>\n",
       "      <td>0</td>\n",
       "      <td>0</td>\n",
       "      <td>0</td>\n",
       "    </tr>\n",
       "    <tr>\n",
       "      <th>2020-01-07</th>\n",
       "      <td>1</td>\n",
       "      <td>0</td>\n",
       "      <td>0</td>\n",
       "      <td>1</td>\n",
       "      <td>0</td>\n",
       "      <td>0</td>\n",
       "      <td>0</td>\n",
       "      <td>0</td>\n",
       "      <td>0</td>\n",
       "      <td>0</td>\n",
       "      <td>...</td>\n",
       "      <td>1</td>\n",
       "      <td>0</td>\n",
       "      <td>0</td>\n",
       "      <td>1</td>\n",
       "      <td>1</td>\n",
       "      <td>0</td>\n",
       "      <td>0</td>\n",
       "      <td>1</td>\n",
       "      <td>0</td>\n",
       "      <td>0</td>\n",
       "    </tr>\n",
       "    <tr>\n",
       "      <th>2020-01-08</th>\n",
       "      <td>0</td>\n",
       "      <td>0</td>\n",
       "      <td>0</td>\n",
       "      <td>0</td>\n",
       "      <td>0</td>\n",
       "      <td>0</td>\n",
       "      <td>0</td>\n",
       "      <td>0</td>\n",
       "      <td>0</td>\n",
       "      <td>0</td>\n",
       "      <td>...</td>\n",
       "      <td>0</td>\n",
       "      <td>0</td>\n",
       "      <td>0</td>\n",
       "      <td>1</td>\n",
       "      <td>1</td>\n",
       "      <td>0</td>\n",
       "      <td>0</td>\n",
       "      <td>1</td>\n",
       "      <td>0</td>\n",
       "      <td>0</td>\n",
       "    </tr>\n",
       "    <tr>\n",
       "      <th>2020-01-09</th>\n",
       "      <td>0</td>\n",
       "      <td>0</td>\n",
       "      <td>0</td>\n",
       "      <td>0</td>\n",
       "      <td>0</td>\n",
       "      <td>0</td>\n",
       "      <td>0</td>\n",
       "      <td>0</td>\n",
       "      <td>0</td>\n",
       "      <td>0</td>\n",
       "      <td>...</td>\n",
       "      <td>0</td>\n",
       "      <td>0</td>\n",
       "      <td>0</td>\n",
       "      <td>1</td>\n",
       "      <td>0</td>\n",
       "      <td>0</td>\n",
       "      <td>0</td>\n",
       "      <td>0</td>\n",
       "      <td>0</td>\n",
       "      <td>0</td>\n",
       "    </tr>\n",
       "    <tr>\n",
       "      <th>2020-01-10</th>\n",
       "      <td>0</td>\n",
       "      <td>0</td>\n",
       "      <td>1</td>\n",
       "      <td>0</td>\n",
       "      <td>0</td>\n",
       "      <td>0</td>\n",
       "      <td>0</td>\n",
       "      <td>0</td>\n",
       "      <td>0</td>\n",
       "      <td>0</td>\n",
       "      <td>...</td>\n",
       "      <td>0</td>\n",
       "      <td>0</td>\n",
       "      <td>0</td>\n",
       "      <td>0</td>\n",
       "      <td>0</td>\n",
       "      <td>0</td>\n",
       "      <td>0</td>\n",
       "      <td>0</td>\n",
       "      <td>1</td>\n",
       "      <td>0</td>\n",
       "    </tr>\n",
       "    <tr>\n",
       "      <th>2020-01-11</th>\n",
       "      <td>1</td>\n",
       "      <td>0</td>\n",
       "      <td>0</td>\n",
       "      <td>0</td>\n",
       "      <td>0</td>\n",
       "      <td>0</td>\n",
       "      <td>0</td>\n",
       "      <td>0</td>\n",
       "      <td>0</td>\n",
       "      <td>0</td>\n",
       "      <td>...</td>\n",
       "      <td>0</td>\n",
       "      <td>0</td>\n",
       "      <td>0</td>\n",
       "      <td>0</td>\n",
       "      <td>0</td>\n",
       "      <td>0</td>\n",
       "      <td>0</td>\n",
       "      <td>0</td>\n",
       "      <td>0</td>\n",
       "      <td>0</td>\n",
       "    </tr>\n",
       "    <tr>\n",
       "      <th>2020-01-13</th>\n",
       "      <td>1</td>\n",
       "      <td>0</td>\n",
       "      <td>0</td>\n",
       "      <td>0</td>\n",
       "      <td>0</td>\n",
       "      <td>0</td>\n",
       "      <td>0</td>\n",
       "      <td>1</td>\n",
       "      <td>1</td>\n",
       "      <td>1</td>\n",
       "      <td>...</td>\n",
       "      <td>0</td>\n",
       "      <td>0</td>\n",
       "      <td>0</td>\n",
       "      <td>1</td>\n",
       "      <td>0</td>\n",
       "      <td>0</td>\n",
       "      <td>0</td>\n",
       "      <td>1</td>\n",
       "      <td>0</td>\n",
       "      <td>0</td>\n",
       "    </tr>\n",
       "    <tr>\n",
       "      <th>2020-01-14</th>\n",
       "      <td>1</td>\n",
       "      <td>0</td>\n",
       "      <td>0</td>\n",
       "      <td>0</td>\n",
       "      <td>0</td>\n",
       "      <td>0</td>\n",
       "      <td>0</td>\n",
       "      <td>1</td>\n",
       "      <td>0</td>\n",
       "      <td>0</td>\n",
       "      <td>...</td>\n",
       "      <td>1</td>\n",
       "      <td>0</td>\n",
       "      <td>0</td>\n",
       "      <td>0</td>\n",
       "      <td>1</td>\n",
       "      <td>0</td>\n",
       "      <td>0</td>\n",
       "      <td>0</td>\n",
       "      <td>0</td>\n",
       "      <td>0</td>\n",
       "    </tr>\n",
       "    <tr>\n",
       "      <th>2020-01-15</th>\n",
       "      <td>1</td>\n",
       "      <td>0</td>\n",
       "      <td>0</td>\n",
       "      <td>0</td>\n",
       "      <td>0</td>\n",
       "      <td>0</td>\n",
       "      <td>0</td>\n",
       "      <td>1</td>\n",
       "      <td>0</td>\n",
       "      <td>0</td>\n",
       "      <td>...</td>\n",
       "      <td>0</td>\n",
       "      <td>0</td>\n",
       "      <td>0</td>\n",
       "      <td>0</td>\n",
       "      <td>1</td>\n",
       "      <td>0</td>\n",
       "      <td>0</td>\n",
       "      <td>0</td>\n",
       "      <td>0</td>\n",
       "      <td>0</td>\n",
       "    </tr>\n",
       "  </tbody>\n",
       "</table>\n",
       "<p>10 rows × 51 columns</p>\n",
       "</div>"
      ],
      "text/plain": [
       "servicio        ACCESIBILIDAD::DIRECTORIO ACTIVO  \\\n",
       "fecha_creacion                                     \n",
       "2020-01-02                                     0   \n",
       "2020-01-03                                     0   \n",
       "2020-01-07                                     1   \n",
       "2020-01-08                                     0   \n",
       "2020-01-09                                     0   \n",
       "2020-01-10                                     0   \n",
       "2020-01-11                                     1   \n",
       "2020-01-13                                     1   \n",
       "2020-01-14                                     1   \n",
       "2020-01-15                                     1   \n",
       "\n",
       "servicio        AUTOMATIZACION DE FLOTA Y TRANSPORTE::ADMINISTRACION  \\\n",
       "fecha_creacion                                                         \n",
       "2020-01-02                                                      0      \n",
       "2020-01-03                                                      0      \n",
       "2020-01-07                                                      0      \n",
       "2020-01-08                                                      0      \n",
       "2020-01-09                                                      0      \n",
       "2020-01-10                                                      0      \n",
       "2020-01-11                                                      0      \n",
       "2020-01-13                                                      0      \n",
       "2020-01-14                                                      0      \n",
       "2020-01-15                                                      0      \n",
       "\n",
       "servicio        AUTOMATIZACION DE LA ADMINISTRACION TI::CABLEADO ESTRUCTURADO  \\\n",
       "fecha_creacion                                                                  \n",
       "2020-01-02                                                      0               \n",
       "2020-01-03                                                      0               \n",
       "2020-01-07                                                      0               \n",
       "2020-01-08                                                      0               \n",
       "2020-01-09                                                      0               \n",
       "2020-01-10                                                      1               \n",
       "2020-01-11                                                      0               \n",
       "2020-01-13                                                      0               \n",
       "2020-01-14                                                      0               \n",
       "2020-01-15                                                      0               \n",
       "\n",
       "servicio        AUTOMATIZACION DE LA ADMINISTRACION TI::GESTION TIC  \\\n",
       "fecha_creacion                                                        \n",
       "2020-01-02                                                      0     \n",
       "2020-01-03                                                      0     \n",
       "2020-01-07                                                      1     \n",
       "2020-01-08                                                      0     \n",
       "2020-01-09                                                      0     \n",
       "2020-01-10                                                      0     \n",
       "2020-01-11                                                      0     \n",
       "2020-01-13                                                      0     \n",
       "2020-01-14                                                      0     \n",
       "2020-01-15                                                      0     \n",
       "\n",
       "servicio        AUTOMATIZACION DE LA ADMINISTRACION TI::SEGURIDAD DE LA INFORMACIÓN  \\\n",
       "fecha_creacion                                                                        \n",
       "2020-01-02                                                      0                     \n",
       "2020-01-03                                                      0                     \n",
       "2020-01-07                                                      0                     \n",
       "2020-01-08                                                      0                     \n",
       "2020-01-09                                                      0                     \n",
       "2020-01-10                                                      0                     \n",
       "2020-01-11                                                      0                     \n",
       "2020-01-13                                                      0                     \n",
       "2020-01-14                                                      0                     \n",
       "2020-01-15                                                      0                     \n",
       "\n",
       "servicio        AUTOMATIZACION DE LA ADMINISTRACION TI::SERVICIOS EN LA NUBE  \\\n",
       "fecha_creacion                                                                 \n",
       "2020-01-02                                                      0              \n",
       "2020-01-03                                                      0              \n",
       "2020-01-07                                                      0              \n",
       "2020-01-08                                                      0              \n",
       "2020-01-09                                                      0              \n",
       "2020-01-10                                                      0              \n",
       "2020-01-11                                                      0              \n",
       "2020-01-13                                                      0              \n",
       "2020-01-14                                                      0              \n",
       "2020-01-15                                                      0              \n",
       "\n",
       "servicio        AUTOMATIZACION FUERZA DE VENTAS  \\\n",
       "fecha_creacion                                    \n",
       "2020-01-02                                    0   \n",
       "2020-01-03                                    0   \n",
       "2020-01-07                                    0   \n",
       "2020-01-08                                    0   \n",
       "2020-01-09                                    0   \n",
       "2020-01-10                                    0   \n",
       "2020-01-11                                    0   \n",
       "2020-01-13                                    0   \n",
       "2020-01-14                                    0   \n",
       "2020-01-15                                    0   \n",
       "\n",
       "servicio        AUTOMATIZACION FUERZA DE VENTAS::ADMINISTRACION  \\\n",
       "fecha_creacion                                                    \n",
       "2020-01-02                                                    0   \n",
       "2020-01-03                                                    0   \n",
       "2020-01-07                                                    0   \n",
       "2020-01-08                                                    0   \n",
       "2020-01-09                                                    0   \n",
       "2020-01-10                                                    0   \n",
       "2020-01-11                                                    0   \n",
       "2020-01-13                                                    1   \n",
       "2020-01-14                                                    1   \n",
       "2020-01-15                                                    1   \n",
       "\n",
       "servicio        AUTOMATIZACION FUERZA DE VENTAS::CIERRE DE DIA  \\\n",
       "fecha_creacion                                                   \n",
       "2020-01-02                                                   0   \n",
       "2020-01-03                                                   0   \n",
       "2020-01-07                                                   0   \n",
       "2020-01-08                                                   0   \n",
       "2020-01-09                                                   0   \n",
       "2020-01-10                                                   0   \n",
       "2020-01-11                                                   0   \n",
       "2020-01-13                                                   1   \n",
       "2020-01-14                                                   0   \n",
       "2020-01-15                                                   0   \n",
       "\n",
       "servicio        AUTOMATIZACION FUERZA DE VENTAS::INICIO DE DIA   ...  \\\n",
       "fecha_creacion                                                   ...   \n",
       "2020-01-02                                                    0  ...   \n",
       "2020-01-03                                                    0  ...   \n",
       "2020-01-07                                                    0  ...   \n",
       "2020-01-08                                                    0  ...   \n",
       "2020-01-09                                                    0  ...   \n",
       "2020-01-10                                                    0  ...   \n",
       "2020-01-11                                                    0  ...   \n",
       "2020-01-13                                                    1  ...   \n",
       "2020-01-14                                                    0  ...   \n",
       "2020-01-15                                                    0  ...   \n",
       "\n",
       "servicio        NAVEGACION::POR CABLE  NAVEGACION::WEBSERVICE  OFIMATICA  \\\n",
       "fecha_creacion                                                             \n",
       "2020-01-02                          0                       0          0   \n",
       "2020-01-03                          0                       0          0   \n",
       "2020-01-07                          1                       0          0   \n",
       "2020-01-08                          0                       0          0   \n",
       "2020-01-09                          0                       0          0   \n",
       "2020-01-10                          0                       0          0   \n",
       "2020-01-11                          0                       0          0   \n",
       "2020-01-13                          0                       0          0   \n",
       "2020-01-14                          1                       0          0   \n",
       "2020-01-15                          0                       0          0   \n",
       "\n",
       "servicio        OFIMATICA::PERIFERICO  OFIMATICA::SOLICITUD DE RECURSO  \\\n",
       "fecha_creacion                                                           \n",
       "2020-01-02                          1                                0   \n",
       "2020-01-03                          0                                1   \n",
       "2020-01-07                          1                                1   \n",
       "2020-01-08                          1                                1   \n",
       "2020-01-09                          1                                0   \n",
       "2020-01-10                          0                                0   \n",
       "2020-01-11                          0                                0   \n",
       "2020-01-13                          1                                0   \n",
       "2020-01-14                          0                                1   \n",
       "2020-01-15                          0                                1   \n",
       "\n",
       "servicio        TELEFONIA  TELEFONIA::TELEFONIA CONMUTADA  \\\n",
       "fecha_creacion                                              \n",
       "2020-01-02              0                               0   \n",
       "2020-01-03              0                               0   \n",
       "2020-01-07              0                               0   \n",
       "2020-01-08              0                               0   \n",
       "2020-01-09              0                               0   \n",
       "2020-01-10              0                               0   \n",
       "2020-01-11              0                               0   \n",
       "2020-01-13              0                               0   \n",
       "2020-01-14              0                               0   \n",
       "2020-01-15              0                               0   \n",
       "\n",
       "servicio        TELEFONIA::TELEFONIA IP  TELEFONIA::TELEFONIA MOVIL  \\\n",
       "fecha_creacion                                                        \n",
       "2020-01-02                            0                           1   \n",
       "2020-01-03                            0                           0   \n",
       "2020-01-07                            1                           0   \n",
       "2020-01-08                            1                           0   \n",
       "2020-01-09                            0                           0   \n",
       "2020-01-10                            0                           1   \n",
       "2020-01-11                            0                           0   \n",
       "2020-01-13                            1                           0   \n",
       "2020-01-14                            0                           0   \n",
       "2020-01-15                            0                           0   \n",
       "\n",
       "servicio        _SIN SERVICIO  \n",
       "fecha_creacion                 \n",
       "2020-01-02                  0  \n",
       "2020-01-03                  0  \n",
       "2020-01-07                  0  \n",
       "2020-01-08                  0  \n",
       "2020-01-09                  0  \n",
       "2020-01-10                  0  \n",
       "2020-01-11                  0  \n",
       "2020-01-13                  0  \n",
       "2020-01-14                  0  \n",
       "2020-01-15                  0  \n",
       "\n",
       "[10 rows x 51 columns]"
      ]
     },
     "execution_count": 68,
     "metadata": {},
     "output_type": "execute_result"
    }
   ],
   "source": [
    "df_pivot.head(10)"
   ]
  },
  {
   "cell_type": "markdown",
   "id": "sophisticated-apple",
   "metadata": {
    "slideshow": {
     "slide_type": "slide"
    }
   },
   "source": [
    "### Cálculo de las reglas de asociación\n",
    "---"
   ]
  },
  {
   "cell_type": "markdown",
   "id": "exterior-eagle",
   "metadata": {
    "slideshow": {
     "slide_type": "fragment"
    },
    "tags": []
   },
   "source": [
    "* Se calculan las reglas de asociación usando una presencia de los datos en un 30% de las muestras `(soporte)`"
   ]
  },
  {
   "cell_type": "markdown",
   "id": "earned-easter",
   "metadata": {
    "slideshow": {
     "slide_type": "fragment"
    },
    "tags": []
   },
   "source": [
    "* El tamaño de la muestra es un día `(no es cada ticket)`"
   ]
  },
  {
   "cell_type": "code",
   "execution_count": 69,
   "id": "virtual-portugal",
   "metadata": {
    "slideshow": {
     "slide_type": "fragment"
    },
    "tags": []
   },
   "outputs": [],
   "source": [
    "df_freqserv = apriori(df_pivot, min_support=0.3, use_colnames=True)\n",
    "df_rules = association_rules(df_freqserv, min_threshold=1, metric='lift')"
   ]
  },
  {
   "cell_type": "markdown",
   "id": "ignored-poultry",
   "metadata": {
    "slideshow": {
     "slide_type": "subslide"
    },
    "tags": []
   },
   "source": [
    "### Cálculo de las reglas de asociación\n",
    "#### Explicación de variables\n",
    "---\n",
    "* El antecedente implica el consecuente, no es conmutativo\n",
    "* Support: Es la presencia en el dataset del antecedente, el consecuente y la regla en si\n",
    "* Confidence: Es el porcentaje de los casos en el que la regla es cierta"
   ]
  },
  {
   "cell_type": "markdown",
   "id": "separate-ecology",
   "metadata": {
    "slideshow": {
     "slide_type": "subslide"
    },
    "tags": []
   },
   "source": [
    "* Lift: Cuando el valor es 1 son variables independientes, si es mayor son dependientes y si es menor son inversamente dependientes\n",
    "* Leverage: Es similar al lift pero se calcula diferente y el valor de independencia es 0\n",
    "* Conviction: es el error que habría en caso de que las variables sean independientes"
   ]
  },
  {
   "cell_type": "markdown",
   "id": "complete-missile",
   "metadata": {
    "slideshow": {
     "slide_type": "slide"
    }
   },
   "source": [
    "### Cálculo de las reglas de asociación\n",
    "---"
   ]
  },
  {
   "cell_type": "code",
   "execution_count": 70,
   "id": "activated-hamburg",
   "metadata": {
    "scrolled": true,
    "slideshow": {
     "slide_type": "slide"
    },
    "tags": []
   },
   "outputs": [
    {
     "data": {
      "text/html": [
       "<div>\n",
       "<style scoped>\n",
       "    .dataframe tbody tr th:only-of-type {\n",
       "        vertical-align: middle;\n",
       "    }\n",
       "\n",
       "    .dataframe tbody tr th {\n",
       "        vertical-align: top;\n",
       "    }\n",
       "\n",
       "    .dataframe thead th {\n",
       "        text-align: right;\n",
       "    }\n",
       "</style>\n",
       "<table border=\"1\" class=\"dataframe\">\n",
       "  <thead>\n",
       "    <tr style=\"text-align: right;\">\n",
       "      <th></th>\n",
       "      <th>antecedents</th>\n",
       "      <th>consequents</th>\n",
       "      <th>antecedent support</th>\n",
       "      <th>consequent support</th>\n",
       "      <th>support</th>\n",
       "      <th>confidence</th>\n",
       "      <th>lift</th>\n",
       "      <th>leverage</th>\n",
       "      <th>conviction</th>\n",
       "    </tr>\n",
       "  </thead>\n",
       "  <tbody>\n",
       "    <tr>\n",
       "      <th>11</th>\n",
       "      <td>(TELEFONIA::TELEFONIA IP)</td>\n",
       "      <td>(MENSAJERIA Y COLABORACION::SERVIDOR DE ARCHIVOS)</td>\n",
       "      <td>0.468310</td>\n",
       "      <td>0.605634</td>\n",
       "      <td>0.341549</td>\n",
       "      <td>0.729323</td>\n",
       "      <td>1.204232</td>\n",
       "      <td>0.057925</td>\n",
       "      <td>1.456964</td>\n",
       "    </tr>\n",
       "    <tr>\n",
       "      <th>3</th>\n",
       "      <td>(AUTOMATIZACION FUERZA DE VENTAS::ADMINISTRACION)</td>\n",
       "      <td>(MENSAJERIA Y COLABORACION::SERVIDOR DE ARCHIVOS)</td>\n",
       "      <td>0.507042</td>\n",
       "      <td>0.605634</td>\n",
       "      <td>0.341549</td>\n",
       "      <td>0.673611</td>\n",
       "      <td>1.112242</td>\n",
       "      <td>0.034467</td>\n",
       "      <td>1.208271</td>\n",
       "    </tr>\n",
       "    <tr>\n",
       "      <th>9</th>\n",
       "      <td>(OFIMATICA::PERIFERICO)</td>\n",
       "      <td>(MENSAJERIA Y COLABORACION::SERVIDOR DE ARCHIVOS)</td>\n",
       "      <td>0.485915</td>\n",
       "      <td>0.605634</td>\n",
       "      <td>0.323944</td>\n",
       "      <td>0.666667</td>\n",
       "      <td>1.100775</td>\n",
       "      <td>0.029657</td>\n",
       "      <td>1.183099</td>\n",
       "    </tr>\n",
       "    <tr>\n",
       "      <th>7</th>\n",
       "      <td>(IMPRESION ::IMPRESION)</td>\n",
       "      <td>(MENSAJERIA Y COLABORACION::SERVIDOR DE ARCHIVOS)</td>\n",
       "      <td>0.507042</td>\n",
       "      <td>0.605634</td>\n",
       "      <td>0.327465</td>\n",
       "      <td>0.645833</td>\n",
       "      <td>1.066376</td>\n",
       "      <td>0.020383</td>\n",
       "      <td>1.113505</td>\n",
       "    </tr>\n",
       "    <tr>\n",
       "      <th>5</th>\n",
       "      <td>(OFIMATICA::PERIFERICO)</td>\n",
       "      <td>(ERP::ADMINISTRACION)</td>\n",
       "      <td>0.485915</td>\n",
       "      <td>0.524648</td>\n",
       "      <td>0.313380</td>\n",
       "      <td>0.644928</td>\n",
       "      <td>1.229258</td>\n",
       "      <td>0.058446</td>\n",
       "      <td>1.338747</td>\n",
       "    </tr>\n",
       "    <tr>\n",
       "      <th>0</th>\n",
       "      <td>(AUTOMATIZACION FUERZA DE VENTAS::ADMINISTRACION)</td>\n",
       "      <td>(IMPRESION ::IMPRESION)</td>\n",
       "      <td>0.507042</td>\n",
       "      <td>0.507042</td>\n",
       "      <td>0.309859</td>\n",
       "      <td>0.611111</td>\n",
       "      <td>1.205247</td>\n",
       "      <td>0.052767</td>\n",
       "      <td>1.267606</td>\n",
       "    </tr>\n",
       "    <tr>\n",
       "      <th>1</th>\n",
       "      <td>(IMPRESION ::IMPRESION)</td>\n",
       "      <td>(AUTOMATIZACION FUERZA DE VENTAS::ADMINISTRACION)</td>\n",
       "      <td>0.507042</td>\n",
       "      <td>0.507042</td>\n",
       "      <td>0.309859</td>\n",
       "      <td>0.611111</td>\n",
       "      <td>1.205247</td>\n",
       "      <td>0.052767</td>\n",
       "      <td>1.267606</td>\n",
       "    </tr>\n",
       "    <tr>\n",
       "      <th>4</th>\n",
       "      <td>(ERP::ADMINISTRACION)</td>\n",
       "      <td>(OFIMATICA::PERIFERICO)</td>\n",
       "      <td>0.524648</td>\n",
       "      <td>0.485915</td>\n",
       "      <td>0.313380</td>\n",
       "      <td>0.597315</td>\n",
       "      <td>1.229258</td>\n",
       "      <td>0.058446</td>\n",
       "      <td>1.276643</td>\n",
       "    </tr>\n",
       "    <tr>\n",
       "      <th>2</th>\n",
       "      <td>(MENSAJERIA Y COLABORACION::SERVIDOR DE ARCHIVOS)</td>\n",
       "      <td>(AUTOMATIZACION FUERZA DE VENTAS::ADMINISTRACION)</td>\n",
       "      <td>0.605634</td>\n",
       "      <td>0.507042</td>\n",
       "      <td>0.341549</td>\n",
       "      <td>0.563953</td>\n",
       "      <td>1.112242</td>\n",
       "      <td>0.034467</td>\n",
       "      <td>1.130516</td>\n",
       "    </tr>\n",
       "    <tr>\n",
       "      <th>10</th>\n",
       "      <td>(MENSAJERIA Y COLABORACION::SERVIDOR DE ARCHIVOS)</td>\n",
       "      <td>(TELEFONIA::TELEFONIA IP)</td>\n",
       "      <td>0.605634</td>\n",
       "      <td>0.468310</td>\n",
       "      <td>0.341549</td>\n",
       "      <td>0.563953</td>\n",
       "      <td>1.204232</td>\n",
       "      <td>0.057925</td>\n",
       "      <td>1.219343</td>\n",
       "    </tr>\n",
       "  </tbody>\n",
       "</table>\n",
       "</div>"
      ],
      "text/plain": [
       "                                          antecedents  \\\n",
       "11                          (TELEFONIA::TELEFONIA IP)   \n",
       "3   (AUTOMATIZACION FUERZA DE VENTAS::ADMINISTRACION)   \n",
       "9                             (OFIMATICA::PERIFERICO)   \n",
       "7                             (IMPRESION ::IMPRESION)   \n",
       "5                             (OFIMATICA::PERIFERICO)   \n",
       "0   (AUTOMATIZACION FUERZA DE VENTAS::ADMINISTRACION)   \n",
       "1                             (IMPRESION ::IMPRESION)   \n",
       "4                               (ERP::ADMINISTRACION)   \n",
       "2   (MENSAJERIA Y COLABORACION::SERVIDOR DE ARCHIVOS)   \n",
       "10  (MENSAJERIA Y COLABORACION::SERVIDOR DE ARCHIVOS)   \n",
       "\n",
       "                                          consequents  antecedent support  \\\n",
       "11  (MENSAJERIA Y COLABORACION::SERVIDOR DE ARCHIVOS)            0.468310   \n",
       "3   (MENSAJERIA Y COLABORACION::SERVIDOR DE ARCHIVOS)            0.507042   \n",
       "9   (MENSAJERIA Y COLABORACION::SERVIDOR DE ARCHIVOS)            0.485915   \n",
       "7   (MENSAJERIA Y COLABORACION::SERVIDOR DE ARCHIVOS)            0.507042   \n",
       "5                               (ERP::ADMINISTRACION)            0.485915   \n",
       "0                             (IMPRESION ::IMPRESION)            0.507042   \n",
       "1   (AUTOMATIZACION FUERZA DE VENTAS::ADMINISTRACION)            0.507042   \n",
       "4                             (OFIMATICA::PERIFERICO)            0.524648   \n",
       "2   (AUTOMATIZACION FUERZA DE VENTAS::ADMINISTRACION)            0.605634   \n",
       "10                          (TELEFONIA::TELEFONIA IP)            0.605634   \n",
       "\n",
       "    consequent support   support  confidence      lift  leverage  conviction  \n",
       "11            0.605634  0.341549    0.729323  1.204232  0.057925    1.456964  \n",
       "3             0.605634  0.341549    0.673611  1.112242  0.034467    1.208271  \n",
       "9             0.605634  0.323944    0.666667  1.100775  0.029657    1.183099  \n",
       "7             0.605634  0.327465    0.645833  1.066376  0.020383    1.113505  \n",
       "5             0.524648  0.313380    0.644928  1.229258  0.058446    1.338747  \n",
       "0             0.507042  0.309859    0.611111  1.205247  0.052767    1.267606  \n",
       "1             0.507042  0.309859    0.611111  1.205247  0.052767    1.267606  \n",
       "4             0.485915  0.313380    0.597315  1.229258  0.058446    1.276643  \n",
       "2             0.507042  0.341549    0.563953  1.112242  0.034467    1.130516  \n",
       "10            0.468310  0.341549    0.563953  1.204232  0.057925    1.219343  "
      ]
     },
     "execution_count": 70,
     "metadata": {},
     "output_type": "execute_result"
    }
   ],
   "source": [
    "df_rules.loc[(df_rules.confidence>0.5)].sort_values('confidence', \\\n",
    "                                                    ascending=False).head(10)"
   ]
  },
  {
   "cell_type": "code",
   "execution_count": null,
   "id": "computational-button",
   "metadata": {},
   "outputs": [],
   "source": []
  },
  {
   "cell_type": "code",
   "execution_count": 71,
   "id": "difficult-observer",
   "metadata": {
    "scrolled": true,
    "slideshow": {
     "slide_type": "skip"
    },
    "tags": []
   },
   "outputs": [],
   "source": [
    "df_rules['antecedents'] = df_rules['antecedents'].apply(lambda x: set(x))\n",
    "df_rules['consequents'] = df_rules['consequents'].apply(lambda x: set(x))"
   ]
  },
  {
   "cell_type": "code",
   "execution_count": 72,
   "id": "champion-composer",
   "metadata": {
    "slideshow": {
     "slide_type": "slide"
    }
   },
   "outputs": [
    {
     "data": {
      "text/html": [
       "<div>\n",
       "<style scoped>\n",
       "    .dataframe tbody tr th:only-of-type {\n",
       "        vertical-align: middle;\n",
       "    }\n",
       "\n",
       "    .dataframe tbody tr th {\n",
       "        vertical-align: top;\n",
       "    }\n",
       "\n",
       "    .dataframe thead th {\n",
       "        text-align: right;\n",
       "    }\n",
       "</style>\n",
       "<table border=\"1\" class=\"dataframe\">\n",
       "  <thead>\n",
       "    <tr style=\"text-align: right;\">\n",
       "      <th></th>\n",
       "      <th>antecedents</th>\n",
       "      <th>consequents</th>\n",
       "      <th>antecedent support</th>\n",
       "      <th>consequent support</th>\n",
       "      <th>support</th>\n",
       "      <th>confidence</th>\n",
       "      <th>lift</th>\n",
       "      <th>leverage</th>\n",
       "      <th>conviction</th>\n",
       "    </tr>\n",
       "  </thead>\n",
       "  <tbody>\n",
       "    <tr>\n",
       "      <th>11</th>\n",
       "      <td>{TELEFONIA::TELEFONIA IP}</td>\n",
       "      <td>{MENSAJERIA Y COLABORACION::SERVIDOR DE ARCHIVOS}</td>\n",
       "      <td>0.46831</td>\n",
       "      <td>0.605634</td>\n",
       "      <td>0.341549</td>\n",
       "      <td>0.729323</td>\n",
       "      <td>1.204232</td>\n",
       "      <td>0.057925</td>\n",
       "      <td>1.456964</td>\n",
       "    </tr>\n",
       "  </tbody>\n",
       "</table>\n",
       "</div>"
      ],
      "text/plain": [
       "                  antecedents  \\\n",
       "11  {TELEFONIA::TELEFONIA IP}   \n",
       "\n",
       "                                          consequents  antecedent support  \\\n",
       "11  {MENSAJERIA Y COLABORACION::SERVIDOR DE ARCHIVOS}             0.46831   \n",
       "\n",
       "    consequent support   support  confidence      lift  leverage  conviction  \n",
       "11            0.605634  0.341549    0.729323  1.204232  0.057925    1.456964  "
      ]
     },
     "execution_count": 72,
     "metadata": {},
     "output_type": "execute_result"
    }
   ],
   "source": [
    "df_rules[df_rules['antecedents'] == {'TELEFONIA::TELEFONIA IP'}]"
   ]
  },
  {
   "cell_type": "code",
   "execution_count": 73,
   "id": "catholic-territory",
   "metadata": {},
   "outputs": [
    {
     "data": {
      "text/plain": [
       "284"
      ]
     },
     "execution_count": 73,
     "metadata": {},
     "output_type": "execute_result"
    }
   ],
   "source": [
    "df['fecha_creacion'].nunique()"
   ]
  },
  {
   "cell_type": "code",
   "execution_count": 81,
   "id": "hindu-keyboard",
   "metadata": {},
   "outputs": [],
   "source": [
    "fechas = df[df['servicio'] == 'TELEFONIA::TELEFONIA IP']['fecha_creacion'].unique()"
   ]
  },
  {
   "cell_type": "code",
   "execution_count": 82,
   "id": "specific-thought",
   "metadata": {},
   "outputs": [],
   "source": [
    "fechas = df.loc[(df['fecha_creacion'].isin(fechas)) &\\\n",
    "                (df['servicio'] == 'MENSAJERIA Y COLABORACION::SERVIDOR DE ARCHIVOS')]['fecha_creacion'].unique()"
   ]
  },
  {
   "cell_type": "code",
   "execution_count": 110,
   "id": "indian-eight",
   "metadata": {},
   "outputs": [],
   "source": [
    "df_temp = df.loc[(df['fecha_creacion']\n",
    "        .isin(fechas)) & (df['servicio']\n",
    "                          .isin(['TELEFONIA::TELEFONIA IP']))]"
   ]
  },
  {
   "cell_type": "code",
   "execution_count": 111,
   "id": "noted-policy",
   "metadata": {},
   "outputs": [
    {
     "name": "stderr",
     "output_type": "stream",
     "text": [
      "/Users/afranco/opt/miniconda3/envs/OTRS/lib/python3.7/site-packages/ipykernel_launcher.py:1: SettingWithCopyWarning: \n",
      "A value is trying to be set on a copy of a slice from a DataFrame.\n",
      "Try using .loc[row_indexer,col_indexer] = value instead\n",
      "\n",
      "See the caveats in the documentation: https://pandas.pydata.org/pandas-docs/stable/user_guide/indexing.html#returning-a-view-versus-a-copy\n",
      "  \"\"\"Entry point for launching an IPython kernel.\n"
     ]
    }
   ],
   "source": [
    "df_temp['fecha_creacion'] = pd.to_datetime(df_temp['fecha_creacion'])"
   ]
  },
  {
   "cell_type": "code",
   "execution_count": 112,
   "id": "written-found",
   "metadata": {},
   "outputs": [],
   "source": [
    "df_ant = df_temp.set_index('fecha_creacion').groupby([pd.Grouper(freq='D'), 'servicio'])\\\n",
    "        .agg({'title':'count'}).reset_index('servicio')"
   ]
  },
  {
   "cell_type": "code",
   "execution_count": 113,
   "id": "computational-stevens",
   "metadata": {},
   "outputs": [],
   "source": [
    "df_temp = df.loc[(df['fecha_creacion']\n",
    "        .isin(fechas)) & (df['servicio']\n",
    "                          .isin(['MENSAJERIA Y COLABORACION::SERVIDOR DE ARCHIVOS']))]"
   ]
  },
  {
   "cell_type": "code",
   "execution_count": 114,
   "id": "adjacent-leather",
   "metadata": {},
   "outputs": [
    {
     "name": "stderr",
     "output_type": "stream",
     "text": [
      "/Users/afranco/opt/miniconda3/envs/OTRS/lib/python3.7/site-packages/ipykernel_launcher.py:1: SettingWithCopyWarning: \n",
      "A value is trying to be set on a copy of a slice from a DataFrame.\n",
      "Try using .loc[row_indexer,col_indexer] = value instead\n",
      "\n",
      "See the caveats in the documentation: https://pandas.pydata.org/pandas-docs/stable/user_guide/indexing.html#returning-a-view-versus-a-copy\n",
      "  \"\"\"Entry point for launching an IPython kernel.\n"
     ]
    }
   ],
   "source": [
    "df_temp['fecha_creacion'] = pd.to_datetime(df_temp['fecha_creacion'])"
   ]
  },
  {
   "cell_type": "code",
   "execution_count": 115,
   "id": "intellectual-sheriff",
   "metadata": {},
   "outputs": [],
   "source": [
    "df_con = df_temp.set_index('fecha_creacion')\\\n",
    "        .groupby([pd.Grouper(freq='D'), 'servicio']).agg({'title':'count'}).reset_index('servicio')"
   ]
  },
  {
   "cell_type": "code",
   "execution_count": 120,
   "id": "planned-aggregate",
   "metadata": {},
   "outputs": [
    {
     "data": {
      "text/html": [
       "<div>\n",
       "<style scoped>\n",
       "    .dataframe tbody tr th:only-of-type {\n",
       "        vertical-align: middle;\n",
       "    }\n",
       "\n",
       "    .dataframe tbody tr th {\n",
       "        vertical-align: top;\n",
       "    }\n",
       "\n",
       "    .dataframe thead th {\n",
       "        text-align: right;\n",
       "    }\n",
       "</style>\n",
       "<table border=\"1\" class=\"dataframe\">\n",
       "  <thead>\n",
       "    <tr style=\"text-align: right;\">\n",
       "      <th></th>\n",
       "      <th>servicio</th>\n",
       "      <th>title</th>\n",
       "    </tr>\n",
       "    <tr>\n",
       "      <th>fecha_creacion</th>\n",
       "      <th></th>\n",
       "      <th></th>\n",
       "    </tr>\n",
       "  </thead>\n",
       "  <tbody>\n",
       "    <tr>\n",
       "      <th>2020-10-13</th>\n",
       "      <td>MENSAJERIA Y COLABORACION::SERVIDOR DE ARCHIVOS</td>\n",
       "      <td>64</td>\n",
       "    </tr>\n",
       "    <tr>\n",
       "      <th>2020-11-03</th>\n",
       "      <td>MENSAJERIA Y COLABORACION::SERVIDOR DE ARCHIVOS</td>\n",
       "      <td>6</td>\n",
       "    </tr>\n",
       "    <tr>\n",
       "      <th>2020-06-09</th>\n",
       "      <td>MENSAJERIA Y COLABORACION::SERVIDOR DE ARCHIVOS</td>\n",
       "      <td>6</td>\n",
       "    </tr>\n",
       "    <tr>\n",
       "      <th>2020-10-26</th>\n",
       "      <td>MENSAJERIA Y COLABORACION::SERVIDOR DE ARCHIVOS</td>\n",
       "      <td>5</td>\n",
       "    </tr>\n",
       "    <tr>\n",
       "      <th>2020-08-04</th>\n",
       "      <td>MENSAJERIA Y COLABORACION::SERVIDOR DE ARCHIVOS</td>\n",
       "      <td>5</td>\n",
       "    </tr>\n",
       "    <tr>\n",
       "      <th>...</th>\n",
       "      <td>...</td>\n",
       "      <td>...</td>\n",
       "    </tr>\n",
       "    <tr>\n",
       "      <th>2020-07-02</th>\n",
       "      <td>MENSAJERIA Y COLABORACION::SERVIDOR DE ARCHIVOS</td>\n",
       "      <td>1</td>\n",
       "    </tr>\n",
       "    <tr>\n",
       "      <th>2020-07-07</th>\n",
       "      <td>MENSAJERIA Y COLABORACION::SERVIDOR DE ARCHIVOS</td>\n",
       "      <td>1</td>\n",
       "    </tr>\n",
       "    <tr>\n",
       "      <th>2020-07-30</th>\n",
       "      <td>MENSAJERIA Y COLABORACION::SERVIDOR DE ARCHIVOS</td>\n",
       "      <td>1</td>\n",
       "    </tr>\n",
       "    <tr>\n",
       "      <th>2020-08-03</th>\n",
       "      <td>MENSAJERIA Y COLABORACION::SERVIDOR DE ARCHIVOS</td>\n",
       "      <td>1</td>\n",
       "    </tr>\n",
       "    <tr>\n",
       "      <th>2020-12-23</th>\n",
       "      <td>MENSAJERIA Y COLABORACION::SERVIDOR DE ARCHIVOS</td>\n",
       "      <td>1</td>\n",
       "    </tr>\n",
       "  </tbody>\n",
       "</table>\n",
       "<p>97 rows × 2 columns</p>\n",
       "</div>"
      ],
      "text/plain": [
       "                                                       servicio  title\n",
       "fecha_creacion                                                        \n",
       "2020-10-13      MENSAJERIA Y COLABORACION::SERVIDOR DE ARCHIVOS     64\n",
       "2020-11-03      MENSAJERIA Y COLABORACION::SERVIDOR DE ARCHIVOS      6\n",
       "2020-06-09      MENSAJERIA Y COLABORACION::SERVIDOR DE ARCHIVOS      6\n",
       "2020-10-26      MENSAJERIA Y COLABORACION::SERVIDOR DE ARCHIVOS      5\n",
       "2020-08-04      MENSAJERIA Y COLABORACION::SERVIDOR DE ARCHIVOS      5\n",
       "...                                                         ...    ...\n",
       "2020-07-02      MENSAJERIA Y COLABORACION::SERVIDOR DE ARCHIVOS      1\n",
       "2020-07-07      MENSAJERIA Y COLABORACION::SERVIDOR DE ARCHIVOS      1\n",
       "2020-07-30      MENSAJERIA Y COLABORACION::SERVIDOR DE ARCHIVOS      1\n",
       "2020-08-03      MENSAJERIA Y COLABORACION::SERVIDOR DE ARCHIVOS      1\n",
       "2020-12-23      MENSAJERIA Y COLABORACION::SERVIDOR DE ARCHIVOS      1\n",
       "\n",
       "[97 rows x 2 columns]"
      ]
     },
     "execution_count": 120,
     "metadata": {},
     "output_type": "execute_result"
    }
   ],
   "source": [
    "df_con.sort_values(by='title', ascending=False)"
   ]
  },
  {
   "cell_type": "code",
   "execution_count": 124,
   "id": "second-spain",
   "metadata": {},
   "outputs": [],
   "source": [
    "df_con = df_con.loc[df_con['title'] < 64]"
   ]
  },
  {
   "cell_type": "code",
   "execution_count": 137,
   "id": "collect-pilot",
   "metadata": {},
   "outputs": [
    {
     "data": {
      "image/png": "[encoded data removed]",
      "text/plain": [
       "<Figure size 1152x576 with 2 Axes>"
      ]
     },
     "metadata": {
      "needs_background": "light"
     },
     "output_type": "display_data"
    }
   ],
   "source": [
    "plt.ion()\n",
    "plt.figure(figsize=(16,8))\n",
    "plt.subplot(211)\n",
    "plt.plot(df_ant.index, df_ant.title, label='ant', color='red')\n",
    "plt.subplot(212)\n",
    "plt.plot(df_con.index, df_con.title, label='con', color='blue')\n",
    "plt.legend()\n",
    "plt.show()"
   ]
  },
  {
   "cell_type": "code",
   "execution_count": 83,
   "id": "veterinary-gardening",
   "metadata": {},
   "outputs": [
    {
     "data": {
      "text/html": [
       "<div>\n",
       "<style scoped>\n",
       "    .dataframe tbody tr th:only-of-type {\n",
       "        vertical-align: middle;\n",
       "    }\n",
       "\n",
       "    .dataframe tbody tr th {\n",
       "        vertical-align: top;\n",
       "    }\n",
       "\n",
       "    .dataframe thead th {\n",
       "        text-align: right;\n",
       "    }\n",
       "</style>\n",
       "<table border=\"1\" class=\"dataframe\">\n",
       "  <thead>\n",
       "    <tr style=\"text-align: right;\">\n",
       "      <th></th>\n",
       "      <th>title</th>\n",
       "      <th>ticket_id</th>\n",
       "      <th>ticket_numero</th>\n",
       "      <th>estado_ticket</th>\n",
       "      <th>tipo_estado</th>\n",
       "      <th>tipo_ticket</th>\n",
       "      <th>servicio</th>\n",
       "      <th>servicio_padre</th>\n",
       "      <th>servicio_hijo</th>\n",
       "      <th>cola</th>\n",
       "      <th>...</th>\n",
       "      <th>asignado_pendiente</th>\n",
       "      <th>asignado_cerrado</th>\n",
       "      <th>asignado_espera</th>\n",
       "      <th>nuevo_cerrado</th>\n",
       "      <th>fecha_creacion</th>\n",
       "      <th>fecha_cierre</th>\n",
       "      <th>anio</th>\n",
       "      <th>mes</th>\n",
       "      <th>day</th>\n",
       "      <th>cantidad_servicio</th>\n",
       "    </tr>\n",
       "  </thead>\n",
       "  <tbody>\n",
       "    <tr>\n",
       "      <th>25</th>\n",
       "      <td>Permiso de acceso</td>\n",
       "      <td>69603</td>\n",
       "      <td>2020122306000118</td>\n",
       "      <td>CERRADO EXITOSAMENTE</td>\n",
       "      <td>CERRADO</td>\n",
       "      <td>REQUERIMENTO/SOLICITUD</td>\n",
       "      <td>MENSAJERIA Y COLABORACION::SERVIDOR DE ARCHIVOS</td>\n",
       "      <td>MENSAJERIA Y COLABORACION</td>\n",
       "      <td>SERVIDOR DE ARCHIVOS</td>\n",
       "      <td>SERVICIOS IT</td>\n",
       "      <td>...</td>\n",
       "      <td>04:11:25</td>\n",
       "      <td>39:08:34</td>\n",
       "      <td>0</td>\n",
       "      <td>40:45:40</td>\n",
       "      <td>2020-12-23</td>\n",
       "      <td>2020-12-28</td>\n",
       "      <td>2020</td>\n",
       "      <td>December</td>\n",
       "      <td>23</td>\n",
       "      <td>1</td>\n",
       "    </tr>\n",
       "    <tr>\n",
       "      <th>29</th>\n",
       "      <td>Nuevo buzón de voz - Desde 43114226455 - 43114...</td>\n",
       "      <td>69596</td>\n",
       "      <td>2020122306000047</td>\n",
       "      <td>CERRADO EXITOSAMENTE</td>\n",
       "      <td>CERRADO</td>\n",
       "      <td>REQUERIMENTO/SOLICITUD</td>\n",
       "      <td>TELEFONIA::TELEFONIA IP</td>\n",
       "      <td>TELEFONIA</td>\n",
       "      <td>TELEFONIA IP</td>\n",
       "      <td>SERVICIOS IT</td>\n",
       "      <td>...</td>\n",
       "      <td>0</td>\n",
       "      <td>00:05:04</td>\n",
       "      <td>0</td>\n",
       "      <td>00:16:45</td>\n",
       "      <td>2020-12-23</td>\n",
       "      <td>2020-12-23</td>\n",
       "      <td>2020</td>\n",
       "      <td>December</td>\n",
       "      <td>23</td>\n",
       "      <td>1</td>\n",
       "    </tr>\n",
       "    <tr>\n",
       "      <th>33</th>\n",
       "      <td>Permisos en carpeta GESTIÓN POR PROCESOS</td>\n",
       "      <td>69587</td>\n",
       "      <td>2020122206000352</td>\n",
       "      <td>CERRADO EXITOSAMENTE</td>\n",
       "      <td>CERRADO</td>\n",
       "      <td>REQUERIMENTO/SOLICITUD</td>\n",
       "      <td>MENSAJERIA Y COLABORACION::SERVIDOR DE ARCHIVOS</td>\n",
       "      <td>MENSAJERIA Y COLABORACION</td>\n",
       "      <td>SERVIDOR DE ARCHIVOS</td>\n",
       "      <td>SERVICIOS IT</td>\n",
       "      <td>...</td>\n",
       "      <td>0</td>\n",
       "      <td>06:24:15</td>\n",
       "      <td>0</td>\n",
       "      <td>07:20:01</td>\n",
       "      <td>2020-12-22</td>\n",
       "      <td>2020-12-23</td>\n",
       "      <td>2020</td>\n",
       "      <td>December</td>\n",
       "      <td>22</td>\n",
       "      <td>1</td>\n",
       "    </tr>\n",
       "    <tr>\n",
       "      <th>36</th>\n",
       "      <td>Permiso a Edison Arias</td>\n",
       "      <td>69578</td>\n",
       "      <td>2020122206000263</td>\n",
       "      <td>CERRADO EXITOSAMENTE</td>\n",
       "      <td>CERRADO</td>\n",
       "      <td>REQUERIMENTO/SOLICITUD</td>\n",
       "      <td>MENSAJERIA Y COLABORACION::SERVIDOR DE ARCHIVOS</td>\n",
       "      <td>MENSAJERIA Y COLABORACION</td>\n",
       "      <td>SERVIDOR DE ARCHIVOS</td>\n",
       "      <td>SERVICIOS IT</td>\n",
       "      <td>...</td>\n",
       "      <td>0</td>\n",
       "      <td>01:37:55</td>\n",
       "      <td>0</td>\n",
       "      <td>02:41:27</td>\n",
       "      <td>2020-12-22</td>\n",
       "      <td>2020-12-22</td>\n",
       "      <td>2020</td>\n",
       "      <td>December</td>\n",
       "      <td>22</td>\n",
       "      <td>1</td>\n",
       "    </tr>\n",
       "    <tr>\n",
       "      <th>38</th>\n",
       "      <td>LINEAS INTERNAS REGIONAL BUCARAMANGA</td>\n",
       "      <td>69572</td>\n",
       "      <td>2020122206000209</td>\n",
       "      <td>CERRADO EXITOSAMENTE</td>\n",
       "      <td>CERRADO</td>\n",
       "      <td>REQUERIMENTO/SOLICITUD</td>\n",
       "      <td>TELEFONIA::TELEFONIA IP</td>\n",
       "      <td>TELEFONIA</td>\n",
       "      <td>TELEFONIA IP</td>\n",
       "      <td>SERVICIOS IT</td>\n",
       "      <td>...</td>\n",
       "      <td>0</td>\n",
       "      <td>00:03:23</td>\n",
       "      <td>0</td>\n",
       "      <td>00:45:24</td>\n",
       "      <td>2020-12-22</td>\n",
       "      <td>2020-12-22</td>\n",
       "      <td>2020</td>\n",
       "      <td>December</td>\n",
       "      <td>22</td>\n",
       "      <td>1</td>\n",
       "    </tr>\n",
       "    <tr>\n",
       "      <th>...</th>\n",
       "      <td>...</td>\n",
       "      <td>...</td>\n",
       "      <td>...</td>\n",
       "      <td>...</td>\n",
       "      <td>...</td>\n",
       "      <td>...</td>\n",
       "      <td>...</td>\n",
       "      <td>...</td>\n",
       "      <td>...</td>\n",
       "      <td>...</td>\n",
       "      <td>...</td>\n",
       "      <td>...</td>\n",
       "      <td>...</td>\n",
       "      <td>...</td>\n",
       "      <td>...</td>\n",
       "      <td>...</td>\n",
       "      <td>...</td>\n",
       "      <td>...</td>\n",
       "      <td>...</td>\n",
       "      <td>...</td>\n",
       "      <td>...</td>\n",
       "    </tr>\n",
       "    <tr>\n",
       "      <th>4029</th>\n",
       "      <td>LINEAS TELEFONICAS REGIONAL CALI</td>\n",
       "      <td>53890</td>\n",
       "      <td>2020011306000631</td>\n",
       "      <td>CERRADO EXITOSAMENTE</td>\n",
       "      <td>CERRADO</td>\n",
       "      <td>REQUERIMENTO/SOLICITUD</td>\n",
       "      <td>TELEFONIA::TELEFONIA IP</td>\n",
       "      <td>TELEFONIA</td>\n",
       "      <td>TELEFONIA IP</td>\n",
       "      <td>SERVICIOS IT</td>\n",
       "      <td>...</td>\n",
       "      <td>02:26:05</td>\n",
       "      <td>36:49:14</td>\n",
       "      <td>0</td>\n",
       "      <td>37:11:31</td>\n",
       "      <td>2020-01-13</td>\n",
       "      <td>2020-01-16</td>\n",
       "      <td>2020</td>\n",
       "      <td>January</td>\n",
       "      <td>13</td>\n",
       "      <td>1</td>\n",
       "    </tr>\n",
       "    <tr>\n",
       "      <th>4034</th>\n",
       "      <td>permiso de solo lectura en carpeta de red</td>\n",
       "      <td>53881</td>\n",
       "      <td>2020011306000541</td>\n",
       "      <td>CERRADO EXITOSAMENTE</td>\n",
       "      <td>CERRADO</td>\n",
       "      <td>REQUERIMENTO/SOLICITUD</td>\n",
       "      <td>MENSAJERIA Y COLABORACION::SERVIDOR DE ARCHIVOS</td>\n",
       "      <td>MENSAJERIA Y COLABORACION</td>\n",
       "      <td>SERVIDOR DE ARCHIVOS</td>\n",
       "      <td>SERVICIOS IT</td>\n",
       "      <td>...</td>\n",
       "      <td>0</td>\n",
       "      <td>03:47:41</td>\n",
       "      <td>0</td>\n",
       "      <td>03:50:46</td>\n",
       "      <td>2020-01-13</td>\n",
       "      <td>2020-01-13</td>\n",
       "      <td>2020</td>\n",
       "      <td>January</td>\n",
       "      <td>13</td>\n",
       "      <td>1</td>\n",
       "    </tr>\n",
       "    <tr>\n",
       "      <th>4041</th>\n",
       "      <td>novedades telefonos</td>\n",
       "      <td>53856</td>\n",
       "      <td>2020011306000292</td>\n",
       "      <td>CERRADO EXITOSAMENTE</td>\n",
       "      <td>CERRADO</td>\n",
       "      <td>INCIDENTE</td>\n",
       "      <td>TELEFONIA::TELEFONIA IP</td>\n",
       "      <td>TELEFONIA</td>\n",
       "      <td>TELEFONIA IP</td>\n",
       "      <td>SERVICIOS IT</td>\n",
       "      <td>...</td>\n",
       "      <td>0</td>\n",
       "      <td>19:35:03</td>\n",
       "      <td>0</td>\n",
       "      <td>19:42:54</td>\n",
       "      <td>2020-01-13</td>\n",
       "      <td>2020-01-14</td>\n",
       "      <td>2020</td>\n",
       "      <td>January</td>\n",
       "      <td>13</td>\n",
       "      <td>1</td>\n",
       "    </tr>\n",
       "    <tr>\n",
       "      <th>4042</th>\n",
       "      <td>novedad extensión 5008</td>\n",
       "      <td>53855</td>\n",
       "      <td>2020011306000283</td>\n",
       "      <td>CERRADO EXITOSAMENTE</td>\n",
       "      <td>CERRADO</td>\n",
       "      <td>REQUERIMENTO/SOLICITUD</td>\n",
       "      <td>TELEFONIA::TELEFONIA IP</td>\n",
       "      <td>TELEFONIA</td>\n",
       "      <td>TELEFONIA IP</td>\n",
       "      <td>SERVICIOS IT</td>\n",
       "      <td>...</td>\n",
       "      <td>0</td>\n",
       "      <td>00:00:49</td>\n",
       "      <td>0</td>\n",
       "      <td>00:03:36</td>\n",
       "      <td>2020-01-13</td>\n",
       "      <td>2020-01-13</td>\n",
       "      <td>2020</td>\n",
       "      <td>January</td>\n",
       "      <td>13</td>\n",
       "      <td>1</td>\n",
       "    </tr>\n",
       "    <tr>\n",
       "      <th>4043</th>\n",
       "      <td>solicitud de revisión</td>\n",
       "      <td>53854</td>\n",
       "      <td>2020011306000274</td>\n",
       "      <td>CERRADO EXITOSAMENTE</td>\n",
       "      <td>CERRADO</td>\n",
       "      <td>REQUERIMENTO/SOLICITUD</td>\n",
       "      <td>TELEFONIA::TELEFONIA IP</td>\n",
       "      <td>TELEFONIA</td>\n",
       "      <td>TELEFONIA IP</td>\n",
       "      <td>SERVICIOS IT</td>\n",
       "      <td>...</td>\n",
       "      <td>0</td>\n",
       "      <td>00:44:03</td>\n",
       "      <td>0</td>\n",
       "      <td>00:48:36</td>\n",
       "      <td>2020-01-13</td>\n",
       "      <td>2020-01-13</td>\n",
       "      <td>2020</td>\n",
       "      <td>January</td>\n",
       "      <td>13</td>\n",
       "      <td>1</td>\n",
       "    </tr>\n",
       "  </tbody>\n",
       "</table>\n",
       "<p>430 rows × 36 columns</p>\n",
       "</div>"
      ],
      "text/plain": [
       "                                                  title  ticket_id  \\\n",
       "25                                    Permiso de acceso      69603   \n",
       "29    Nuevo buzón de voz - Desde 43114226455 - 43114...      69596   \n",
       "33             Permisos en carpeta GESTIÓN POR PROCESOS      69587   \n",
       "36                               Permiso a Edison Arias      69578   \n",
       "38                 LINEAS INTERNAS REGIONAL BUCARAMANGA      69572   \n",
       "...                                                 ...        ...   \n",
       "4029                   LINEAS TELEFONICAS REGIONAL CALI      53890   \n",
       "4034          permiso de solo lectura en carpeta de red      53881   \n",
       "4041                                novedades telefonos      53856   \n",
       "4042                             novedad extensión 5008      53855   \n",
       "4043                              solicitud de revisión      53854   \n",
       "\n",
       "         ticket_numero         estado_ticket tipo_estado  \\\n",
       "25    2020122306000118  CERRADO EXITOSAMENTE     CERRADO   \n",
       "29    2020122306000047  CERRADO EXITOSAMENTE     CERRADO   \n",
       "33    2020122206000352  CERRADO EXITOSAMENTE     CERRADO   \n",
       "36    2020122206000263  CERRADO EXITOSAMENTE     CERRADO   \n",
       "38    2020122206000209  CERRADO EXITOSAMENTE     CERRADO   \n",
       "...                ...                   ...         ...   \n",
       "4029  2020011306000631  CERRADO EXITOSAMENTE     CERRADO   \n",
       "4034  2020011306000541  CERRADO EXITOSAMENTE     CERRADO   \n",
       "4041  2020011306000292  CERRADO EXITOSAMENTE     CERRADO   \n",
       "4042  2020011306000283  CERRADO EXITOSAMENTE     CERRADO   \n",
       "4043  2020011306000274  CERRADO EXITOSAMENTE     CERRADO   \n",
       "\n",
       "                 tipo_ticket                                         servicio  \\\n",
       "25    REQUERIMENTO/SOLICITUD  MENSAJERIA Y COLABORACION::SERVIDOR DE ARCHIVOS   \n",
       "29    REQUERIMENTO/SOLICITUD                          TELEFONIA::TELEFONIA IP   \n",
       "33    REQUERIMENTO/SOLICITUD  MENSAJERIA Y COLABORACION::SERVIDOR DE ARCHIVOS   \n",
       "36    REQUERIMENTO/SOLICITUD  MENSAJERIA Y COLABORACION::SERVIDOR DE ARCHIVOS   \n",
       "38    REQUERIMENTO/SOLICITUD                          TELEFONIA::TELEFONIA IP   \n",
       "...                      ...                                              ...   \n",
       "4029  REQUERIMENTO/SOLICITUD                          TELEFONIA::TELEFONIA IP   \n",
       "4034  REQUERIMENTO/SOLICITUD  MENSAJERIA Y COLABORACION::SERVIDOR DE ARCHIVOS   \n",
       "4041               INCIDENTE                          TELEFONIA::TELEFONIA IP   \n",
       "4042  REQUERIMENTO/SOLICITUD                          TELEFONIA::TELEFONIA IP   \n",
       "4043  REQUERIMENTO/SOLICITUD                          TELEFONIA::TELEFONIA IP   \n",
       "\n",
       "                 servicio_padre         servicio_hijo          cola  ...  \\\n",
       "25    MENSAJERIA Y COLABORACION  SERVIDOR DE ARCHIVOS  SERVICIOS IT  ...   \n",
       "29                    TELEFONIA          TELEFONIA IP  SERVICIOS IT  ...   \n",
       "33    MENSAJERIA Y COLABORACION  SERVIDOR DE ARCHIVOS  SERVICIOS IT  ...   \n",
       "36    MENSAJERIA Y COLABORACION  SERVIDOR DE ARCHIVOS  SERVICIOS IT  ...   \n",
       "38                    TELEFONIA          TELEFONIA IP  SERVICIOS IT  ...   \n",
       "...                         ...                   ...           ...  ...   \n",
       "4029                  TELEFONIA          TELEFONIA IP  SERVICIOS IT  ...   \n",
       "4034  MENSAJERIA Y COLABORACION  SERVIDOR DE ARCHIVOS  SERVICIOS IT  ...   \n",
       "4041                  TELEFONIA          TELEFONIA IP  SERVICIOS IT  ...   \n",
       "4042                  TELEFONIA          TELEFONIA IP  SERVICIOS IT  ...   \n",
       "4043                  TELEFONIA          TELEFONIA IP  SERVICIOS IT  ...   \n",
       "\n",
       "     asignado_pendiente asignado_cerrado asignado_espera nuevo_cerrado  \\\n",
       "25             04:11:25         39:08:34               0      40:45:40   \n",
       "29                    0         00:05:04               0      00:16:45   \n",
       "33                    0         06:24:15               0      07:20:01   \n",
       "36                    0         01:37:55               0      02:41:27   \n",
       "38                    0         00:03:23               0      00:45:24   \n",
       "...                 ...              ...             ...           ...   \n",
       "4029           02:26:05         36:49:14               0      37:11:31   \n",
       "4034                  0         03:47:41               0      03:50:46   \n",
       "4041                  0         19:35:03               0      19:42:54   \n",
       "4042                  0         00:00:49               0      00:03:36   \n",
       "4043                  0         00:44:03               0      00:48:36   \n",
       "\n",
       "     fecha_creacion fecha_cierre  anio       mes day cantidad_servicio  \n",
       "25       2020-12-23   2020-12-28  2020  December  23                 1  \n",
       "29       2020-12-23   2020-12-23  2020  December  23                 1  \n",
       "33       2020-12-22   2020-12-23  2020  December  22                 1  \n",
       "36       2020-12-22   2020-12-22  2020  December  22                 1  \n",
       "38       2020-12-22   2020-12-22  2020  December  22                 1  \n",
       "...             ...          ...   ...       ...  ..               ...  \n",
       "4029     2020-01-13   2020-01-16  2020   January  13                 1  \n",
       "4034     2020-01-13   2020-01-13  2020   January  13                 1  \n",
       "4041     2020-01-13   2020-01-14  2020   January  13                 1  \n",
       "4042     2020-01-13   2020-01-13  2020   January  13                 1  \n",
       "4043     2020-01-13   2020-01-13  2020   January  13                 1  \n",
       "\n",
       "[430 rows x 36 columns]"
      ]
     },
     "execution_count": 83,
     "metadata": {},
     "output_type": "execute_result"
    }
   ],
   "source": [
    "df.loc[(df['fecha_creacion']\n",
    "        .isin(fechas)) & (df['servicio']\n",
    "                          .isin(['TELEFONIA::TELEFONIA IP', 'MENSAJERIA Y COLABORACION::SERVIDOR DE ARCHIVOS']))]"
   ]
  },
  {
   "cell_type": "code",
   "execution_count": 41,
   "id": "caring-costume",
   "metadata": {},
   "outputs": [
    {
     "data": {
      "text/plain": [
       "array(['JAIME ALBERTO GONZALEZ', 'ROBINSON CASTRO', 'RODOLFO LEON VELEZ'],\n",
       "      dtype=object)"
      ]
     },
     "execution_count": 41,
     "metadata": {},
     "output_type": "execute_result"
    }
   ],
   "source": [
    "df['agente'].unique()"
   ]
  },
  {
   "cell_type": "code",
   "execution_count": 43,
   "id": "attended-characteristic",
   "metadata": {
    "scrolled": true
   },
   "outputs": [
    {
     "data": {
      "text/plain": [
       "array(['JAIME ALBERTO GONZALEZ', 'ROBINSON CASTRO', 'RODOLFO LEON VELEZ'],\n",
       "      dtype=object)"
      ]
     },
     "execution_count": 43,
     "metadata": {},
     "output_type": "execute_result"
    }
   ],
   "source": [
    "df[df['servicio'] == 'ERP::ADMINISTRACION']['agente'].unique()"
   ]
  }
 ],
 "metadata": {
  "kernelspec": {
   "display_name": "Python 3",
   "language": "python",
   "name": "python3"
  },
  "language_info": {
   "codemirror_mode": {
    "name": "ipython",
    "version": 3
   },
   "file_extension": ".py",
   "mimetype": "text/x-python",
   "name": "python",
   "nbconvert_exporter": "python",
   "pygments_lexer": "ipython3",
   "version": "3.7.10"
  }
 },
 "nbformat": 4,
 "nbformat_minor": 5
}
