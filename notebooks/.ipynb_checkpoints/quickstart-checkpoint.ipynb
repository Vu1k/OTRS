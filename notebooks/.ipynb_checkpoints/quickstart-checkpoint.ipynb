{
 "cells": [
  {
   "cell_type": "code",
   "execution_count": 1,
   "metadata": {},
   "outputs": [
    {
     "name": "stdout",
     "output_type": "stream",
     "text": [
      "VentasAX\n",
      "\n",
      "VentasAX/VentasTATdesde2018.json\n",
      "\n"
     ]
    }
   ],
   "source": [
    "from azure.storage.filedatalake import FileSystemClient\n",
    "\n",
    "conn_string = 'DefaultEndpointsProtocol=https;AccountName=tronextest;AccountKey=rJC0wwjDFz8GTo9ngzlsPd+QfoTQ1R6wU/KqX4Snk5bb/HKxtwCf8DRAe2qdiCbPjfkHlTe8Q5XnhcRvo/d1sw==;EndpointSuffix=core.windows.net'\n",
    "\n",
    "file_system = FileSystemClient.from_connection_string(conn_string, file_system_name=\"sales\")\n",
    "\n",
    "paths = file_system.get_paths()\n",
    "for path in paths:\n",
    "    print(path.name + '\\n')"
   ]
  },
  {
   "cell_type": "code",
   "execution_count": 2,
   "metadata": {},
   "outputs": [
    {
     "name": "stdout",
     "output_type": "stream",
     "text": [
      "Azure Blob storage v12 - Python quickstart sample\n",
      "\n",
      "Uploading to Azure Storage as blob:\n",
      "\tquickstartb2298103-cd4f-4238-9d9a-8ac72411664e.txt\n"
     ]
    }
   ],
   "source": [
    "import os, uuid\n",
    "from azure.storage.blob import BlobServiceClient, BlobClient, ContainerClient\n",
    "\n",
    "try:\n",
    "    print(\"Azure Blob storage v12 - Python quickstart sample\")\n",
    "    # Create the BlobServiceClient object which will be used to create a container client\n",
    "    blob_service_client = BlobServiceClient.from_connection_string(conn_string)\n",
    "\n",
    "    # Create a unique name for the container\n",
    "    container_name = \"quickstart\" + str(uuid.uuid4())\n",
    "\n",
    "    # Create the container\n",
    "    container_client = blob_service_client.create_container(container_name)\n",
    "\n",
    "    # Create a file in local data directory to upload and download\n",
    "    local_path = \"../data\"\n",
    "    local_file_name = \"quickstart\" + str(uuid.uuid4()) + \".txt\"\n",
    "    upload_file_path = os.path.join(local_path, local_file_name)\n",
    "\n",
    "    # Write text to the file\n",
    "    file = open(upload_file_path, 'w')\n",
    "    file.write(\"Hello, World!\")\n",
    "    file.close()\n",
    "\n",
    "    # Create a blob client using the local file name as the name for the blob\n",
    "    blob_client = blob_service_client.get_blob_client(container=container_name, blob=local_file_name)\n",
    "\n",
    "    print(\"\\nUploading to Azure Storage as blob:\\n\\t\" + local_file_name)\n",
    "\n",
    "    # Upload the created file\n",
    "    with open(upload_file_path, \"rb\") as data:\n",
    "        blob_client.upload_blob(data)\n",
    "    \n",
    "except Exception as ex:\n",
    "    print('Exception:')\n",
    "    print(ex)"
   ]
  },
  {
   "cell_type": "code",
   "execution_count": null,
   "metadata": {},
   "outputs": [],
   "source": []
  }
 ],
 "metadata": {
  "kernelspec": {
   "display_name": "Python 3",
   "language": "python",
   "name": "python3"
  },
  "language_info": {
   "codemirror_mode": {
    "name": "ipython",
    "version": 3
   },
   "file_extension": ".py",
   "mimetype": "text/x-python",
   "name": "python",
   "nbconvert_exporter": "python",
   "pygments_lexer": "ipython3",
   "version": "3.7.6"
  }
 },
 "nbformat": 4,
 "nbformat_minor": 4
}
