{
 "cells": [
  {
   "cell_type": "code",
   "execution_count": 1,
   "metadata": {},
   "outputs": [
    {
     "name": "stdout",
     "output_type": "stream",
     "text": [
      "VentasAX\n",
      "\n",
      "VentasAX/VentasTATdesde2018.json\n",
      "\n"
     ]
    }
   ],
   "source": [
    "from azure.storage.filedatalake import FileSystemClient\n",
    "\n",
    "conn_string = 'DefaultEndpointsProtocol=https;AccountName=tronextest;AccountKey=rJC0wwjDFz8GTo9ngzlsPd+QfoTQ1R6wU/KqX4Snk5bb/HKxtwCf8DRAe2qdiCbPjfkHlTe8Q5XnhcRvo/d1sw==;EndpointSuffix=core.windows.net'\n",
    "\n",
    "file_system = FileSystemClient.from_connection_string(conn_string, file_system_name=\"sales\")\n",
    "\n",
    "paths = file_system.get_paths()\n",
    "for path in paths:\n",
    "    print(path.name + '\\n')"
   ]
  },
  {
   "cell_type": "code",
   "execution_count": 5,
   "metadata": {},
   "outputs": [
    {
     "name": "stdout",
     "output_type": "stream",
     "text": [
      "Azure Blob storage v12 - Python quickstart sample\n",
      "\n",
      "Uploading to Azure Storage as blob:\n",
      "\tquickstartb88afce6-a0a1-4af4-b6bb-313f342ddddd.txt\n"
     ]
    }
   ],
   "source": [
    "import os, uuid\n",
    "from azure.storage.blob import BlobServiceClient, BlobClient, ContainerClient\n",
    "\n",
    "try:\n",
    "    print(\"Azure Blob storage v12 - Python quickstart sample\")\n",
    "    # Create the BlobServiceClient object which will be used to create a container client\n",
    "    blob_service_client = BlobServiceClient.from_connection_string(conn_string)\n",
    "\n",
    "    # Create a unique name for the container\n",
    "    container_name = \"quickstart\" + str(uuid.uuid4())\n",
    "\n",
    "    # Create the container\n",
    "    container_client = blob_service_client.create_container(container_name)\n",
    "\n",
    "    # Create a file in local data directory to upload and download\n",
    "    local_path = \"../data\"\n",
    "    local_file_name = \"quickstart\" + str(uuid.uuid4()) + \".txt\"\n",
    "    upload_file_path = os.path.join(local_path, local_file_name)\n",
    "\n",
    "    # Write text to the file\n",
    "    file = open(upload_file_path, 'w')\n",
    "    file.write(\"Hello, World!\")\n",
    "    file.close()\n",
    "\n",
    "    # Create a blob client using the local file name as the name for the blob\n",
    "    blob_client = blob_service_client.get_blob_client(container='sales', blob=local_file_name)\n",
    "\n",
    "    print(\"\\nUploading to Azure Storage as blob:\\n\\t\" + local_file_name)\n",
    "\n",
    "    # Upload the created file\n",
    "    with open(upload_file_path, \"rb\") as data:\n",
    "        blob_client.upload_blob(data)\n",
    "    \n",
    "except Exception as ex:\n",
    "    print('Exception:')\n",
    "    print(ex)"
   ]
  },
  {
   "cell_type": "code",
   "execution_count": 9,
   "metadata": {},
   "outputs": [
    {
     "name": "stdout",
     "output_type": "stream",
     "text": [
      "Azure Blob storage v12 - Python quickstart sample\n",
      "\n",
      "Listing blobs...\n"
     ]
    }
   ],
   "source": [
    "try:\n",
    "    print(\"Azure Blob storage v12 - Python quickstart sample\")\n",
    "    print(\"\\nListing blobs...\")\n",
    "\n",
    "    # List the blobs in the container\n",
    "    blob_list = container_client.list_blobs()\n",
    "    for blob in blob_list:\n",
    "        print(\"\\t\" + blob.name)\n",
    "except Exception as ex:\n",
    "    print('Exception:')\n",
    "    print(ex)"
   ]
  },
  {
   "cell_type": "code",
   "execution_count": 10,
   "metadata": {},
   "outputs": [
    {
     "name": "stdout",
     "output_type": "stream",
     "text": [
      "\n",
      "Downloading blob to \n",
      "\t../data/quickstartb88afce6-a0a1-4af4-b6bb-313f342dddddDOWNLOAD.txt\n"
     ]
    }
   ],
   "source": [
    "download_file_path = os.path.join(local_path, str.replace(local_file_name ,'.txt', 'DOWNLOAD.txt'))\n",
    "print(\"\\nDownloading blob to \\n\\t\" + download_file_path)\n",
    "\n",
    "with open(download_file_path, \"wb\") as download_file:\n",
    "    download_file.write(blob_client.download_blob().readall())"
   ]
  }
 ],
 "metadata": {
  "kernelspec": {
   "display_name": "Python 3",
   "language": "python",
   "name": "python3"
  },
  "language_info": {
   "codemirror_mode": {
    "name": "ipython",
    "version": 3
   },
   "file_extension": ".py",
   "mimetype": "text/x-python",
   "name": "python",
   "nbconvert_exporter": "python",
   "pygments_lexer": "ipython3",
   "version": "3.7.10"
  }
 },
 "nbformat": 4,
 "nbformat_minor": 4
}
