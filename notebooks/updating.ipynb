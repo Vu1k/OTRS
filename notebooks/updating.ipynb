{
 "cells": [
  {
   "cell_type": "code",
   "execution_count": 1,
   "metadata": {},
   "outputs": [],
   "source": [
    "# mysql\n",
    "import mysql.connector\n",
    "# pandas\n",
    "import pandas as pd"
   ]
  },
  {
   "cell_type": "code",
   "execution_count": 2,
   "metadata": {},
   "outputs": [],
   "source": [
    "otrs_user = 'dbadminotrs'\n",
    "otrs_pass = 'jacsos-tygwuv-Dipky6'\n",
    "\n",
    "cnx = mysql.connector.connect(user=otrs_user, password=otrs_pass,\n",
    "                              host='otrs.cluster-ro-cwqmr5tsjjh9.us-west-2.rds.amazonaws.com',\n",
    "                              database='tronex.otrs')\n",
    "\n",
    "query = ('SELECT T.title, S.* \\\n",
    "         FROM `tronex.otrs`.itv_sabana_tickets AS S \\\n",
    "         INNER JOIN `tronex.otrs`.ticket AS T \\\n",
    "             ON S.ticket_id = T.id \\\n",
    "         WHERE cola = \"SERVICIOS IT\" AND \\\n",
    "             correo_cliente NOT IN \\\n",
    "                (\"soporte@sasaconsultoria.com\", \\\n",
    "                \"telefonia@tronex.com\", \\\n",
    "                 \"serviciosit@tronex.com\") \\\n",
    "            AND T.title not like \"%has low free space\" \\\n",
    "            AND agente in (\"JAIME ALBERTO GONZALEZ\", \"ROBINSON CASTRO\", \"RODOLFO LEON VELEZ\") \\\n",
    "            AND estado_ticket <> \"merged\"')\n",
    "\n",
    "df = pd.read_sql(query, con=cnx)\n",
    "\n",
    "years = pd.to_datetime(df['fecha_creacion']).dt.year.unique()\n",
    "year_list = [{'label': x, 'value': x} for x in years]"
   ]
  },
  {
   "cell_type": "code",
   "execution_count": 4,
   "metadata": {},
   "outputs": [
    {
     "data": {
      "text/plain": [
       "Index(['title', 'ticket_id', 'ticket_numero', 'estado_ticket', 'tipo_estado',\n",
       "       'tipo_ticket', 'servicio', 'servicio_padre', 'servicio_hijo', 'cola',\n",
       "       'sla', 'cumple_sla', 'via_de_ingreso', 'primer_contacto', 'reincidente',\n",
       "       'agente', 'tipo_agente', 'correo_cliente', 'nombre_usuario',\n",
       "       'nombre_area', 'centro_costo', 'unidad_negocio', 'empresa', 'merged',\n",
       "       'nuevo_asignado', 'asignado_en_progreso', 'asignado_pendiente',\n",
       "       'asignado_cerrado', 'asignado_espera', 'nuevo_cerrado',\n",
       "       'fecha_creacion', 'fecha_cierre', 'anio', 'mes', 'day',\n",
       "       'clasificacion_de_ticket', '_sin_SCUN', 'ComTipo', 'Clasificacion'],\n",
       "      dtype='object')"
      ]
     },
     "execution_count": 4,
     "metadata": {},
     "output_type": "execute_result"
    }
   ],
   "source": [
    "df.columns"
   ]
  },
  {
   "cell_type": "code",
   "execution_count": 14,
   "metadata": {},
   "outputs": [
    {
     "data": {
      "text/plain": [
       "array([2, 1], dtype=int64)"
      ]
     },
     "execution_count": 14,
     "metadata": {},
     "output_type": "execute_result"
    }
   ],
   "source": [
    "month_list = pd.to_datetime(df[pd.to_datetime(\n",
    "        df['fecha_creacion']).dt.year == int(2022)]['fecha_creacion']).dt.month.unique()\n",
    "month_list"
   ]
  },
  {
   "cell_type": "code",
   "execution_count": 7,
   "metadata": {},
   "outputs": [
    {
     "data": {
      "text/html": [
       "<div>\n",
       "<style scoped>\n",
       "    .dataframe tbody tr th:only-of-type {\n",
       "        vertical-align: middle;\n",
       "    }\n",
       "\n",
       "    .dataframe tbody tr th {\n",
       "        vertical-align: top;\n",
       "    }\n",
       "\n",
       "    .dataframe thead th {\n",
       "        text-align: right;\n",
       "    }\n",
       "</style>\n",
       "<table border=\"1\" class=\"dataframe\">\n",
       "  <thead>\n",
       "    <tr style=\"text-align: right;\">\n",
       "      <th></th>\n",
       "      <th>title</th>\n",
       "      <th>ticket_id</th>\n",
       "      <th>ticket_numero</th>\n",
       "      <th>estado_ticket</th>\n",
       "      <th>tipo_estado</th>\n",
       "      <th>tipo_ticket</th>\n",
       "      <th>servicio</th>\n",
       "      <th>servicio_padre</th>\n",
       "      <th>servicio_hijo</th>\n",
       "      <th>cola</th>\n",
       "      <th>...</th>\n",
       "      <th>nuevo_cerrado</th>\n",
       "      <th>fecha_creacion</th>\n",
       "      <th>fecha_cierre</th>\n",
       "      <th>anio</th>\n",
       "      <th>mes</th>\n",
       "      <th>day</th>\n",
       "      <th>clasificacion_de_ticket</th>\n",
       "      <th>_sin_SCUN</th>\n",
       "      <th>ComTipo</th>\n",
       "      <th>Clasificacion</th>\n",
       "    </tr>\n",
       "  </thead>\n",
       "  <tbody>\n",
       "  </tbody>\n",
       "</table>\n",
       "<p>0 rows × 39 columns</p>\n",
       "</div>"
      ],
      "text/plain": [
       "Empty DataFrame\n",
       "Columns: [title, ticket_id, ticket_numero, estado_ticket, tipo_estado, tipo_ticket, servicio, servicio_padre, servicio_hijo, cola, sla, cumple_sla, via_de_ingreso, primer_contacto, reincidente, agente, tipo_agente, correo_cliente, nombre_usuario, nombre_area, centro_costo, unidad_negocio, empresa, merged, nuevo_asignado, asignado_en_progreso, asignado_pendiente, asignado_cerrado, asignado_espera, nuevo_cerrado, fecha_creacion, fecha_cierre, anio, mes, day, clasificacion_de_ticket, _sin_SCUN, ComTipo, Clasificacion]\n",
       "Index: []\n",
       "\n",
       "[0 rows x 39 columns]"
      ]
     },
     "execution_count": 7,
     "metadata": {},
     "output_type": "execute_result"
    }
   ],
   "source": [
    "df.loc[(df['day'] == \"1\") & (df['mes'] == \"2\")]"
   ]
  },
  {
   "cell_type": "code",
   "execution_count": 12,
   "metadata": {},
   "outputs": [
    {
     "data": {
      "text/plain": [
       "array(['February', 'January', 'December', 'November', 'October',\n",
       "       'September', 'August', 'July', 'June', 'May', 'April', 'March'],\n",
       "      dtype=object)"
      ]
     },
     "execution_count": 12,
     "metadata": {},
     "output_type": "execute_result"
    }
   ],
   "source": [
    "df['mes'].unique()"
   ]
  },
  {
   "cell_type": "code",
   "execution_count": 21,
   "metadata": {},
   "outputs": [],
   "source": [
    "df['fecha_creacion'] = pd.to_datetime(df['fecha_creacion'])"
   ]
  },
  {
   "cell_type": "code",
   "execution_count": 22,
   "metadata": {},
   "outputs": [],
   "source": [
    "df.set_index('fecha_creacion', inplace=True)"
   ]
  },
  {
   "cell_type": "code",
   "execution_count": 25,
   "metadata": {},
   "outputs": [
    {
     "data": {
      "text/html": [
       "<div>\n",
       "<style scoped>\n",
       "    .dataframe tbody tr th:only-of-type {\n",
       "        vertical-align: middle;\n",
       "    }\n",
       "\n",
       "    .dataframe tbody tr th {\n",
       "        vertical-align: top;\n",
       "    }\n",
       "\n",
       "    .dataframe thead th {\n",
       "        text-align: right;\n",
       "    }\n",
       "</style>\n",
       "<table border=\"1\" class=\"dataframe\">\n",
       "  <thead>\n",
       "    <tr style=\"text-align: right;\">\n",
       "      <th></th>\n",
       "      <th>title</th>\n",
       "      <th>ticket_id</th>\n",
       "      <th>ticket_numero</th>\n",
       "      <th>estado_ticket</th>\n",
       "      <th>tipo_estado</th>\n",
       "      <th>tipo_ticket</th>\n",
       "      <th>servicio</th>\n",
       "      <th>servicio_padre</th>\n",
       "      <th>servicio_hijo</th>\n",
       "      <th>cola</th>\n",
       "      <th>...</th>\n",
       "      <th>asignado_espera</th>\n",
       "      <th>nuevo_cerrado</th>\n",
       "      <th>fecha_cierre</th>\n",
       "      <th>anio</th>\n",
       "      <th>mes</th>\n",
       "      <th>day</th>\n",
       "      <th>clasificacion_de_ticket</th>\n",
       "      <th>_sin_SCUN</th>\n",
       "      <th>ComTipo</th>\n",
       "      <th>Clasificacion</th>\n",
       "    </tr>\n",
       "    <tr>\n",
       "      <th>fecha_creacion</th>\n",
       "      <th></th>\n",
       "      <th></th>\n",
       "      <th></th>\n",
       "      <th></th>\n",
       "      <th></th>\n",
       "      <th></th>\n",
       "      <th></th>\n",
       "      <th></th>\n",
       "      <th></th>\n",
       "      <th></th>\n",
       "      <th></th>\n",
       "      <th></th>\n",
       "      <th></th>\n",
       "      <th></th>\n",
       "      <th></th>\n",
       "      <th></th>\n",
       "      <th></th>\n",
       "      <th></th>\n",
       "      <th></th>\n",
       "      <th></th>\n",
       "      <th></th>\n",
       "    </tr>\n",
       "  </thead>\n",
       "  <tbody>\n",
       "    <tr>\n",
       "      <th>2022-02-02</th>\n",
       "      <td>No. 3102657423 sin datos Medellin Android HH</td>\n",
       "      <td>93028</td>\n",
       "      <td>2022020206000075</td>\n",
       "      <td>CERRADO EXITOSAMENTE</td>\n",
       "      <td>CERRADO</td>\n",
       "      <td>REQUERIMENTO/SOLICITUD</td>\n",
       "      <td>AUTOMATIZACION FUERZA DE VENTAS::ADMINISTRACION</td>\n",
       "      <td>AUTOMATIZACION FUERZA DE VENTAS</td>\n",
       "      <td>ADMINISTRACION</td>\n",
       "      <td>SERVICIOS IT</td>\n",
       "      <td>...</td>\n",
       "      <td>0</td>\n",
       "      <td>11:10:32</td>\n",
       "      <td>2022-02-03</td>\n",
       "      <td>2022</td>\n",
       "      <td>February</td>\n",
       "      <td>2</td>\n",
       "      <td>COTIZACION</td>\n",
       "      <td>CONSUMO MASIVO</td>\n",
       "      <td>_SIN COMTIPO</td>\n",
       "      <td>_SIN CLASIFICACION</td>\n",
       "    </tr>\n",
       "  </tbody>\n",
       "</table>\n",
       "<p>1 rows × 38 columns</p>\n",
       "</div>"
      ],
      "text/plain": [
       "                                                       title  ticket_id  \\\n",
       "fecha_creacion                                                            \n",
       "2022-02-02      No. 3102657423 sin datos Medellin Android HH      93028   \n",
       "\n",
       "                   ticket_numero         estado_ticket tipo_estado  \\\n",
       "fecha_creacion                                                       \n",
       "2022-02-02      2022020206000075  CERRADO EXITOSAMENTE     CERRADO   \n",
       "\n",
       "                           tipo_ticket  \\\n",
       "fecha_creacion                           \n",
       "2022-02-02      REQUERIMENTO/SOLICITUD   \n",
       "\n",
       "                                                       servicio  \\\n",
       "fecha_creacion                                                    \n",
       "2022-02-02      AUTOMATIZACION FUERZA DE VENTAS::ADMINISTRACION   \n",
       "\n",
       "                                 servicio_padre   servicio_hijo          cola  \\\n",
       "fecha_creacion                                                                  \n",
       "2022-02-02      AUTOMATIZACION FUERZA DE VENTAS  ADMINISTRACION  SERVICIOS IT   \n",
       "\n",
       "                ... asignado_espera nuevo_cerrado fecha_cierre  anio  \\\n",
       "fecha_creacion  ...                                                    \n",
       "2022-02-02      ...               0      11:10:32   2022-02-03  2022   \n",
       "\n",
       "                     mes day clasificacion_de_ticket       _sin_SCUN  \\\n",
       "fecha_creacion                                                         \n",
       "2022-02-02      February   2              COTIZACION  CONSUMO MASIVO   \n",
       "\n",
       "                     ComTipo       Clasificacion  \n",
       "fecha_creacion                                    \n",
       "2022-02-02      _SIN COMTIPO  _SIN CLASIFICACION  \n",
       "\n",
       "[1 rows x 38 columns]"
      ]
     },
     "execution_count": 25,
     "metadata": {},
     "output_type": "execute_result"
    }
   ],
   "source": [
    "tmp = df.loc['2022-02']\n",
    "tmp.sample()"
   ]
  },
  {
   "cell_type": "code",
   "execution_count": 30,
   "metadata": {},
   "outputs": [],
   "source": [
    "temp = pd.DataFrame(tmp['servicio'].value_counts()).reset_index().rename(columns={'index': 'servicio', 'servicio': 'cantidad'})"
   ]
  },
  {
   "cell_type": "code",
   "execution_count": 31,
   "metadata": {},
   "outputs": [],
   "source": [
    "import plotly.express as px"
   ]
  },
  {
   "cell_type": "code",
   "execution_count": 35,
   "metadata": {},
   "outputs": [
    {
     "data": {
      "application/vnd.plotly.v1+json": {
       "config": {
        "plotlyServerURL": "https://plot.ly"
       },
       "data": [
        {
         "alignmentgroup": "True",
         "hovertemplate": "servicio=%{x}<br>cantidad=%{y}<extra></extra>",
         "legendgroup": "",
         "marker": {
          "color": "#636efa"
         },
         "name": "",
         "offsetgroup": "",
         "orientation": "v",
         "showlegend": false,
         "textposition": "auto",
         "type": "bar",
         "x": [
          "OFIMATICA::APLICACIONES DE ESCRITORIO",
          "OFIMATICA::SOLICITUD DE RECURSO",
          "MENSAJERIA Y COLABORACION::SERVIDOR DE ARCHIVOS",
          "AUTOMATIZACION FUERZA DE VENTAS::OPERACION DIA",
          "OFIMATICA::PERIFERICO",
          "ERP::PRODUCCION",
          "ERP::ADMINISTRACION",
          "IMPRESION ::IMPRESION",
          "OFIMATICA::EQUIPOS DE COMPUTO",
          "TELEFONIA::TELEFONIA IP",
          "ACCESIBILIDAD::DIRECTORIO ACTIVO",
          "MENSAJERIA Y COLABORACION::HERRAMIENTAS COLABORATIVAS",
          "TELEFONIA::TELEFONIA MOVIL",
          "AUTOMATIZACION DE LA ADMINISTRACION TI::CABLEADO ESTRUCTURADO",
          "MENSAJERIA Y COLABORACION::CORREO ELECTRONICO",
          "AUTOMATIZACION FUERZA DE VENTAS::ADMINISTRACION"
         ],
         "xaxis": "x",
         "y": [
          12,
          9,
          4,
          3,
          3,
          2,
          2,
          2,
          2,
          1,
          1,
          1,
          1,
          1,
          1,
          1
         ],
         "yaxis": "y"
        }
       ],
       "layout": {
        "barmode": "relative",
        "font": {
         "size": 7
        },
        "legend": {
         "tracegroupgap": 0
        },
        "margin": {
         "t": 60
        },
        "template": {
         "data": {
          "bar": [
           {
            "error_x": {
             "color": "#2a3f5f"
            },
            "error_y": {
             "color": "#2a3f5f"
            },
            "marker": {
             "line": {
              "color": "#E5ECF6",
              "width": 0.5
             }
            },
            "type": "bar"
           }
          ],
          "barpolar": [
           {
            "marker": {
             "line": {
              "color": "#E5ECF6",
              "width": 0.5
             }
            },
            "type": "barpolar"
           }
          ],
          "carpet": [
           {
            "aaxis": {
             "endlinecolor": "#2a3f5f",
             "gridcolor": "white",
             "linecolor": "white",
             "minorgridcolor": "white",
             "startlinecolor": "#2a3f5f"
            },
            "baxis": {
             "endlinecolor": "#2a3f5f",
             "gridcolor": "white",
             "linecolor": "white",
             "minorgridcolor": "white",
             "startlinecolor": "#2a3f5f"
            },
            "type": "carpet"
           }
          ],
          "choropleth": [
           {
            "colorbar": {
             "outlinewidth": 0,
             "ticks": ""
            },
            "type": "choropleth"
           }
          ],
          "contour": [
           {
            "colorbar": {
             "outlinewidth": 0,
             "ticks": ""
            },
            "colorscale": [
             [
              0,
              "#0d0887"
             ],
             [
              0.1111111111111111,
              "#46039f"
             ],
             [
              0.2222222222222222,
              "#7201a8"
             ],
             [
              0.3333333333333333,
              "#9c179e"
             ],
             [
              0.4444444444444444,
              "#bd3786"
             ],
             [
              0.5555555555555556,
              "#d8576b"
             ],
             [
              0.6666666666666666,
              "#ed7953"
             ],
             [
              0.7777777777777778,
              "#fb9f3a"
             ],
             [
              0.8888888888888888,
              "#fdca26"
             ],
             [
              1,
              "#f0f921"
             ]
            ],
            "type": "contour"
           }
          ],
          "contourcarpet": [
           {
            "colorbar": {
             "outlinewidth": 0,
             "ticks": ""
            },
            "type": "contourcarpet"
           }
          ],
          "heatmap": [
           {
            "colorbar": {
             "outlinewidth": 0,
             "ticks": ""
            },
            "colorscale": [
             [
              0,
              "#0d0887"
             ],
             [
              0.1111111111111111,
              "#46039f"
             ],
             [
              0.2222222222222222,
              "#7201a8"
             ],
             [
              0.3333333333333333,
              "#9c179e"
             ],
             [
              0.4444444444444444,
              "#bd3786"
             ],
             [
              0.5555555555555556,
              "#d8576b"
             ],
             [
              0.6666666666666666,
              "#ed7953"
             ],
             [
              0.7777777777777778,
              "#fb9f3a"
             ],
             [
              0.8888888888888888,
              "#fdca26"
             ],
             [
              1,
              "#f0f921"
             ]
            ],
            "type": "heatmap"
           }
          ],
          "heatmapgl": [
           {
            "colorbar": {
             "outlinewidth": 0,
             "ticks": ""
            },
            "colorscale": [
             [
              0,
              "#0d0887"
             ],
             [
              0.1111111111111111,
              "#46039f"
             ],
             [
              0.2222222222222222,
              "#7201a8"
             ],
             [
              0.3333333333333333,
              "#9c179e"
             ],
             [
              0.4444444444444444,
              "#bd3786"
             ],
             [
              0.5555555555555556,
              "#d8576b"
             ],
             [
              0.6666666666666666,
              "#ed7953"
             ],
             [
              0.7777777777777778,
              "#fb9f3a"
             ],
             [
              0.8888888888888888,
              "#fdca26"
             ],
             [
              1,
              "#f0f921"
             ]
            ],
            "type": "heatmapgl"
           }
          ],
          "histogram": [
           {
            "marker": {
             "colorbar": {
              "outlinewidth": 0,
              "ticks": ""
             }
            },
            "type": "histogram"
           }
          ],
          "histogram2d": [
           {
            "colorbar": {
             "outlinewidth": 0,
             "ticks": ""
            },
            "colorscale": [
             [
              0,
              "#0d0887"
             ],
             [
              0.1111111111111111,
              "#46039f"
             ],
             [
              0.2222222222222222,
              "#7201a8"
             ],
             [
              0.3333333333333333,
              "#9c179e"
             ],
             [
              0.4444444444444444,
              "#bd3786"
             ],
             [
              0.5555555555555556,
              "#d8576b"
             ],
             [
              0.6666666666666666,
              "#ed7953"
             ],
             [
              0.7777777777777778,
              "#fb9f3a"
             ],
             [
              0.8888888888888888,
              "#fdca26"
             ],
             [
              1,
              "#f0f921"
             ]
            ],
            "type": "histogram2d"
           }
          ],
          "histogram2dcontour": [
           {
            "colorbar": {
             "outlinewidth": 0,
             "ticks": ""
            },
            "colorscale": [
             [
              0,
              "#0d0887"
             ],
             [
              0.1111111111111111,
              "#46039f"
             ],
             [
              0.2222222222222222,
              "#7201a8"
             ],
             [
              0.3333333333333333,
              "#9c179e"
             ],
             [
              0.4444444444444444,
              "#bd3786"
             ],
             [
              0.5555555555555556,
              "#d8576b"
             ],
             [
              0.6666666666666666,
              "#ed7953"
             ],
             [
              0.7777777777777778,
              "#fb9f3a"
             ],
             [
              0.8888888888888888,
              "#fdca26"
             ],
             [
              1,
              "#f0f921"
             ]
            ],
            "type": "histogram2dcontour"
           }
          ],
          "mesh3d": [
           {
            "colorbar": {
             "outlinewidth": 0,
             "ticks": ""
            },
            "type": "mesh3d"
           }
          ],
          "parcoords": [
           {
            "line": {
             "colorbar": {
              "outlinewidth": 0,
              "ticks": ""
             }
            },
            "type": "parcoords"
           }
          ],
          "pie": [
           {
            "automargin": true,
            "type": "pie"
           }
          ],
          "scatter": [
           {
            "marker": {
             "colorbar": {
              "outlinewidth": 0,
              "ticks": ""
             }
            },
            "type": "scatter"
           }
          ],
          "scatter3d": [
           {
            "line": {
             "colorbar": {
              "outlinewidth": 0,
              "ticks": ""
             }
            },
            "marker": {
             "colorbar": {
              "outlinewidth": 0,
              "ticks": ""
             }
            },
            "type": "scatter3d"
           }
          ],
          "scattercarpet": [
           {
            "marker": {
             "colorbar": {
              "outlinewidth": 0,
              "ticks": ""
             }
            },
            "type": "scattercarpet"
           }
          ],
          "scattergeo": [
           {
            "marker": {
             "colorbar": {
              "outlinewidth": 0,
              "ticks": ""
             }
            },
            "type": "scattergeo"
           }
          ],
          "scattergl": [
           {
            "marker": {
             "colorbar": {
              "outlinewidth": 0,
              "ticks": ""
             }
            },
            "type": "scattergl"
           }
          ],
          "scattermapbox": [
           {
            "marker": {
             "colorbar": {
              "outlinewidth": 0,
              "ticks": ""
             }
            },
            "type": "scattermapbox"
           }
          ],
          "scatterpolar": [
           {
            "marker": {
             "colorbar": {
              "outlinewidth": 0,
              "ticks": ""
             }
            },
            "type": "scatterpolar"
           }
          ],
          "scatterpolargl": [
           {
            "marker": {
             "colorbar": {
              "outlinewidth": 0,
              "ticks": ""
             }
            },
            "type": "scatterpolargl"
           }
          ],
          "scatterternary": [
           {
            "marker": {
             "colorbar": {
              "outlinewidth": 0,
              "ticks": ""
             }
            },
            "type": "scatterternary"
           }
          ],
          "surface": [
           {
            "colorbar": {
             "outlinewidth": 0,
             "ticks": ""
            },
            "colorscale": [
             [
              0,
              "#0d0887"
             ],
             [
              0.1111111111111111,
              "#46039f"
             ],
             [
              0.2222222222222222,
              "#7201a8"
             ],
             [
              0.3333333333333333,
              "#9c179e"
             ],
             [
              0.4444444444444444,
              "#bd3786"
             ],
             [
              0.5555555555555556,
              "#d8576b"
             ],
             [
              0.6666666666666666,
              "#ed7953"
             ],
             [
              0.7777777777777778,
              "#fb9f3a"
             ],
             [
              0.8888888888888888,
              "#fdca26"
             ],
             [
              1,
              "#f0f921"
             ]
            ],
            "type": "surface"
           }
          ],
          "table": [
           {
            "cells": {
             "fill": {
              "color": "#EBF0F8"
             },
             "line": {
              "color": "white"
             }
            },
            "header": {
             "fill": {
              "color": "#C8D4E3"
             },
             "line": {
              "color": "white"
             }
            },
            "type": "table"
           }
          ]
         },
         "layout": {
          "annotationdefaults": {
           "arrowcolor": "#2a3f5f",
           "arrowhead": 0,
           "arrowwidth": 1
          },
          "autotypenumbers": "strict",
          "coloraxis": {
           "colorbar": {
            "outlinewidth": 0,
            "ticks": ""
           }
          },
          "colorscale": {
           "diverging": [
            [
             0,
             "#8e0152"
            ],
            [
             0.1,
             "#c51b7d"
            ],
            [
             0.2,
             "#de77ae"
            ],
            [
             0.3,
             "#f1b6da"
            ],
            [
             0.4,
             "#fde0ef"
            ],
            [
             0.5,
             "#f7f7f7"
            ],
            [
             0.6,
             "#e6f5d0"
            ],
            [
             0.7,
             "#b8e186"
            ],
            [
             0.8,
             "#7fbc41"
            ],
            [
             0.9,
             "#4d9221"
            ],
            [
             1,
             "#276419"
            ]
           ],
           "sequential": [
            [
             0,
             "#0d0887"
            ],
            [
             0.1111111111111111,
             "#46039f"
            ],
            [
             0.2222222222222222,
             "#7201a8"
            ],
            [
             0.3333333333333333,
             "#9c179e"
            ],
            [
             0.4444444444444444,
             "#bd3786"
            ],
            [
             0.5555555555555556,
             "#d8576b"
            ],
            [
             0.6666666666666666,
             "#ed7953"
            ],
            [
             0.7777777777777778,
             "#fb9f3a"
            ],
            [
             0.8888888888888888,
             "#fdca26"
            ],
            [
             1,
             "#f0f921"
            ]
           ],
           "sequentialminus": [
            [
             0,
             "#0d0887"
            ],
            [
             0.1111111111111111,
             "#46039f"
            ],
            [
             0.2222222222222222,
             "#7201a8"
            ],
            [
             0.3333333333333333,
             "#9c179e"
            ],
            [
             0.4444444444444444,
             "#bd3786"
            ],
            [
             0.5555555555555556,
             "#d8576b"
            ],
            [
             0.6666666666666666,
             "#ed7953"
            ],
            [
             0.7777777777777778,
             "#fb9f3a"
            ],
            [
             0.8888888888888888,
             "#fdca26"
            ],
            [
             1,
             "#f0f921"
            ]
           ]
          },
          "colorway": [
           "#636efa",
           "#EF553B",
           "#00cc96",
           "#ab63fa",
           "#FFA15A",
           "#19d3f3",
           "#FF6692",
           "#B6E880",
           "#FF97FF",
           "#FECB52"
          ],
          "font": {
           "color": "#2a3f5f"
          },
          "geo": {
           "bgcolor": "white",
           "lakecolor": "white",
           "landcolor": "#E5ECF6",
           "showlakes": true,
           "showland": true,
           "subunitcolor": "white"
          },
          "hoverlabel": {
           "align": "left"
          },
          "hovermode": "closest",
          "mapbox": {
           "style": "light"
          },
          "paper_bgcolor": "white",
          "plot_bgcolor": "#E5ECF6",
          "polar": {
           "angularaxis": {
            "gridcolor": "white",
            "linecolor": "white",
            "ticks": ""
           },
           "bgcolor": "#E5ECF6",
           "radialaxis": {
            "gridcolor": "white",
            "linecolor": "white",
            "ticks": ""
           }
          },
          "scene": {
           "xaxis": {
            "backgroundcolor": "#E5ECF6",
            "gridcolor": "white",
            "gridwidth": 2,
            "linecolor": "white",
            "showbackground": true,
            "ticks": "",
            "zerolinecolor": "white"
           },
           "yaxis": {
            "backgroundcolor": "#E5ECF6",
            "gridcolor": "white",
            "gridwidth": 2,
            "linecolor": "white",
            "showbackground": true,
            "ticks": "",
            "zerolinecolor": "white"
           },
           "zaxis": {
            "backgroundcolor": "#E5ECF6",
            "gridcolor": "white",
            "gridwidth": 2,
            "linecolor": "white",
            "showbackground": true,
            "ticks": "",
            "zerolinecolor": "white"
           }
          },
          "shapedefaults": {
           "line": {
            "color": "#2a3f5f"
           }
          },
          "ternary": {
           "aaxis": {
            "gridcolor": "white",
            "linecolor": "white",
            "ticks": ""
           },
           "baxis": {
            "gridcolor": "white",
            "linecolor": "white",
            "ticks": ""
           },
           "bgcolor": "#E5ECF6",
           "caxis": {
            "gridcolor": "white",
            "linecolor": "white",
            "ticks": ""
           }
          },
          "title": {
           "x": 0.05
          },
          "xaxis": {
           "automargin": true,
           "gridcolor": "white",
           "linecolor": "white",
           "ticks": "",
           "title": {
            "standoff": 15
           },
           "zerolinecolor": "white",
           "zerolinewidth": 2
          },
          "yaxis": {
           "automargin": true,
           "gridcolor": "white",
           "linecolor": "white",
           "ticks": "",
           "title": {
            "standoff": 15
           },
           "zerolinecolor": "white",
           "zerolinewidth": 2
          }
         }
        },
        "xaxis": {
         "anchor": "y",
         "domain": [
          0,
          1
         ],
         "title": {
          "text": "servicio"
         }
        },
        "yaxis": {
         "anchor": "x",
         "domain": [
          0,
          1
         ],
         "title": {
          "text": "cantidad"
         }
        }
       }
      }
     },
     "metadata": {},
     "output_type": "display_data"
    }
   ],
   "source": [
    "px.bar(\n",
    "    temp,\n",
    "    x='servicio',\n",
    "    y='cantidad',\n",
    ").update_layout(\n",
    "    font = {\n",
    "        'size': 7,\n",
    "    }\n",
    ")"
   ]
  },
  {
   "cell_type": "code",
   "execution_count": null,
   "metadata": {},
   "outputs": [],
   "source": []
  }
 ],
 "metadata": {
  "interpreter": {
   "hash": "b489f5f0b98c537b2ddae295fd9055be66f22914fad94d53407fce555b11e86f"
  },
  "kernelspec": {
   "display_name": "Python 3.9.10 64-bit ('.env': venv)",
   "language": "python",
   "name": "python3"
  },
  "language_info": {
   "codemirror_mode": {
    "name": "ipython",
    "version": 3
   },
   "file_extension": ".py",
   "mimetype": "text/x-python",
   "name": "python",
   "nbconvert_exporter": "python",
   "pygments_lexer": "ipython3",
   "version": "3.9.10"
  },
  "orig_nbformat": 4
 },
 "nbformat": 4,
 "nbformat_minor": 2
}
